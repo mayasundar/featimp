{
 "cells": [
  {
   "cell_type": "markdown",
   "metadata": {},
   "source": [
    "- notes: \n",
    "\n",
    "concatenate all csv files, go thru individually by columns (speech acts), create text column (utterances), and tokenize words. \n",
    "\n",
    "next steps - clean corpus, start analysis of roles, plot bigrams + trigrams"
   ]
  },
  {
   "cell_type": "markdown",
   "metadata": {},
   "source": [
    "# Speech Acts"
   ]
  },
  {
   "cell_type": "code",
   "execution_count": 1,
   "metadata": {
    "collapsed": true
   },
   "outputs": [],
   "source": [
    "from os import listdir\n",
    "import pandas as pd\n",
    "import nltk\n",
    "from nltk import FreqDist\n",
    "from nltk.tokenize import sent_tokenize, word_tokenize \n",
    "from nltk.collocations import *\n",
    "bigram_measures = nltk.collocations.BigramAssocMeasures()\n",
    "trigram_measures = nltk.collocations.TrigramAssocMeasures()\n",
    "import matplotlib\n",
    "import matplotlib.pyplot as plt"
   ]
  },
  {
   "cell_type": "code",
   "execution_count": 2,
   "metadata": {
    "collapsed": true
   },
   "outputs": [],
   "source": [
    "filepaths = [f for f in listdir(\"./\") if f.endswith('.csv')]\n"
   ]
  },
  {
   "cell_type": "code",
   "execution_count": 3,
   "metadata": {
    "collapsed": true
   },
   "outputs": [],
   "source": [
    "df = pd.concat(map(pd.read_csv, filepaths))"
   ]
  },
  {
   "cell_type": "markdown",
   "metadata": {},
   "source": [
    "# Check Column E"
   ]
  },
  {
   "cell_type": "code",
   "execution_count": 4,
   "metadata": {
    "collapsed": true
   },
   "outputs": [],
   "source": [
    "dfE = df[df.E > 0]\n",
    "dfE.columns = ['E', 'P', 'Qc', 'Qi', 'Qr', 'Ra', 'Rm', 'Rd', 'S', 'J', 'N', 'C', 'Speaker', 'Text', 'Utterances', 'Unnamed']"
   ]
  },
  {
   "cell_type": "code",
   "execution_count": 5,
   "metadata": {
    "collapsed": true
   },
   "outputs": [
    {
     "name": "stdout",
     "output_type": "stream",
     "text": [
      "     E  P  Qc  Qi  Qr  Ra  Rm  Rd  S  J  N  C Speaker  \\\n",
      "0    1  2   0   0   0   0   0   0  0  0  0  0       A   \n",
      "1    1  0   0   0   0   1   2   0  0  0  0  0       B   \n",
      "3    2  1   0   0   0   0   0   0  0  3  0  0       B   \n",
      "4    2  1   0   0   0   0   0   0  0  3  1  0       A   \n",
      "5    3  0   0   0   0   0   0   0  0  3  0  0       B   \n",
      "..  .. ..  ..  ..  ..  ..  ..  .. .. .. .. ..     ...   \n",
      "106  3  0   0   0   0   0   2   0  0  1  0  0       B   \n",
      "107  2  0   0   0   0   0   1   0  0  3  0  0       B   \n",
      "108  3  0   0   0   0   0   0   0  0  0  0  0       B   \n",
      "110  2  0   3   0   0   0   0   0  3  0  0  0       B   \n",
      "115  3  0   0   0   0   0   0   0  3  0  0  0       B   \n",
      "\n",
      "                                                  Text Utterances Unnamed  \n",
      "0    so we need this and duplicate like we only hav...        NaN     NaN  \n",
      "1                                      only one bridge        NaN     NaN  \n",
      "3                          can we say if we cross here        NaN     NaN  \n",
      "4                           and then connect to b or e        NaN     NaN  \n",
      "5                         and then comes back this way        NaN     NaN  \n",
      "..                                                 ...        ...     ...  \n",
      "106  because if we have already the point is that i...        NaN     NaN  \n",
      "107  cause it s actually it seems longer from here ...        NaN     NaN  \n",
      "108            kind of you know the idea of a triangle        NaN     NaN  \n",
      "110  are you sure i want to make sure that it s i a...        NaN     NaN  \n",
      "115  i m kind of messy with that i love drawing but...        NaN     NaN  \n",
      "\n",
      "[2654 rows x 16 columns]\n"
     ]
    }
   ],
   "source": [
    "print(dfE)"
   ]
  },
  {
   "cell_type": "code",
   "execution_count": 6,
   "metadata": {
    "collapsed": true
   },
   "outputs": [
    {
     "name": "stdout",
     "output_type": "stream",
     "text": [
      "0      so we need this and duplicate like we only hav...\n",
      "1                                        only one bridge\n",
      "3                            can we say if we cross here\n",
      "4                             and then connect to b or e\n",
      "5                           and then comes back this way\n",
      "                             ...                        \n",
      "106    because if we have already the point is that i...\n",
      "107    cause it s actually it seems longer from here ...\n",
      "108              kind of you know the idea of a triangle\n",
      "110    are you sure i want to make sure that it s i a...\n",
      "115    i m kind of messy with that i love drawing but...\n",
      "Name: Text, Length: 2654, dtype: object\n"
     ]
    }
   ],
   "source": [
    "print(dfE.Text)"
   ]
  },
  {
   "cell_type": "code",
   "execution_count": 7,
   "metadata": {
    "collapsed": true
   },
   "outputs": [],
   "source": [
    "mask = [isinstance(item, (str, bytes)) for item in dfE.Text]\n",
    "dfE = dfE.loc[mask]\n",
    "dfE.Text = dfE.Text.astype(str)"
   ]
  },
  {
   "cell_type": "code",
   "execution_count": 8,
   "metadata": {
    "collapsed": true
   },
   "outputs": [
    {
     "name": "stdout",
     "output_type": "stream",
     "text": [
      "0      so we need this and duplicate like we only hav...\n",
      "1                                        only one bridge\n",
      "3                            can we say if we cross here\n",
      "4                             and then connect to b or e\n",
      "5                           and then comes back this way\n",
      "                             ...                        \n",
      "106    because if we have already the point is that i...\n",
      "107    cause it s actually it seems longer from here ...\n",
      "108              kind of you know the idea of a triangle\n",
      "110    are you sure i want to make sure that it s i a...\n",
      "115    i m kind of messy with that i love drawing but...\n",
      "Name: Text, Length: 1908, dtype: object\n"
     ]
    }
   ],
   "source": [
    "dfE = dfE.Text\n",
    "print(dfE)"
   ]
  },
  {
   "cell_type": "code",
   "execution_count": 9,
   "metadata": {
    "collapsed": true
   },
   "outputs": [
    {
     "name": "stdout",
     "output_type": "stream",
     "text": [
      "All frequencies\n",
      "===================================\n",
      "                   Word  Frequency\n",
      "0             let s see         10\n",
      "1                    so          9\n",
      "2              and then          9\n",
      "3                  yeah          6\n",
      "4                  this          5\n",
      "5          i don t know          5\n",
      "6                  here          4\n",
      "7                    no          4\n",
      "8                   hmm          4\n",
      "9                   and          4\n",
      "10                three          3\n",
      "11            like that          3\n",
      "12              one two          2\n",
      "13           let me see          2\n",
      "14     this one i guess          2\n",
      "15                    h          2\n",
      "16          i like that          2\n",
      "17                 wait          2\n",
      "18                there          2\n",
      "19                draws          2\n",
      "20                 done          2\n",
      "21                  but          2\n",
      "22         let me think          2\n",
      "23  i think we are good          2\n",
      "24                 well          2\n"
     ]
    }
   ],
   "source": [
    "top_N = 25\n",
    "word_dist = nltk.FreqDist(dfE)\n",
    "print('All frequencies')\n",
    "print('='*35)\n",
    "rslt=pd.DataFrame(word_dist.most_common(top_N),columns=['Word','Frequency'])\n",
    "print(rslt)"
   ]
  },
  {
   "cell_type": "code",
   "execution_count": 10,
   "metadata": {
    "collapsed": true
   },
   "outputs": [
    {
     "data": {
      "text/plain": [
       "<AxesSubplot:xlabel='Word'>"
      ]
     },
     "execution_count": 10,
     "metadata": {},
     "output_type": "execute_result"
    },
    {
     "data": {
      "image/png": "[encoded data removed]",
      "text/plain": [
       "<Figure size 432x288 with 1 Axes>"
      ]
     },
     "metadata": {},
     "output_type": "display_data"
    }
   ],
   "source": [
    "t_N = 10\n",
    "r = pd.DataFrame(word_dist.most_common(t_N),\n",
    "                    columns=['Word', 'Frequency']).set_index('Word')\n",
    "matplotlib.style.use('ggplot')\n",
    "r.plot.bar(rot=0, width=0.5)"
   ]
  },
  {
   "cell_type": "code",
   "execution_count": 11,
   "metadata": {
    "collapsed": true
   },
   "outputs": [
    {
     "name": "stdout",
     "output_type": "stream",
     "text": [
      "0      [so, we, need, this, and, duplicate, like, we,...\n",
      "1                                    [only, one, bridge]\n",
      "3                    [can, we, say, if, we, cross, here]\n",
      "4                     [and, then, connect, to, b, or, e]\n",
      "5                    [and, then, comes, back, this, way]\n",
      "                             ...                        \n",
      "106    [because, if, we, have, already, the, point, i...\n",
      "107    [cause, it, s, actually, it, seems, longer, fr...\n",
      "108    [kind, of, you, know, the, idea, of, a, triangle]\n",
      "110    [are, you, sure, i, want, to, make, sure, that...\n",
      "115    [i, m, kind, of, messy, with, that, i, love, d...\n",
      "Name: Text, Length: 1908, dtype: object\n"
     ]
    }
   ],
   "source": [
    "dft = dfE.apply(nltk.word_tokenize)\n",
    "print(dft)"
   ]
  },
  {
   "cell_type": "code",
   "execution_count": 12,
   "metadata": {
    "collapsed": true
   },
   "outputs": [],
   "source": [
    "lists =  dft\n",
    "words = []\n",
    "for wordList in lists:\n",
    "    words += wordList\n",
    "fdist = FreqDist(words)"
   ]
  },
  {
   "cell_type": "markdown",
   "metadata": {},
   "source": [
    "### Unigram"
   ]
  },
  {
   "cell_type": "code",
   "execution_count": 13,
   "metadata": {
    "collapsed": true
   },
   "outputs": [
    {
     "name": "stdout",
     "output_type": "stream",
     "text": [
      "All frequencies\n",
      "===================================\n",
      "    Word  Frequency\n",
      "0     to        846\n",
      "1    the        749\n",
      "2      i        693\n",
      "3     we        644\n",
      "4     it        611\n",
      "5    and        540\n",
      "6   this        493\n",
      "7   that        484\n",
      "8     so        479\n",
      "9      s        443\n",
      "10  then        406\n",
      "11  like        376\n",
      "12  here        364\n",
      "13     a        359\n",
      "14   you        335\n",
      "15    go        323\n",
      "16    is        299\n",
      "17  have        287\n",
      "18    if        275\n",
      "19    be        248\n",
      "20     t        241\n",
      "21   one        225\n",
      "22  back        214\n",
      "23  just        206\n",
      "24  yeah        201\n"
     ]
    }
   ],
   "source": [
    "top_N = 25\n",
    "word_dist = nltk.FreqDist(fdist)\n",
    "print('All frequencies')\n",
    "print('='*35)\n",
    "rslt=pd.DataFrame(word_dist.most_common(top_N),columns=['Word','Frequency'])\n",
    "print(rslt)"
   ]
  },
  {
   "cell_type": "code",
   "execution_count": 14,
   "metadata": {
    "collapsed": true
   },
   "outputs": [
    {
     "data": {
      "text/plain": [
       "<AxesSubplot:xlabel='Word'>"
      ]
     },
     "execution_count": 14,
     "metadata": {},
     "output_type": "execute_result"
    },
    {
     "data": {
      "image/png": "[encoded data removed]",
      "text/plain": [
       "<Figure size 432x288 with 1 Axes>"
      ]
     },
     "metadata": {},
     "output_type": "display_data"
    }
   ],
   "source": [
    "t_N = 10\n",
    "r = pd.DataFrame(word_dist.most_common(t_N),\n",
    "                    columns=['Word', 'Frequency']).set_index('Word')\n",
    "matplotlib.style.use('ggplot')\n",
    "r.plot.bar(rot=0, width=0.5)"
   ]
  },
  {
   "cell_type": "markdown",
   "metadata": {},
   "source": [
    "### Bigram"
   ]
  },
  {
   "cell_type": "code",
   "execution_count": 15,
   "metadata": {
    "collapsed": true
   },
   "outputs": [
    {
     "data": {
      "text/plain": [
       "[(('and', 'then'), 221),\n",
       " (('it', 's'), 191),\n",
       " (('have', 'to'), 185),\n",
       " (('i', 'think'), 137),\n",
       " (('to', 'go'), 129),\n",
       " (('that', 's'), 124),\n",
       " (('if', 'we'), 122),\n",
       " (('don', 't'), 118),\n",
       " (('we', 'can'), 93),\n",
       " (('this', 'is'), 83),\n",
       " (('this', 'way'), 82),\n",
       " (('i', 'don'), 80),\n",
       " (('would', 'be'), 73),\n",
       " (('let', 's'), 69),\n",
       " (('the', 'same'), 68),\n",
       " (('here', 'and'), 65),\n",
       " (('so', 'we'), 64),\n",
       " (('we', 'have'), 64),\n",
       " (('i', 'm'), 64),\n",
       " (('like', 'this'), 63),\n",
       " (('i', 'mean'), 63),\n",
       " (('going', 'to'), 61),\n",
       " (('to', 'be'), 60),\n",
       " (('so', 'i'), 60),\n",
       " (('the', 'base'), 59)]"
      ]
     },
     "execution_count": 15,
     "metadata": {},
     "output_type": "execute_result"
    }
   ],
   "source": [
    "word_fd = nltk.FreqDist(words)\n",
    "bigram_fd = nltk.FreqDist(nltk.bigrams(words))\n",
    "bigram_fd.most_common(25)"
   ]
  },
  {
   "cell_type": "markdown",
   "metadata": {},
   "source": [
    "### Trigram"
   ]
  },
  {
   "cell_type": "code",
   "execution_count": 16,
   "metadata": {
    "collapsed": true
   },
   "outputs": [
    {
     "data": {
      "text/plain": [
       "[(('i', 'don', 't'), 80),\n",
       " (('have', 'to', 'go'), 58),\n",
       " (('don', 't', 'know'), 52),\n",
       " (('we', 'have', 'to'), 44),\n",
       " (('let', 's', 'see'), 40),\n",
       " (('to', 'go', 'back'), 35),\n",
       " (('here', 'and', 'then'), 33),\n",
       " (('you', 'have', 'to'), 28),\n",
       " (('i', 'think', 'that'), 24),\n",
       " (('here', 'here', 'here'), 24),\n",
       " (('it', 'would', 'be'), 24),\n",
       " (('that', 's', 'the'), 23),\n",
       " (('i', 'think', 'it'), 23),\n",
       " (('we', 'don', 't'), 23),\n",
       " (('t', 'have', 'to'), 23),\n",
       " (('go', 'this', 'way'), 22),\n",
       " (('all', 'the', 'way'), 22),\n",
       " (('this', 'is', 'the'), 20),\n",
       " (('that', 'would', 'be'), 20),\n",
       " (('i', 'think', 'we'), 20),\n",
       " (('one', 'two', 'three'), 20),\n",
       " (('don', 't', 'think'), 20),\n",
       " (('two', 'three', 'four'), 19),\n",
       " (('and', 'then', 'go'), 18),\n",
       " (('is', 'the', 'base'), 18)]"
      ]
     },
     "execution_count": 16,
     "metadata": {},
     "output_type": "execute_result"
    }
   ],
   "source": [
    "word_fd = nltk.FreqDist(words)\n",
    "trigram_fd = nltk.FreqDist(nltk.trigrams(words))\n",
    "trigram_fd.most_common(25)"
   ]
  },
  {
   "cell_type": "markdown",
   "metadata": {},
   "source": [
    "# Check Column P"
   ]
  },
  {
   "cell_type": "code",
   "execution_count": 17,
   "metadata": {
    "collapsed": true
   },
   "outputs": [],
   "source": [
    "dfP = df[df.P > 0]\n",
    "dfP.columns = ['E', 'P', 'Qc', 'Qi', 'Qr', 'Ra', 'Rm', 'Rd', 'S', 'J', 'N', 'C', 'Speaker', 'Text', 'Utterances', 'Unnamed']"
   ]
  },
  {
   "cell_type": "code",
   "execution_count": 18,
   "metadata": {
    "collapsed": true
   },
   "outputs": [
    {
     "name": "stdout",
     "output_type": "stream",
     "text": [
      "     E  P  Qc  Qi  Qr  Ra  Rm  Rd  S  J  N  C Speaker  \\\n",
      "0    1  2   0   0   0   0   0   0  0  0  0  0       A   \n",
      "3    2  1   0   0   0   0   0   0  0  3  0  0       B   \n",
      "4    2  1   0   0   0   0   0   0  0  3  1  0       A   \n",
      "6    3  1   0   0   0   0   0   0  0  3  1  0       A   \n",
      "10   2  1   0   0   0   0   0   0  0  0  0  0       A   \n",
      "..  .. ..  ..  ..  ..  ..  ..  .. .. .. .. ..     ...   \n",
      "51   1  2   0   0   0   0   0   0  0  0  0  0       A   \n",
      "98   1  2   0   0   0   0   0   0  0  3  0  0       B   \n",
      "99   3  3   0   1   0   0   0   0  0  2  0  0       B   \n",
      "113  0  1   0   0   0   0   0   0  3  0  0  0       B   \n",
      "114  0  1   2   0   0   0   0   0  0  0  0  0       A   \n",
      "\n",
      "                                                  Text Utterances Unnamed  \n",
      "0    so we need this and duplicate like we only hav...        NaN     NaN  \n",
      "3                          can we say if we cross here        NaN     NaN  \n",
      "4                           and then connect to b or e        NaN     NaN  \n",
      "6    yeah or what i am thinking is can it connect t...        NaN     NaN  \n",
      "10   i guess this will we could just have a brainst...        NaN     NaN  \n",
      "..                                                 ...        ...     ...  \n",
      "51      right now i think that this should be the base        NaN     NaN  \n",
      "98   so let s take it for granted that we are start...        NaN     NaN  \n",
      "99   do you see what i am saying instead of connect...        NaN     NaN  \n",
      "113      okay i guess you can do that cause scary part        NaN     NaN  \n",
      "114                       did you want to draw that in        NaN     NaN  \n",
      "\n",
      "[826 rows x 16 columns]\n"
     ]
    }
   ],
   "source": [
    "print(dfP)"
   ]
  },
  {
   "cell_type": "code",
   "execution_count": 19,
   "metadata": {
    "collapsed": true
   },
   "outputs": [
    {
     "name": "stdout",
     "output_type": "stream",
     "text": [
      "0      so we need this and duplicate like we only hav...\n",
      "3                            can we say if we cross here\n",
      "4                             and then connect to b or e\n",
      "6      yeah or what i am thinking is can it connect t...\n",
      "10     i guess this will we could just have a brainst...\n",
      "                             ...                        \n",
      "51        right now i think that this should be the base\n",
      "98     so let s take it for granted that we are start...\n",
      "99     do you see what i am saying instead of connect...\n",
      "113        okay i guess you can do that cause scary part\n",
      "114                         did you want to draw that in\n",
      "Name: Text, Length: 826, dtype: object\n"
     ]
    }
   ],
   "source": [
    "print(dfP.Text)"
   ]
  },
  {
   "cell_type": "code",
   "execution_count": 20,
   "metadata": {
    "collapsed": true
   },
   "outputs": [],
   "source": [
    "mask = [isinstance(item, (str, bytes)) for item in dfP.Text]\n",
    "dfP = dfP.loc[mask]\n",
    "dfP.Text = dfP.Text.astype(str)"
   ]
  },
  {
   "cell_type": "code",
   "execution_count": 21,
   "metadata": {
    "collapsed": true
   },
   "outputs": [
    {
     "name": "stdout",
     "output_type": "stream",
     "text": [
      "0      so we need this and duplicate like we only hav...\n",
      "3                            can we say if we cross here\n",
      "4                             and then connect to b or e\n",
      "6      yeah or what i am thinking is can it connect t...\n",
      "10     i guess this will we could just have a brainst...\n",
      "                             ...                        \n",
      "51        right now i think that this should be the base\n",
      "98     so let s take it for granted that we are start...\n",
      "99     do you see what i am saying instead of connect...\n",
      "113        okay i guess you can do that cause scary part\n",
      "114                         did you want to draw that in\n",
      "Name: Text, Length: 617, dtype: object\n"
     ]
    }
   ],
   "source": [
    "dfPT = dfP.Text\n",
    "print (dfPT)"
   ]
  },
  {
   "cell_type": "code",
   "execution_count": 22,
   "metadata": {
    "collapsed": true
   },
   "outputs": [
    {
     "name": "stdout",
     "output_type": "stream",
     "text": [
      "All frequencies\n",
      "===================================\n",
      "                                                 Word  Frequency\n",
      "0                                       yeah go ahead          2\n",
      "1                                            and then          2\n",
      "2                                                down          2\n",
      "3                                                   j          2\n",
      "4                                            shall we          2\n",
      "5                                           let s see          2\n",
      "6                                               there          2\n",
      "7                                          start here          2\n",
      "8                                        try it again          2\n",
      "9                                                yeah          2\n",
      "10                                          like that          2\n",
      "11  so we need this and duplicate like we only hav...          1\n",
      "12                        can we say if we cross here          1\n",
      "13                         and then connect to b or e          1\n",
      "14  yeah or what i am thinking is can it connect t...          1\n",
      "15  i guess this will we could just have a brainst...          1\n",
      "16  so for example if this is this is one route li...          1\n",
      "17                        because like you you cannot          1\n",
      "18                     you cannot cross the mountains          1\n",
      "19           we will come from g h d g f and go up to          1\n",
      "20  this thing i mean i can share my previous expe...          1\n",
      "21  yes i would say that if we can circle b i thin...          1\n",
      "22  if we can cross once the river and then go to ...          1\n",
      "23       make a loop here come to c j and we can turn          1\n",
      "24  can we make a middle a middle road of across a...          1\n"
     ]
    }
   ],
   "source": [
    "top_N = 25\n",
    "word_dist = nltk.FreqDist(dfP.Text)\n",
    "print('All frequencies')\n",
    "print('='*35)\n",
    "rslt=pd.DataFrame(word_dist.most_common(top_N),columns=['Word','Frequency'])\n",
    "print(rslt)"
   ]
  },
  {
   "cell_type": "code",
   "execution_count": 23,
   "metadata": {
    "collapsed": true
   },
   "outputs": [
    {
     "data": {
      "text/plain": [
       "<AxesSubplot:xlabel='Word'>"
      ]
     },
     "execution_count": 23,
     "metadata": {},
     "output_type": "execute_result"
    },
    {
     "data": {
      "image/png": "[encoded data removed]",
      "text/plain": [
       "<Figure size 432x288 with 1 Axes>"
      ]
     },
     "metadata": {},
     "output_type": "display_data"
    }
   ],
   "source": [
    "t_N = 10\n",
    "r = pd.DataFrame(word_dist.most_common(t_N),\n",
    "                    columns=['Word', 'Frequency']).set_index('Word')\n",
    "matplotlib.style.use('ggplot')\n",
    "r.plot.bar(rot=90, width=0.5)"
   ]
  },
  {
   "cell_type": "code",
   "execution_count": 24,
   "metadata": {
    "collapsed": true
   },
   "outputs": [
    {
     "name": "stdout",
     "output_type": "stream",
     "text": [
      "0      [so, we, need, this, and, duplicate, like, we,...\n",
      "3                    [can, we, say, if, we, cross, here]\n",
      "4                     [and, then, connect, to, b, or, e]\n",
      "6      [yeah, or, what, i, am, thinking, is, can, it,...\n",
      "10     [i, guess, this, will, we, could, just, have, ...\n",
      "                             ...                        \n",
      "51     [right, now, i, think, that, this, should, be,...\n",
      "98     [so, let, s, take, it, for, granted, that, we,...\n",
      "99     [do, you, see, what, i, am, saying, instead, o...\n",
      "113    [okay, i, guess, you, can, do, that, cause, sc...\n",
      "114                 [did, you, want, to, draw, that, in]\n",
      "Name: Text, Length: 617, dtype: object\n"
     ]
    }
   ],
   "source": [
    "dft = dfP.Text.apply(nltk.word_tokenize)\n",
    "print(dft)"
   ]
  },
  {
   "cell_type": "code",
   "execution_count": 25,
   "metadata": {
    "collapsed": true
   },
   "outputs": [],
   "source": [
    "lists =  dft\n",
    "words = []\n",
    "for wordList in lists:\n",
    "    words += wordList\n",
    "fdist = FreqDist(words)"
   ]
  },
  {
   "cell_type": "markdown",
   "metadata": {},
   "source": [
    "### Unigram"
   ]
  },
  {
   "cell_type": "code",
   "execution_count": 26,
   "metadata": {
    "collapsed": true
   },
   "outputs": [
    {
     "name": "stdout",
     "output_type": "stream",
     "text": [
      "All frequencies\n",
      "===================================\n",
      "     Word  Frequency\n",
      "0      we        273\n",
      "1      to        263\n",
      "2     the        219\n",
      "3     and        208\n",
      "4    then        200\n",
      "5    this        196\n",
      "6    here        185\n",
      "7      so        179\n",
      "8      it        165\n",
      "9       i        157\n",
      "10   that        147\n",
      "11     go        130\n",
      "12   like        124\n",
      "13      a        120\n",
      "14      s        118\n",
      "15    you        105\n",
      "16     if         88\n",
      "17     do         78\n",
      "18    can         77\n",
      "19   just         75\n",
      "20    one         70\n",
      "21     be         69\n",
      "22     is         68\n",
      "23   have         66\n",
      "24  think         66\n"
     ]
    }
   ],
   "source": [
    "top_N = 25\n",
    "word_dist = nltk.FreqDist(fdist)\n",
    "print('All frequencies')\n",
    "print('='*35)\n",
    "rslt=pd.DataFrame(word_dist.most_common(top_N),columns=['Word','Frequency'])\n",
    "print(rslt)"
   ]
  },
  {
   "cell_type": "code",
   "execution_count": 27,
   "metadata": {
    "collapsed": true
   },
   "outputs": [
    {
     "data": {
      "text/plain": [
       "<AxesSubplot:xlabel='Word'>"
      ]
     },
     "execution_count": 27,
     "metadata": {},
     "output_type": "execute_result"
    },
    {
     "data": {
      "image/png": "[encoded data removed]",
      "text/plain": [
       "<Figure size 432x288 with 1 Axes>"
      ]
     },
     "metadata": {},
     "output_type": "display_data"
    }
   ],
   "source": [
    "t_N = 10\n",
    "r = pd.DataFrame(word_dist.most_common(t_N),\n",
    "                    columns=['Word', 'Frequency']).set_index('Word')\n",
    "matplotlib.style.use('ggplot')\n",
    "r.plot.bar(rot=0, width=0.5)"
   ]
  },
  {
   "cell_type": "markdown",
   "metadata": {},
   "source": [
    "### Bigram"
   ]
  },
  {
   "cell_type": "code",
   "execution_count": 28,
   "metadata": {
    "collapsed": true
   },
   "outputs": [
    {
     "data": {
      "text/plain": [
       "[(('and', 'then'), 117),\n",
       " (('i', 'think'), 54),\n",
       " (('let', 's'), 54),\n",
       " (('if', 'we'), 45),\n",
       " (('have', 'to'), 44),\n",
       " (('we', 'can'), 41),\n",
       " (('this', 'way'), 35),\n",
       " (('to', 'go'), 32),\n",
       " (('this', 'one'), 31),\n",
       " (('so', 'we'), 28),\n",
       " (('like', 'this'), 28),\n",
       " (('it', 's'), 27),\n",
       " (('here', 'and'), 26),\n",
       " (('that', 's'), 26),\n",
       " (('here', 'here'), 24),\n",
       " (('so', 'let'), 23),\n",
       " (('the', 'bridge'), 23),\n",
       " (('we', 'could'), 22),\n",
       " (('we', 'have'), 22),\n",
       " (('don', 't'), 21),\n",
       " (('this', 'is'), 20),\n",
       " (('then', 'we'), 20),\n",
       " (('here', 'so'), 19),\n",
       " (('would', 'be'), 19),\n",
       " (('want', 'to'), 19)]"
      ]
     },
     "execution_count": 28,
     "metadata": {},
     "output_type": "execute_result"
    }
   ],
   "source": [
    "word_fd = nltk.FreqDist(words)\n",
    "bigram_fd = nltk.FreqDist(nltk.bigrams(words))\n",
    "bigram_fd.most_common(25)"
   ]
  },
  {
   "cell_type": "markdown",
   "metadata": {},
   "source": [
    "### Trigram"
   ]
  },
  {
   "cell_type": "code",
   "execution_count": 29,
   "metadata": {
    "collapsed": true
   },
   "outputs": [
    {
     "data": {
      "text/plain": [
       "[(('so', 'let', 's'), 23),\n",
       " (('here', 'and', 'then'), 18),\n",
       " (('we', 'have', 'to'), 15),\n",
       " (('what', 'if', 'we'), 14),\n",
       " (('here', 'here', 'here'), 14),\n",
       " (('go', 'this', 'way'), 12),\n",
       " (('i', 'think', 'that'), 11),\n",
       " (('and', 'then', 'go'), 11),\n",
       " (('you', 'want', 'to'), 11),\n",
       " (('have', 'to', 'go'), 10),\n",
       " (('i', 'think', 'we'), 10),\n",
       " (('go', 'like', 'this'), 9),\n",
       " (('i', 'think', 'it'), 9),\n",
       " (('let', 's', 'see'), 9),\n",
       " (('like', 'this', 'and'), 8),\n",
       " (('i', 'don', 't'), 8),\n",
       " (('don', 't', 'know'), 8),\n",
       " (('we', 'could', 'do'), 8),\n",
       " (('and', 'then', 'we'), 8),\n",
       " (('that', 'and', 'then'), 8),\n",
       " (('this', 'way', 'and'), 8),\n",
       " (('it', 'would', 'be'), 8),\n",
       " (('this', 'this', 'this'), 7),\n",
       " (('we', 'can', 'go'), 7),\n",
       " (('let', 's', 'try'), 7)]"
      ]
     },
     "execution_count": 29,
     "metadata": {},
     "output_type": "execute_result"
    }
   ],
   "source": [
    "word_fd = nltk.FreqDist(words)\n",
    "trigram_fd = nltk.FreqDist(nltk.trigrams(words))\n",
    "trigram_fd.most_common(25)"
   ]
  },
  {
   "cell_type": "markdown",
   "metadata": {},
   "source": [
    "# Check Column Qc"
   ]
  },
  {
   "cell_type": "code",
   "execution_count": 30,
   "metadata": {
    "collapsed": true
   },
   "outputs": [],
   "source": [
    "dfQc = df[df.Qc > 0]\n",
    "dfQc.columns = ['E', 'P', 'Qc', 'Qi', 'Qr', 'Ra', 'Rm', 'Rd', 'S', 'J', 'N', 'C', 'Speaker', 'Text', 'Utterances', 'Unnamed']"
   ]
  },
  {
   "cell_type": "code",
   "execution_count": 31,
   "metadata": {
    "collapsed": true
   },
   "outputs": [
    {
     "name": "stdout",
     "output_type": "stream",
     "text": [
      "     E  P  Qc  Qi  Qr  Ra  Rm  Rd  S  J  N  C Speaker  \\\n",
      "12   3  0   1   0   0   0   0   0  0  0  0  0       B   \n",
      "18   3  0   1   0   0   0   0   0  0  3  0  0       A   \n",
      "19   0  0   1   1   0   1   0   0  0  0  0  0       B   \n",
      "23   0  0   1   2   0   0   0   0  0  0  0  0       A   \n",
      "39   1  0   1   1   0   0   0   0  0  3  0  0       A   \n",
      "..  .. ..  ..  ..  ..  ..  ..  .. .. .. .. ..     ...   \n",
      "61   0  0   2   1   0   0   0   0  0  0  0  0       B   \n",
      "96   0  0   3   0   0   0   0   0  0  2  0  1       B   \n",
      "102  3  0   2   0   0   0   0   0  0  0  0  0       A   \n",
      "110  2  0   3   0   0   0   0   0  3  0  0  0       B   \n",
      "114  0  1   2   0   0   0   0   0  0  0  0  0       A   \n",
      "\n",
      "                                                  Text Utterances Unnamed  \n",
      "12                                       to go through        NaN     NaN  \n",
      "18                   yeah so this one may be confirmed        NaN     NaN  \n",
      "19                                  that was confirmed        NaN     NaN  \n",
      "23                                            this one        NaN     NaN  \n",
      "39           if b as the base then we can go like this        NaN     NaN  \n",
      "..                                                 ...        ...     ...  \n",
      "61   let s see if we did do that so where would you...        NaN     NaN  \n",
      "96   do we have to connect it here is that shorter ...        NaN     NaN  \n",
      "102  because we have to account for the building ma...        NaN     NaN  \n",
      "110  are you sure i want to make sure that it s i a...        NaN     NaN  \n",
      "114                       did you want to draw that in        NaN     NaN  \n",
      "\n",
      "[643 rows x 16 columns]\n"
     ]
    }
   ],
   "source": [
    "print(dfQc)"
   ]
  },
  {
   "cell_type": "code",
   "execution_count": 32,
   "metadata": {
    "collapsed": true
   },
   "outputs": [
    {
     "name": "stdout",
     "output_type": "stream",
     "text": [
      "12                                         to go through\n",
      "18                     yeah so this one may be confirmed\n",
      "19                                    that was confirmed\n",
      "23                                              this one\n",
      "39             if b as the base then we can go like this\n",
      "                             ...                        \n",
      "61     let s see if we did do that so where would you...\n",
      "96     do we have to connect it here is that shorter ...\n",
      "102    because we have to account for the building ma...\n",
      "110    are you sure i want to make sure that it s i a...\n",
      "114                         did you want to draw that in\n",
      "Name: Text, Length: 643, dtype: object\n"
     ]
    }
   ],
   "source": [
    "print(dfQc.Text)"
   ]
  },
  {
   "cell_type": "code",
   "execution_count": 33,
   "metadata": {
    "collapsed": true
   },
   "outputs": [],
   "source": [
    "mask = [isinstance(item, (str, bytes)) for item in dfQc.Text]\n",
    "dfQc = dfQc.loc[mask]\n",
    "dfQc.Text = dfQc.Text.astype(str)"
   ]
  },
  {
   "cell_type": "code",
   "execution_count": 34,
   "metadata": {
    "collapsed": true
   },
   "outputs": [
    {
     "name": "stdout",
     "output_type": "stream",
     "text": [
      "12                                         to go through\n",
      "18                     yeah so this one may be confirmed\n",
      "19                                    that was confirmed\n",
      "23                                              this one\n",
      "39             if b as the base then we can go like this\n",
      "                             ...                        \n",
      "61     let s see if we did do that so where would you...\n",
      "96     do we have to connect it here is that shorter ...\n",
      "102    because we have to account for the building ma...\n",
      "110    are you sure i want to make sure that it s i a...\n",
      "114                         did you want to draw that in\n",
      "Name: Text, Length: 504, dtype: object\n"
     ]
    }
   ],
   "source": [
    "dfQc = dfQc.Text\n",
    "print(dfQc)"
   ]
  },
  {
   "cell_type": "code",
   "execution_count": 35,
   "metadata": {
    "collapsed": true
   },
   "outputs": [
    {
     "name": "stdout",
     "output_type": "stream",
     "text": [
      "All frequencies\n",
      "===================================\n",
      "                                                 Word  Frequency\n",
      "0                                               right          8\n",
      "1                                   what do you think          6\n",
      "2                                                yeah          5\n",
      "3                                you know what i mean          4\n",
      "4                                does that make sense          3\n",
      "5                           does e sound right to you          2\n",
      "6                             do you want me to do it          2\n",
      "7                                    what do you mean          2\n",
      "8                             do you know what i mean          2\n",
      "9                                                  or          2\n",
      "10                                      to go through          1\n",
      "11                  yeah so this one may be confirmed          1\n",
      "12                                 that was confirmed          1\n",
      "13                                           this one          1\n",
      "14          if b as the base then we can go like this          1\n",
      "15  but i i think here what do you think its the b...          1\n",
      "16  can we make a middle a middle road of across a...          1\n",
      "17  or can we go to first to a and then to e and c...          1\n",
      "18  maybe we can try for example if we go like thi...          1\n",
      "19                 yeah then we come here as the base          1\n",
      "20                                              is it          1\n",
      "21                                         yeah wanna          1\n",
      "22                           or should i go like this          1\n",
      "23            what do you think could be best kind of          1\n",
      "24  should we share with each other what we did fo...          1\n"
     ]
    }
   ],
   "source": [
    "top_N = 25\n",
    "word_dist = nltk.FreqDist(dfQc)\n",
    "print('All frequencies')\n",
    "print('='*35)\n",
    "rslt=pd.DataFrame(word_dist.most_common(top_N),columns=['Word','Frequency'])\n",
    "print(rslt)"
   ]
  },
  {
   "cell_type": "code",
   "execution_count": 36,
   "metadata": {
    "collapsed": true
   },
   "outputs": [
    {
     "data": {
      "text/plain": [
       "<AxesSubplot:xlabel='Word'>"
      ]
     },
     "execution_count": 36,
     "metadata": {},
     "output_type": "execute_result"
    },
    {
     "data": {
      "image/png": "[encoded data removed]",
      "text/plain": [
       "<Figure size 432x288 with 1 Axes>"
      ]
     },
     "metadata": {},
     "output_type": "display_data"
    }
   ],
   "source": [
    "t_N = 10\n",
    "r = pd.DataFrame(word_dist.most_common(t_N),\n",
    "                    columns=['Word', 'Frequency']).set_index('Word')\n",
    "matplotlib.style.use('ggplot')\n",
    "r.plot.bar(rot=90, width=0.5)"
   ]
  },
  {
   "cell_type": "code",
   "execution_count": 37,
   "metadata": {
    "collapsed": true
   },
   "outputs": [
    {
     "name": "stdout",
     "output_type": "stream",
     "text": [
      "12                                     [to, go, through]\n",
      "18             [yeah, so, this, one, may, be, confirmed]\n",
      "19                                [that, was, confirmed]\n",
      "23                                           [this, one]\n",
      "39     [if, b, as, the, base, then, we, can, go, like...\n",
      "                             ...                        \n",
      "61     [let, s, see, if, we, did, do, that, so, where...\n",
      "96     [do, we, have, to, connect, it, here, is, that...\n",
      "102    [because, we, have, to, account, for, the, bui...\n",
      "110    [are, you, sure, i, want, to, make, sure, that...\n",
      "114                 [did, you, want, to, draw, that, in]\n",
      "Name: Text, Length: 504, dtype: object\n"
     ]
    }
   ],
   "source": [
    "dft = dfQc.apply(nltk.word_tokenize)\n",
    "print(dft)"
   ]
  },
  {
   "cell_type": "code",
   "execution_count": 38,
   "metadata": {
    "collapsed": true
   },
   "outputs": [],
   "source": [
    "lists =  dft\n",
    "words = []\n",
    "for wordList in lists:\n",
    "    words += wordList\n",
    "fdist = FreqDist(words)"
   ]
  },
  {
   "cell_type": "markdown",
   "metadata": {},
   "source": [
    "### Unigram"
   ]
  },
  {
   "cell_type": "code",
   "execution_count": 39,
   "metadata": {
    "collapsed": true
   },
   "outputs": [
    {
     "name": "stdout",
     "output_type": "stream",
     "text": [
      "All frequencies\n",
      "===================================\n",
      "     Word  Frequency\n",
      "0      to        202\n",
      "1      we        182\n",
      "2      it        150\n",
      "3     you        146\n",
      "4      do        128\n",
      "5    that        127\n",
      "6     the        126\n",
      "7     and        116\n",
      "8    this        107\n",
      "9      so        101\n",
      "10  right         98\n",
      "11     go         92\n",
      "12   here         92\n",
      "13   then         86\n",
      "14      i         85\n",
      "15   what         85\n",
      "16   like         80\n",
      "17     is         77\n",
      "18      s         68\n",
      "19      a         66\n",
      "20     if         63\n",
      "21     be         61\n",
      "22     or         56\n",
      "23   have         54\n",
      "24  think         52\n"
     ]
    }
   ],
   "source": [
    "top_N = 25\n",
    "word_dist = nltk.FreqDist(fdist)\n",
    "print('All frequencies')\n",
    "print('='*35)\n",
    "rslt=pd.DataFrame(word_dist.most_common(top_N),columns=['Word','Frequency'])\n",
    "print(rslt)"
   ]
  },
  {
   "cell_type": "code",
   "execution_count": 40,
   "metadata": {
    "collapsed": true
   },
   "outputs": [
    {
     "data": {
      "text/plain": [
       "<AxesSubplot:xlabel='Word'>"
      ]
     },
     "execution_count": 40,
     "metadata": {},
     "output_type": "execute_result"
    },
    {
     "data": {
      "image/png": "[encoded data removed]",
      "text/plain": [
       "<Figure size 432x288 with 1 Axes>"
      ]
     },
     "metadata": {},
     "output_type": "display_data"
    }
   ],
   "source": [
    "t_N = 10\n",
    "r = pd.DataFrame(word_dist.most_common(t_N),\n",
    "                    columns=['Word', 'Frequency']).set_index('Word')\n",
    "matplotlib.style.use('ggplot')\n",
    "r.plot.bar(rot=0, width=0.5)"
   ]
  },
  {
   "cell_type": "markdown",
   "metadata": {},
   "source": [
    "### Bigram"
   ]
  },
  {
   "cell_type": "code",
   "execution_count": 41,
   "metadata": {
    "collapsed": true
   },
   "outputs": [
    {
     "data": {
      "text/plain": [
       "[(('do', 'you'), 67),\n",
       " (('and', 'then'), 46),\n",
       " (('you', 'think'), 37),\n",
       " (('to', 'go'), 34),\n",
       " (('have', 'to'), 32),\n",
       " (('want', 'to'), 31),\n",
       " (('if', 'we'), 30),\n",
       " (('you', 'want'), 30),\n",
       " (('what', 'if'), 23),\n",
       " (('it', 's'), 23),\n",
       " (('don', 't'), 23),\n",
       " (('we', 'have'), 22),\n",
       " (('that', 's'), 22),\n",
       " (('do', 'we'), 20),\n",
       " (('this', 'way'), 20),\n",
       " (('like', 'this'), 19),\n",
       " (('should', 'we'), 19),\n",
       " (('we', 'can'), 18),\n",
       " (('what', 'do'), 18),\n",
       " (('is', 'that'), 18),\n",
       " (('here', 'and'), 16),\n",
       " (('the', 'base'), 15),\n",
       " (('would', 'be'), 15),\n",
       " (('so', 'we'), 15),\n",
       " (('right', 'and'), 14)]"
      ]
     },
     "execution_count": 41,
     "metadata": {},
     "output_type": "execute_result"
    }
   ],
   "source": [
    "word_fd = nltk.FreqDist(words)\n",
    "bigram_fd = nltk.FreqDist(nltk.bigrams(words))\n",
    "bigram_fd.most_common(25)"
   ]
  },
  {
   "cell_type": "markdown",
   "metadata": {},
   "source": [
    "### Trigram"
   ]
  },
  {
   "cell_type": "code",
   "execution_count": 42,
   "metadata": {
    "collapsed": true
   },
   "outputs": [
    {
     "data": {
      "text/plain": [
       "[(('do', 'you', 'think'), 34),\n",
       " (('you', 'want', 'to'), 23),\n",
       " (('what', 'do', 'you'), 18),\n",
       " (('do', 'you', 'want'), 17),\n",
       " (('we', 'have', 'to'), 14),\n",
       " (('what', 'if', 'we'), 13),\n",
       " (('i', 'don', 't'), 12),\n",
       " (('have', 'to', 'go'), 11),\n",
       " (('right', 'and', 'then'), 10),\n",
       " (('you', 'know', 'what'), 10),\n",
       " (('know', 'what', 'i'), 10),\n",
       " (('go', 'like', 'this'), 9),\n",
       " (('it', 'would', 'be'), 9),\n",
       " (('don', 't', 'know'), 9),\n",
       " (('what', 'i', 'mean'), 9),\n",
       " (('to', 'go', 'back'), 9),\n",
       " (('would', 'it', 'be'), 8),\n",
       " (('here', 'to', 'here'), 8),\n",
       " (('you', 'think', 'it'), 8),\n",
       " (('have', 'to', 'connect'), 8),\n",
       " (('that', 's', 'the'), 7),\n",
       " (('here', 'and', 'then'), 6),\n",
       " (('if', 'we', 'did'), 6),\n",
       " (('want', 'to', 'go'), 6),\n",
       " (('it', 's', 'gon'), 6),\n",
       " (('s', 'gon', 'na'), 6),\n",
       " (('do', 'we', 'have'), 6),\n",
       " (('or', 'do', 'you'), 6),\n",
       " (('and', 'then', 'to'), 5),\n",
       " (('let', 's', 'see'), 5),\n",
       " (('right', 'so', 'we'), 5),\n",
       " (('want', 'me', 'to'), 5),\n",
       " (('from', 'here', 'to'), 5),\n",
       " (('so', 'this', 'is'), 5),\n",
       " (('all', 'the', 'way'), 5),\n",
       " (('we', 'don', 't'), 5),\n",
       " (('it', 'have', 'to'), 5),\n",
       " (('go', 'this', 'way'), 5),\n",
       " (('don', 't', 'we'), 5),\n",
       " (('gon', 'na', 'be'), 5),\n",
       " (('if', 'we', 'go'), 4),\n",
       " (('we', 'go', 'like'), 4),\n",
       " (('this', 'is', 'the'), 4),\n",
       " (('you', 'think', 'we'), 4),\n",
       " (('we', 'could', 'do'), 4),\n",
       " (('how', 'do', 'you'), 4),\n",
       " (('we', 'need', 'this'), 4),\n",
       " (('is', 'that', 'what'), 4),\n",
       " (('would', 'be', 'shorter'), 4),\n",
       " (('so', 'let', 's'), 4),\n",
       " (('is', 'that', 'right'), 4),\n",
       " (('you', 'want', 'me'), 4),\n",
       " (('so', 'we', 'can'), 4),\n",
       " (('around', 'the', 'mountains'), 4),\n",
       " (('should', 'we', 'do'), 4),\n",
       " (('and', 'then', 'we'), 4),\n",
       " (('you', 'think', 'i'), 4),\n",
       " (('to', 'go', 'around'), 4),\n",
       " (('so', 'you', 'want'), 4),\n",
       " (('go', 'here', 'here'), 4),\n",
       " (('here', 'here', 'and'), 4),\n",
       " (('does', 'it', 'have'), 4),\n",
       " (('this', 'way', 'right'), 4),\n",
       " (('my', 'question', 'is'), 4),\n",
       " (('be', 'shorter', 'to'), 4),\n",
       " (('shorter', 'to', 'go'), 4),\n",
       " (('to', 'go', 'from'), 4),\n",
       " (('why', 'don', 't'), 4),\n",
       " (('three', 'and', 'a'), 4),\n",
       " (('and', 'a', 'half'), 4),\n",
       " (('do', 'you', 'know'), 4),\n",
       " (('if', 'that', 's'), 4),\n",
       " (('if', 'you', 'go'), 4),\n",
       " (('as', 'the', 'base'), 3),\n",
       " (('then', 'we', 'can'), 3),\n",
       " (('we', 'can', 'go'), 3),\n",
       " (('like', 'this', 'but'), 3),\n",
       " (('to', 'a', 'and'), 3),\n",
       " (('a', 'and', 'b'), 3),\n",
       " (('come', 'back', 'to'), 3),\n",
       " (('is', 'the', 'base'), 3),\n",
       " (('the', 'base', 'is'), 3),\n",
       " (('right', 'what', 'do'), 3),\n",
       " (('if', 'we', 'were'), 3),\n",
       " (('we', 'were', 'to'), 3),\n",
       " (('has', 'to', 'be'), 3),\n",
       " (('so', 'what', 'if'), 3),\n",
       " (('is', 'that', 'the'), 3),\n",
       " (('get', 'rid', 'of'), 3),\n",
       " (('me', 'to', 'do'), 3),\n",
       " (('to', 'do', 'it'), 3),\n",
       " (('want', 'to', 'make'), 3),\n",
       " (('to', 'make', 'sure'), 3),\n",
       " (('that', 'should', 'we'), 3),\n",
       " (('right', 'so', 'i'), 3),\n",
       " (('and', 'then', 'this'), 3),\n",
       " (('to', 'do', 'that'), 3),\n",
       " (('do', 'that', 'so'), 3),\n",
       " (('so', 'do', 'you'), 3),\n",
       " (('do', 'we', 'do'), 3),\n",
       " (('think', 'it', 's'), 3),\n",
       " (('in', 'the', 'middle'), 3),\n",
       " (('or', 'would', 'it'), 3),\n",
       " (('does', 'that', 'make'), 3),\n",
       " (('that', 'make', 'sense'), 3),\n",
       " (('is', 'that', 'shorter'), 3),\n",
       " (('the', 'way', 'around'), 3),\n",
       " (('so', 'we', 'have'), 3),\n",
       " (('right', 'do', 'you'), 3),\n",
       " (('here', 'here', 'here'), 3),\n",
       " (('here', 'and', 'here'), 3),\n",
       " (('do', 'we', 'need'), 3),\n",
       " (('we', 'can', 'just'), 3),\n",
       " (('i', 'think', 'we'), 3),\n",
       " (('that', 'makes', 'sense'), 3),\n",
       " (('it', 'be', 'shorter'), 3),\n",
       " (('and', 'then', 'back'), 3),\n",
       " (('want', 'to', 'just'), 3),\n",
       " (('want', 'to', 'do'), 3),\n",
       " (('the', 'other', 'way'), 3),\n",
       " (('one', 'do', 'you'), 3),\n",
       " (('it', 's', 'shorter'), 3),\n",
       " (('you', 'have', 'to'), 3),\n",
       " (('be', 'the', 'same'), 3),\n",
       " (('like', 'this', 'and'), 3),\n",
       " (('want', 'to', 'draw'), 3),\n",
       " (('to', 'go', 'to'), 3),\n",
       " (('start', 'from', 'here'), 3),\n",
       " (('needs', 'to', 'go'), 3),\n",
       " (('to', 'a', 'right'), 3),\n",
       " (('go', 'back', 'and'), 3),\n",
       " (('don', 't', 'have'), 3),\n",
       " (('t', 'have', 'to'), 3),\n",
       " (('we', 'do', 'it'), 3),\n",
       " (('where', 'do', 'you'), 3),\n",
       " (('but', 'what', 'if'), 3),\n",
       " (('think', 'we', 'should'), 3),\n",
       " (('to', 'connect', 'it'), 3),\n",
       " (('s', 'the', 'case'), 3),\n",
       " (('you', 'have', 'a'), 3),\n",
       " (('t', 'know', 'if'), 3),\n",
       " (('to', 'go', 'through'), 2),\n",
       " (('here', 'what', 'do'), 2),\n",
       " (('the', 'shortest', 'distance'), 2),\n",
       " (('from', 'b', 'to'), 2),\n",
       " (('a', 'and', 'then'), 2),\n",
       " (('and', 'come', 'back'), 2),\n",
       " (('like', 'this', 'this'), 2),\n",
       " (('the', 'base', 'right'), 2),\n",
       " (('or', 'should', 'i'), 2),\n",
       " (('should', 'i', 'go'), 2),\n",
       " (('like', 'this', 'what'), 2),\n",
       " (('this', 'what', 'do'), 2),\n",
       " (('as', 'long', 'as'), 2),\n",
       " (('long', 'as', 'it'), 2),\n",
       " (('we', 'just', 'go'), 2),\n",
       " (('should', 'we', 'then'), 2),\n",
       " (('like', 'should', 'we'), 2),\n",
       " (('to', 'f', 'and'), 2),\n",
       " (('does', 'e', 'sound'), 2),\n",
       " (('e', 'sound', 'right'), 2),\n",
       " (('sound', 'right', 'to'), 2),\n",
       " (('right', 'to', 'you'), 2),\n",
       " (('build', 'the', 'bridge'), 2),\n",
       " (('so', 'do', 'we'), 2),\n",
       " (('do', 'we', 'want'), 2),\n",
       " (('we', 'want', 'to'), 2),\n",
       " (('want', 'to', 'like'), 2),\n",
       " (('the', 'truck', 'route'), 2),\n",
       " (('back', 'to', 'c'), 2),\n",
       " (('you', 'think', 'let'), 2),\n",
       " (('think', 'let', 's'), 2),\n",
       " (('right', 'do', 'we'), 2),\n",
       " (('want', 'to', 'have'), 2),\n",
       " (('for', 'c', 'to'), 2),\n",
       " (('i', 'guess', 'we'), 2),\n",
       " (('if', 'we', 'start'), 2),\n",
       " (('do', 'you', 'feel'), 2),\n",
       " (('starting', 'here', 'what'), 2),\n",
       " (('here', 'what', 'if'), 2),\n",
       " (('were', 'to', 'start'), 2),\n",
       " (('here', 'or', 'maybe'), 2),\n",
       " (('to', 'start', 'with'), 2),\n",
       " (('what', 'are', 'our'), 2),\n",
       " (('do', 'we', 'so'), 2),\n",
       " (('now', 'what', 'would'), 2),\n",
       " (('be', 'shorter', 'right'), 2),\n",
       " (('rid', 'of', 'this'), 2),\n",
       " (('can', 'we', 'do'), 2),\n",
       " (('we', 'do', 'that'), 2),\n",
       " (('that', 'we', 'can'), 2),\n",
       " (('that', 'do', 'you'), 2),\n",
       " (('this', 'and', 'this'), 2),\n",
       " (('right', 'so', 'if'), 2),\n",
       " (('so', 'if', 'we'), 2),\n",
       " (('b', 'should', 'be'), 2),\n",
       " (('should', 'be', 'a'), 2),\n",
       " (('be', 'better', 'to'), 2),\n",
       " (('to', 'do', 'this'), 2),\n",
       " (('do', 'this', 'one'), 2),\n",
       " (('i', 'wonder', 'if'), 2),\n",
       " (('this', 'would', 'be'), 2),\n",
       " (('to', 'here', 'to'), 2),\n",
       " (('to', 'here', 'and'), 2),\n",
       " (('if', 'it', 's'), 2),\n",
       " (('it', 's', 'a'), 2),\n",
       " (('we', 'can', 'either'), 2),\n",
       " (('would', 'it', 'matter'), 2),\n",
       " (('like', 'i', 'don'), 2),\n",
       " (('g', 'to', 'f'), 2),\n",
       " (('f', 'and', 'then'), 2),\n",
       " (('and', 'then', 'like'), 2),\n",
       " (('then', 'like', 'this'), 2),\n",
       " (('this', 'but', 'then'), 2),\n",
       " (('and', 'make', 'it'), 2),\n",
       " (('the', 'way', 'back'), 2),\n",
       " (('back', 'and', 'then'), 2),\n",
       " (('then', 'we', 'have'), 2),\n",
       " (('to', 'go', 'all'), 2),\n",
       " (('go', 'all', 'the'), 2),\n",
       " (('do', 'that', 'right'), 2),\n",
       " (('the', 'same', 'thing'), 2),\n",
       " (('and', 'then', 'up'), 2),\n",
       " (('go', 'back', 'here'), 2),\n",
       " (('here', 'right', 'so'), 2),\n",
       " (('so', 'i', 'think'), 2),\n",
       " (('were', 'going', 'to'), 2),\n",
       " (('going', 'to', 'do'), 2),\n",
       " (('look', 'like', 'the'), 2),\n",
       " (('like', 'the', 'same'), 2),\n",
       " (('one', 'of', 'the'), 2),\n",
       " (('is', 'there', 'ani'), 2),\n",
       " (('there', 'ani', 'other'), 2),\n",
       " (('where', 'we', 'could'), 2),\n",
       " (('no', 'matter', 'what'), 2),\n",
       " (('so', 'i', 'guess'), 2),\n",
       " (('we', 'should', 'start'), 2),\n",
       " (('start', 'here', 'right'), 2),\n",
       " (('so', 'we', 'don'), 2),\n",
       " (('don', 't', 'need'), 2),\n",
       " (('to', 'connect', 'to'), 2),\n",
       " (('all', 'of', 'them'), 2),\n",
       " (('and', 'then', 'connect'), 2),\n",
       " (('connect', 'all', 'the'), 2),\n",
       " (('do', 'you', 'mean'), 2),\n",
       " (('more', 'sense', 'to'), 2),\n",
       " (('sense', 'to', 'go'), 2),\n",
       " (('to', 'go', 'like'), 2),\n",
       " (('can', 'just', 'go'), 2),\n",
       " (('don', 't', 'think'), 2),\n",
       " (('to', 'have', 'to'), 2),\n",
       " (('how', 'is', 'that'), 2),\n",
       " (('that', 's', 'my'), 2),\n",
       " (('s', 'my', 'question'), 2),\n",
       " (('and', 'here', 'and'), 2),\n",
       " (('yeah', 'that', 's'), 2),\n",
       " (('that', 's', 'what'), 2),\n",
       " (('would', 'we', 'have'), 2),\n",
       " (('this', 'one', 'right'), 2),\n",
       " (('right', 'i', 'think'), 2),\n",
       " (('i', 'mean', 'so'), 2),\n",
       " (('question', 'is', 'would'), 2),\n",
       " (('is', 'would', 'it'), 2),\n",
       " (('go', 'from', 'here'), 2),\n",
       " (('and', 'it', 's'), 2),\n",
       " (('just', 'going', 'to'), 2),\n",
       " (('to', 'go', 'here'), 2),\n",
       " (('back', 'to', 'b'), 2),\n",
       " (('to', 'b', 'or'), 2),\n",
       " (('just', 'go', 'here'), 2),\n",
       " (('we', 'did', 'like'), 2),\n",
       " (('this', 'is', 'like'), 2),\n",
       " (('so', 'going', 'from'), 2),\n",
       " (('going', 'from', 'here'), 2),\n",
       " (('to', 'here', 'that'), 2),\n",
       " (('here', 'that', 's'), 2),\n",
       " (('go', 'around', 'the'), 2),\n",
       " (('other', 'way', 'chuckles'), 2),\n",
       " (('to', 'just', 'go'), 2),\n",
       " (('through', 'here', 'and'), 2),\n",
       " (('here', 'and', 'through'), 2),\n",
       " (('and', 'through', 'here'), 2),\n",
       " (('the', 'shortest', 'route'), 2),\n",
       " (('the', 'end', 'point'), 2),\n",
       " (('yeah', 'what', 'do'), 2),\n",
       " (('this', 'one', 'or'), 2),\n",
       " (('which', 'one', 'do'), 2),\n",
       " (('this', 'do', 'you'), 2),\n",
       " (('do', 'you', 'have'), 2),\n",
       " (('think', 'we', 'can'), 2),\n",
       " (('think', 'this', 'one'), 2),\n",
       " (('is', 'there', 'any'), 2),\n",
       " (('going', 'this', 'way'), 2),\n",
       " (('this', 'way', 'do'), 2),\n",
       " (('think', 'it', 'would'), 2),\n",
       " (('would', 'be', 'the'), 2),\n",
       " (('we', 'do', 'this'), 2),\n",
       " (('it', 'll', 'be'), 2),\n",
       " (('ll', 'be', 'the'), 2),\n",
       " (('i', 'want', 'to'), 2),\n",
       " (('like', 'this', 'so'), 2),\n",
       " (('and', 'then', 'go'), 2),\n",
       " (('then', 'go', 'to'), 2),\n",
       " (('go', 'to', 'e'), 2),\n",
       " (('go', 'to', 'c'), 2),\n",
       " (('to', 'c', 'so'), 2),\n",
       " (('you', 're', 'saying'), 2),\n",
       " (('going', 'to', 'go'), 2),\n",
       " (('then', 'back', 'to'), 2),\n",
       " (('go', 'straight', 'to'), 2),\n",
       " (('want', 'to', 'use'), 2),\n",
       " (('the', 'base', 'be'), 2),\n",
       " (('you', 'think', 'b'), 2),\n",
       " (('go', 'back', 'over'), 2),\n",
       " (('from', 'here', 'then'), 2),\n",
       " (('then', 'why', 'don'), 2),\n",
       " (('t', 'we', 'start'), 2),\n",
       " (('you', 'think', 'that'), 2),\n",
       " (('what', 'i', 'm'), 2),\n",
       " (('s', 'the', 'same'), 2),\n",
       " (('the', 'same', 'though'), 2),\n",
       " (('if', 'we', 'started'), 2),\n",
       " (('it', 's', 'the'), 2),\n",
       " (('i', 'think', 'it'), 2),\n",
       " (('think', 'it', 'makes'), 2),\n",
       " (('back', 'and', 'forth'), 2),\n",
       " (('would', 'be', 'too'), 2),\n",
       " (('start', 'at', 'e'), 2),\n",
       " (('that', 'do', 'we'), 2),\n",
       " (('would', 'be', 'like'), 2),\n",
       " (('be', 'like', 'that'), 2),\n",
       " (('like', 'that', 'and'), 2),\n",
       " (('that', 'and', 'then'), 2),\n",
       " (('and', 'then', 'and'), 2),\n",
       " (('we', 'would', 'go'), 2),\n",
       " (('from', 'e', 'to'), 2),\n",
       " (('e', 'to', 'a'), 2),\n",
       " (('b', 'and', 'then'), 2),\n",
       " (('go', 'from', 'h'), 2),\n",
       " (('from', 'h', 'to'), 2),\n",
       " (('to', 'j', 'and'), 2),\n",
       " (('j', 'and', 'then'), 2),\n",
       " (('that', 'what', 'we'), 2),\n",
       " (('it', 's', 'just'), 2),\n",
       " (('should', 'we', 'should'), 2),\n",
       " (('we', 'should', 'we'), 2),\n",
       " (('here', 'then', 'we'), 2),\n",
       " (('go', 'back', 'to'), 2),\n",
       " (('that', 'it', 'would'), 2),\n",
       " (('what', 'if', 'it'), 2),\n",
       " (('if', 'it', 'was'), 2),\n",
       " (('or', 'somewhere', 'else'), 2),\n",
       " (('here', 'it', 'would'), 2),\n",
       " (('go', 'around', 'this'), 2),\n",
       " (('we', 'try', 'that'), 2),\n",
       " (('is', 'our', 'base'), 2),\n",
       " (('we', 'are', 'going'), 2),\n",
       " (('want', 'to', 'start'), 2),\n",
       " (('i', 'feel', 'like'), 2),\n",
       " (('to', 'look', 'like'), 2),\n",
       " (('so', 'that', 's'), 2),\n",
       " (('do', 'these', 'have'), 2),\n",
       " (('these', 'have', 'to'), 2),\n",
       " (('it', 'this', 'way'), 2),\n",
       " (('this', 'way', 'like'), 2),\n",
       " (('you', 'think', 'so'), 2),\n",
       " (('then', 'is', 'it'), 2),\n",
       " (('like', 'this', 'or'), 2),\n",
       " (('the', 'case', 'then'), 2),\n",
       " (('he', 'needs', 'to'), 2),\n",
       " (('the', 'supply', 'truck'), 2),\n",
       " (('back', 'to', 'the'), 2),\n",
       " (('is', 'gon', 'na'), 2),\n",
       " (('you', 'go', 'do'), 2),\n",
       " (('go', 'do', 'you'), 2),\n",
       " (('what', 'if', 'you'), 2),\n",
       " (('we', 'd', 'have'), 2),\n",
       " (('d', 'have', 'less'), 2),\n",
       " (('know', 'if', 'that'), 2),\n",
       " (('you', 'go', 'through'), 2),\n",
       " (('from', 'g', 'to'), 2),\n",
       " (('the', 'starting', 'point'), 2),\n",
       " (('roads', 'roads', 'roads'), 2),\n",
       " (('wait', 'a', 'minute'), 2),\n",
       " (('are', 'you', 'sure'), 2),\n",
       " (('that', 's', 'good'), 2),\n",
       " (('to', 'draw', 'that'), 2),\n",
       " (('to', 'go', 'straight'), 2),\n",
       " (('go', 'do', 'we'), 2),\n",
       " (('s', 'shorter', 'to'), 2),\n",
       " (('shorter', 'to', 'do'), 2),\n",
       " (('go', 'through', 'yeah'), 1),\n",
       " (('through', 'yeah', 'so'), 1),\n",
       " (('yeah', 'so', 'this'), 1),\n",
       " (('so', 'this', 'one'), 1),\n",
       " (('this', 'one', 'may'), 1),\n",
       " (('one', 'may', 'be'), 1),\n",
       " (('may', 'be', 'confirmed'), 1),\n",
       " (('be', 'confirmed', 'that'), 1),\n",
       " (('confirmed', 'that', 'was'), 1),\n",
       " (('that', 'was', 'confirmed'), 1),\n",
       " (('was', 'confirmed', 'this'), 1),\n",
       " (('confirmed', 'this', 'one'), 1),\n",
       " (('this', 'one', 'if'), 1),\n",
       " (('one', 'if', 'b'), 1),\n",
       " (('if', 'b', 'as'), 1),\n",
       " (('b', 'as', 'the'), 1),\n",
       " (('the', 'base', 'then'), 1),\n",
       " (('base', 'then', 'we'), 1),\n",
       " (('can', 'go', 'like'), 1),\n",
       " (('this', 'but', 'i'), 1),\n",
       " (('but', 'i', 'i'), 1),\n",
       " (('i', 'i', 'think'), 1),\n",
       " (('i', 'think', 'here'), 1),\n",
       " (('think', 'here', 'what'), 1),\n",
       " (('you', 'think', 'its'), 1),\n",
       " (('think', 'its', 'the'), 1),\n",
       " (('its', 'the', 'base'), 1),\n",
       " (('the', 'base', 'the'), 1),\n",
       " (('base', 'the', 'shortest'), 1),\n",
       " (('shortest', 'distance', 'to'), 1),\n",
       " (('distance', 'to', 'get'), 1),\n",
       " (('to', 'get', 'uh'), 1),\n",
       " (('get', 'uh', 'from'), 1),\n",
       " (('uh', 'from', 'b'), 1),\n",
       " (('b', 'to', 'a'), 1),\n",
       " (('and', 'b', 'can'), 1),\n",
       " (('b', 'can', 'we'), 1),\n",
       " (('can', 'we', 'make'), 1),\n",
       " (('we', 'make', 'a'), 1),\n",
       " (('make', 'a', 'middle'), 1),\n",
       " (('a', 'middle', 'a'), 1),\n",
       " (('middle', 'a', 'middle'), 1),\n",
       " (('a', 'middle', 'road'), 1),\n",
       " (('middle', 'road', 'of'), 1),\n",
       " (('road', 'of', 'across'), 1),\n",
       " (('of', 'across', 'a'), 1),\n",
       " (('across', 'a', 'midpoint'), 1),\n",
       " (('a', 'midpoint', 'between'), 1),\n",
       " (('midpoint', 'between', 'a'), 1),\n",
       " (('between', 'a', 'and'), 1),\n",
       " (('a', 'and', 'e'), 1),\n",
       " (('and', 'e', 'or'), 1),\n",
       " (('e', 'or', 'can'), 1),\n",
       " (('or', 'can', 'we'), 1),\n",
       " (('can', 'we', 'go'), 1),\n",
       " (('we', 'go', 'to'), 1),\n",
       " (('go', 'to', 'first'), 1),\n",
       " (('to', 'first', 'to'), 1),\n",
       " (('first', 'to', 'a'), 1),\n",
       " (('then', 'to', 'e'), 1),\n",
       " (('to', 'e', 'and'), 1),\n",
       " (('e', 'and', 'come'), 1),\n",
       " (('back', 'to', 'a'), 1),\n",
       " (('and', 'b', 'maybe'), 1),\n",
       " (('b', 'maybe', 'we'), 1),\n",
       " (('maybe', 'we', 'can'), 1),\n",
       " (('we', 'can', 'try'), 1),\n",
       " (('can', 'try', 'for'), 1),\n",
       " (('try', 'for', 'example'), 1),\n",
       " (('for', 'example', 'if'), 1),\n",
       " (('example', 'if', 'we'), 1),\n",
       " (('this', 'this', 'this'), 1),\n",
       " (('this', 'this', 'then'), 1),\n",
       " (('this', 'then', 'here'), 1),\n",
       " (('then', 'here', 'we'), 1),\n",
       " (('here', 'we', 'suppose'), 1),\n",
       " (('we', 'suppose', 'this'), 1),\n",
       " (('suppose', 'this', 'is'), 1),\n",
       " (('base', 'right', 'yeah'), 1),\n",
       " (('right', 'yeah', 'then'), 1),\n",
       " (('yeah', 'then', 'we'), 1),\n",
       " (('then', 'we', 'come'), 1),\n",
       " (('we', 'come', 'here'), 1),\n",
       " (('come', 'here', 'as'), 1),\n",
       " (('here', 'as', 'the'), 1),\n",
       " (('base', 'is', 'it'), 1),\n",
       " (('is', 'it', 'yeah'), 1),\n",
       " (('it', 'yeah', 'wan'), 1),\n",
       " (('yeah', 'wan', 'na'), 1),\n",
       " (('wan', 'na', 'or'), 1),\n",
       " (('na', 'or', 'should'), 1),\n",
       " (('i', 'go', 'like'), 1),\n",
       " (('you', 'think', 'could'), 1),\n",
       " (('think', 'could', 'be'), 1),\n",
       " (('could', 'be', 'best'), 1),\n",
       " (('be', 'best', 'kind'), 1),\n",
       " (('best', 'kind', 'of'), 1),\n",
       " (('kind', 'of', 'should'), 1),\n",
       " (('of', 'should', 'we'), 1),\n",
       " (('should', 'we', 'share'), 1),\n",
       " (('we', 'share', 'with'), 1),\n",
       " (('share', 'with', 'each'), 1),\n",
       " (('with', 'each', 'other'), 1),\n",
       " (('each', 'other', 'what'), 1),\n",
       " (('other', 'what', 'we'), 1),\n",
       " (('what', 'we', 'did'), 1),\n",
       " (('we', 'did', 'for'), 1),\n",
       " (('did', 'for', 'our'), 1),\n",
       " (('for', 'our', 'individual'), 1),\n",
       " (('our', 'individual', 'part'), 1),\n",
       " (('individual', 'part', 'and'), 1),\n",
       " (('part', 'and', 'see'), 1),\n",
       " (('and', 'see', 'like'), 1),\n",
       " (('see', 'like', 'we'), 1),\n",
       " (('like', 'we', 'could'), 1),\n",
       " (('we', 'could', 'maybe'), 1),\n",
       " (('could', 'maybe', 'draw'), 1),\n",
       " (('maybe', 'draw', 'them'), 1),\n",
       " (('draw', 'them', 'out'), 1),\n",
       " (('them', 'out', 'as'), 1),\n",
       " (('out', 'as', 'a'), 1),\n",
       " (('as', 'a', 'way'), 1),\n",
       " (('a', 'way', 'of'), 1),\n",
       " (('way', 'of', 'describing'), 1),\n",
       " (('of', 'describing', 'them'), 1),\n",
       " (('describing', 'them', 'to'), 1),\n",
       " (('them', 'to', 'each'), 1),\n",
       " (('to', 'each', 'other'), 1),\n",
       " (('each', 'other', 'for'), 1),\n",
       " (('other', 'for', 'example'), 1),\n",
       " (('for', 'example', 'for'), 1),\n",
       " (('example', 'for', 'this'), 1),\n",
       " (('for', 'this', 'there'), 1),\n",
       " (('this', 'there', 'will'), 1),\n",
       " (('there', 'will', 'be'), 1),\n",
       " (('will', 'be', 'two'), 1),\n",
       " (('be', 'two', 'possible'), 1),\n",
       " (('two', 'possible', 'i'), 1),\n",
       " (('possible', 'i', 'think'), 1),\n",
       " (('i', 'think', 'two'), 1),\n",
       " (('think', 'two', 'possibilities'), 1),\n",
       " (('two', 'possibilities', 'right'), 1),\n",
       " (('possibilities', 'right', 'as'), 1),\n",
       " (('right', 'as', 'long'), 1),\n",
       " (('as', 'it', 'cuts'), 1),\n",
       " (('it', 'cuts', 'the'), 1),\n",
       " (('cuts', 'the', 'river'), 1),\n",
       " (('the', 'river', 'right'), 1),\n",
       " (('river', 'right', 't'), 1),\n",
       " (('right', 't', 'there'), 1),\n",
       " (('t', 'there', 'similar'), 1),\n",
       " (('there', 'similar', 't'), 1),\n",
       " (('similar', 't', 'they'), 1),\n",
       " (('t', 'they', 'similar'), 1),\n",
       " (('they', 'similar', 'distances'), 1),\n",
       " (('similar', 'distances', 'maybe'), 1),\n",
       " (('distances', 'maybe', 'a'), 1),\n",
       " (('maybe', 'a', 'is'), 1),\n",
       " (('a', 'is', 'slightly'), 1),\n",
       " (('is', 'slightly', 'shorter'), 1),\n",
       " (('slightly', 'shorter', 'yeah'), 1),\n",
       " (('shorter', 'yeah', 'slightly'), 1),\n",
       " (('yeah', 'slightly', 'shorter'), 1),\n",
       " (('slightly', 'shorter', 'so'), 1),\n",
       " (('shorter', 'so', 'like'), 1),\n",
       " (('so', 'like', 'would'), 1),\n",
       " (('like', 'would', 'it'), 1),\n",
       " (('it', 'be', 'a'), 1),\n",
       " (('be', 'a', 'starting'), 1),\n",
       " (('a', 'starting', 'point'), 1),\n",
       " (('starting', 'point', 'should'), 1),\n",
       " (('point', 'should', 'we'), 1),\n",
       " (('should', 'we', 'have'), 1),\n",
       " (('we', 'have', 'other'), 1),\n",
       " (('have', 'other', 'connecting'), 1),\n",
       " (('other', 'connecting', 'roads'), 1),\n",
       " (('connecting', 'roads', 'between'), 1),\n",
       " (('roads', 'between', 'the'), 1),\n",
       " (('between', 'the', 'cities'), 1),\n",
       " (('the', 'cities', 'do'), 1),\n",
       " (('cities', 'do', 'you'), 1),\n",
       " (('you', 'think', 'or'), 1),\n",
       " (('think', 'or', 'should'), 1),\n",
       " (('or', 'should', 'we'), 1),\n",
       " (('should', 'we', 'just'), 1),\n",
       " (('just', 'go', 'with'), 1),\n",
       " (('go', 'with', 'should'), 1),\n",
       " (('with', 'should', 'we'), 1),\n",
       " (('we', 'then', 'like'), 1),\n",
       " (('then', 'like', 'should'), 1),\n",
       " (('we', 'then', 'say'), 1),\n",
       " (('then', 'say', 'there'), 1),\n",
       " (('say', 'there', 'are'), 1),\n",
       " (('there', 'are', 'connecting'), 1),\n",
       " (('are', 'connecting', 'roads'), 1),\n",
       " (('connecting', 'roads', 'from'), 1),\n",
       " (('roads', 'from', 'j'), 1),\n",
       " (('from', 'j', 'to'), 1),\n",
       " (('j', 'to', 'f'), 1),\n",
       " (('f', 'and', 'the'), 1),\n",
       " (('and', 'the', 'goal'), 1),\n",
       " (('the', 'goal', 'is'), 1),\n",
       " (('goal', 'is', 'to'), 1),\n",
       " (('is', 'to', 'reach'), 1),\n",
       " (('to', 'reach', 'each'), 1),\n",
       " (('reach', 'each', 'village'), 1),\n",
       " (('each', 'village', 'at'), 1),\n",
       " (('village', 'at', 'least'), 1),\n",
       " (('at', 'least', 'once'), 1),\n",
       " (('least', 'once', 'right'), 1),\n",
       " (('once', 'right', 'what'), 1),\n",
       " (('you', 'think', 'does'), 1),\n",
       " (('think', 'does', 'e'), 1),\n",
       " (('to', 'you', 'does'), 1),\n",
       " (('you', 'does', 'e'), 1),\n",
       " (('to', 'you', 'and'), 1),\n",
       " (('you', 'and', 'then'), 1),\n",
       " (('and', 'then', 'do'), 1),\n",
       " (('then', 'do', 'we'), 1),\n",
       " (('do', 'we', 'build'), 1),\n",
       " (('we', 'build', 'the'), 1),\n",
       " (('the', 'bridge', 'i'), 1),\n",
       " (('bridge', 'i', 'm'), 1),\n",
       " (('i', 'm', 'wondering'), 1),\n",
       " (('m', 'wondering', 'if'), 1),\n",
       " (('wondering', 'if', 'it'), 1),\n",
       " (('if', 'it', 'might'), 1),\n",
       " (('it', 'might', 'be'), 1),\n",
       " (('might', 'be', 'so'), 1),\n",
       " (('be', 'so', 'do'), 1),\n",
       " (('to', 'like', 'draw'), 1),\n",
       " (('like', 'draw', 'out'), 1),\n",
       " (('draw', 'out', 'the'), 1),\n",
       " (('out', 'the', 'truck'), 1),\n",
       " (('truck', 'route', 'first'), 1),\n",
       " (('route', 'first', 'and'), 1),\n",
       " (('first', 'and', 'then'), 1),\n",
       " (('and', 'then', 'just'), 1),\n",
       " (('then', 'just', 'put'), 1),\n",
       " (('just', 'put', 'a'), 1),\n",
       " (('put', 'a', 'route'), 1),\n",
       " (('a', 'route', 'everywhere'), 1),\n",
       " (('route', 'everywhere', 'that'), 1),\n",
       " (('everywhere', 'that', 'goes'), 1),\n",
       " (('that', 'goes', 'and'), 1),\n",
       " (('goes', 'and', 'then'), 1),\n",
       " (('and', 'then', 'see'), 1),\n",
       " (('then', 'see', 'what'), 1),\n",
       " (('see', 'what', 'else'), 1),\n",
       " (('what', 'else', 'we'), 1),\n",
       " (('else', 'we', 'need'), 1),\n",
       " (('we', 'need', 'and'), 1),\n",
       " (('need', 'and', 'possibly'), 1),\n",
       " (('and', 'possibly', 'j'), 1),\n",
       " (('possibly', 'j', 'and'), 1),\n",
       " (('j', 'and', 'h'), 1),\n",
       " (('and', 'h', 'but'), 1),\n",
       " (('h', 'but', 'it'), 1),\n",
       " (('but', 'it', 't'), 1),\n",
       " (('it', 't', 'make'), 1),\n",
       " (('t', 'make', 'to'), 1),\n",
       " (('make', 'to', 'much'), 1),\n",
       " (('to', 'much', 'sense'), 1),\n",
       " (('much', 'sense', 'if'), 1),\n",
       " (('sense', 'if', 'we'), 1),\n",
       " (('if', 'we', 'i'), 1),\n",
       " (('we', 'i', 'guess'), 1),\n",
       " (('i', 'guess', 'go'), 1),\n",
       " (('guess', 'go', 'like'), 1),\n",
       " (('this', 'this', 'back'), 1),\n",
       " (('this', 'back', 'to'), 1),\n",
       " (('to', 'c', 'right'), 1),\n",
       " (('c', 'right', 'what'), 1),\n",
       " (('s', 'see', 'what'), 1),\n",
       " (('see', 'what', 'if'), 1),\n",
       " (('if', 'we', 'do'), 1),\n",
       " (('we', 'do', 'c'), 1),\n",
       " (('do', 'c', 'j'), 1),\n",
       " (('c', 'j', 'h'), 1),\n",
       " (('j', 'h', 'let'), 1),\n",
       " (('h', 'let', 's'), 1),\n",
       " (('s', 'see', 'which'), 1),\n",
       " (('see', 'which', 'one'), 1),\n",
       " (('which', 'one', 'is'), 1),\n",
       " (('one', 'is', 'longer'), 1),\n",
       " (('is', 'longer', 'so'), 1),\n",
       " (('longer', 'so', 'you'), 1),\n",
       " (('so', 'you', 'think'), 1),\n",
       " (('think', 'we', 'could'), 1),\n",
       " (('could', 'do', 'them'), 1),\n",
       " (('do', 'them', 'we'), 1),\n",
       " (('them', 'we', 'could'), 1),\n",
       " (('could', 'do', 'this'), 1),\n",
       " (('do', 'this', 'and'), 1),\n",
       " (('this', 'and', 'then'), 1),\n",
       " (('and', 'then', 'j'), 1),\n",
       " (('then', 'j', 'h'), 1),\n",
       " (('j', 'h', 'that'), 1),\n",
       " (('h', 'that', 's'), 1),\n",
       " (('that', 's', 'kind'), 1),\n",
       " (('s', 'kind', 'of'), 1),\n",
       " (('kind', 'of', 'it'), 1),\n",
       " (('of', 'it', 'right'), 1),\n",
       " (('it', 'right', 'do'), 1),\n",
       " (('do', 'we', 'really'), 1),\n",
       " (('we', 'really', 'want'), 1),\n",
       " (('really', 'want', 'to'), 1),\n",
       " (('to', 'have', 'these'), 1),\n",
       " (('have', 'these', 'two'), 1),\n",
       " (('these', 'two', 'extra'), 1),\n",
       " (('two', 'extra', 'routes'), 1),\n",
       " (('extra', 'routes', 'i'), 1),\n",
       " (('routes', 'i', 'm'), 1),\n",
       " (('i', 'm', 'not'), 1),\n",
       " (('m', 'not', 'convinced'), 1),\n",
       " (('not', 'convinced', 'either'), 1),\n",
       " (('convinced', 'either', 'way'), 1),\n",
       " (('either', 'way', 'for'), 1),\n",
       " (('way', 'for', 'c'), 1),\n",
       " (('c', 'to', 'h'), 1),\n",
       " (('to', 'h', 'does'), 1),\n",
       " (('h', 'does', 'it'), 1),\n",
       " (('does', 'it', 'look'), 1),\n",
       " (('it', 'look', 'promising'), 1),\n",
       " (('look', 'promising', 'shall'), 1),\n",
       " (('promising', 'shall', 'we'), 1),\n",
       " (('shall', 'we', 'yeah'), 1),\n",
       " (('we', 'yeah', 'shall'), 1),\n",
       " (('yeah', 'shall', 'i'), 1),\n",
       " (('shall', 'i', 'just'), 1),\n",
       " (('i', 'just', 'finalize'), 1),\n",
       " (('just', 'finalize', 'it'), 1),\n",
       " (('finalize', 'it', 'i'), 1),\n",
       " (('it', 'i', 'guess'), 1),\n",
       " (('guess', 'we', 're'), 1),\n",
       " (('we', 're', 'done'), 1),\n",
       " (('re', 'done', 'what'), 1),\n",
       " (('done', 'what', 'if'), 1),\n",
       " (('we', 'start', 'here'), 1),\n",
       " (('start', 'here', 'alright'), 1),\n",
       " (('here', 'alright', 'let'), 1),\n",
       " (('alright', 'let', 's'), 1),\n",
       " (('let', 's', 'how'), 1),\n",
       " (('s', 'how', 'do'), 1),\n",
       " (('you', 'feel', 'about'), 1),\n",
       " (('feel', 'about', 'starting'), 1),\n",
       " (('about', 'starting', 'here'), 1),\n",
       " (('to', 'start', 'it'), 1),\n",
       " (('start', 'it', 'with'), 1),\n",
       " (('it', 'with', 'the'), 1),\n",
       " (('with', 'the', 'base'), 1),\n",
       " (('the', 'base', 'here'), 1),\n",
       " (('base', 'here', 'or'), 1),\n",
       " (('or', 'maybe', 'even'), 1),\n",
       " (('maybe', 'even', 'here'), 1),\n",
       " (('even', 'here', 'and'), 1),\n",
       " (('and', 'then', 'that'), 1),\n",
       " (('then', 'that', 'way'), 1),\n",
       " (('that', 'way', 'we'), 1),\n",
       " (('way', 'we', 'just'), 1),\n",
       " (('we', 'just', 'have'), 1),\n",
       " (('just', 'have', 'one'), 1),\n",
       " (('have', 'one', 'bridge'), 1),\n",
       " (('one', 'bridge', 'what'), 1),\n",
       " (('bridge', 'what', 'did'), 1),\n",
       " (('what', 'did', 'i'), 1),\n",
       " (('did', 'i', 'say'), 1),\n",
       " (('i', 'say', 'like'), 1),\n",
       " (('say', 'like', 'how'), 1),\n",
       " (('like', 'how', 'can'), 1),\n",
       " (('how', 'can', 'we'), 1),\n",
       " (('can', 'we', 'maximize'), 1),\n",
       " (('we', 'maximize', 'these'), 1),\n",
       " (('maximize', 'these', 'guys'), 1),\n",
       " (('these', 'guys', 'since'), 1),\n",
       " (('guys', 'since', 'they'), 1),\n",
       " (('since', 'they', 're'), 1),\n",
       " (('they', 're', 'local'), 1),\n",
       " (('re', 'local', 'you'), 1),\n",
       " (('local', 'you', 'know'), 1),\n",
       " (('you', 'know', 'like'), 1),\n",
       " (('know', 'like', 'two'), 1),\n",
       " (('like', 'two', 'does'), 1),\n",
       " (('two', 'does', 'it'), 1),\n",
       " (('does', 'it', 'but'), 1),\n",
       " (('it', 'but', 'there'), 1),\n",
       " (('but', 'there', 'has'), 1),\n",
       " (('there', 'has', 'to'), 1),\n",
       " (('to', 'be', 'one'), 1),\n",
       " (('be', 'one', 'on'), 1),\n",
       " (('one', 'on', 'both'), 1),\n",
       " (('on', 'both', 'sides'), 1),\n",
       " (('both', 'sides', 'where'), 1),\n",
       " (('sides', 'where', 'are'), 1),\n",
       " (('where', 'are', 'you'), 1),\n",
       " (('are', 'you', 'thinking'), 1),\n",
       " (('you', 'thinking', 'we'), 1),\n",
       " (('thinking', 'we', 'need'), 1),\n",
       " (('need', 'this', 'link'), 1),\n",
       " (('this', 'link', 'what'), 1),\n",
       " (('link', 'what', 'letter'), 1),\n",
       " (('what', 'letter', 'are'), 1),\n",
       " (('letter', 'are', 'you'), 1),\n",
       " (('are', 'you', 'starting'), 1),\n",
       " (('you', 'starting', 'trying'), 1),\n",
       " (('starting', 'trying', 'to'), 1),\n",
       " (('trying', 'to', 'start'), 1),\n",
       " (('start', 'with', 'starting'), 1),\n",
       " (('with', 'starting', 'here'), 1),\n",
       " (('we', 'start', 'like'), 1),\n",
       " (('start', 'like', 'let'), 1),\n",
       " (('like', 'let', 's'), 1),\n",
       " (('s', 'see', 'is'), 1),\n",
       " (('see', 'is', 'that'), 1),\n",
       " (('that', 'what', 'you'), 1),\n",
       " (('what', 'you', 'd'), 1),\n",
       " (('you', 'd', 'do'), 1),\n",
       " (('d', 'do', 'what'), 1),\n",
       " (('do', 'what', 'are'), 1),\n",
       " (('are', 'our', 'other'), 1),\n",
       " (('our', 'other', 'options'), 1),\n",
       " (('other', 'options', 'like'), 1),\n",
       " (('options', 'like', 'is'), 1),\n",
       " (('like', 'is', 'there'), 1),\n",
       " (('is', 'there', 'a'), 1),\n",
       " (('there', 'a', 'way'), 1),\n",
       " (('a', 'way', 'to'), 1),\n",
       " (('way', 'to', 'avoid'), 1),\n",
       " (('to', 'avoid', 'this'), 1),\n",
       " (('avoid', 'this', 'well'), 1),\n",
       " (('this', 'well', 'do'), 1),\n",
       " (('well', 'do', 'we'), 1),\n",
       " (('we', 'so', 'what'), 1),\n",
       " (('we', 'did', 'this'), 1),\n",
       " (('did', 'this', 'what'), 1),\n",
       " (('this', 'what', 'if'), 1),\n",
       " (('we', 'did', 'is'), 1),\n",
       " (('did', 'is', 'that'), 1),\n",
       " (('that', 'the', 'most'), 1),\n",
       " (('the', 'most', 'um'), 1),\n",
       " (('most', 'um', 'what'), 1),\n",
       " (('um', 'what', 's'), 1),\n",
       " (('what', 's', 'our'), 1),\n",
       " (('s', 'our', 'second'), 1),\n",
       " (('our', 'second', 'option'), 1),\n",
       " (('second', 'option', 'e'), 1),\n",
       " (('option', 'e', 'or'), 1),\n",
       " (('e', 'or', 'd'), 1),\n",
       " (('or', 'd', 'i'), 1),\n",
       " (('d', 'i', 'm'), 1),\n",
       " (('i', 'm', 'just'), 1),\n",
       " (('m', 'just', 'wondering'), 1),\n",
       " (('just', 'wondering', 'now'), 1),\n",
       " (('wondering', 'now', 'what'), 1),\n",
       " (('what', 'would', 'be'), 1),\n",
       " (('shorter', 'right', 'so'), 1),\n",
       " (('so', 'we', 'get'), 1),\n",
       " (('we', 'get', 'rid'), 1),\n",
       " (('of', 'this', 'and'), 1),\n",
       " (('this', 'and', 'do'), 1),\n",
       " (('and', 'do', 'that'), 1),\n",
       " (('do', 'that', 'and'), 1),\n",
       " (('that', 'and', 'this'), 1),\n",
       " (('and', 'this', 'there'), 1),\n",
       " (('this', 'there', 's'), 1),\n",
       " (('there', 's', 'a'), 1),\n",
       " (('s', 'a', 'lot'), 1),\n",
       " (('a', 'lot', 'of'), 1),\n",
       " (('lot', 'of', 'doubling'), 1),\n",
       " (('of', 'doubling', 'back'), 1),\n",
       " (('doubling', 'back', 'so'), 1),\n",
       " (('back', 'so', 'maybe'), 1),\n",
       " (('so', 'maybe', 'that'), 1),\n",
       " (('maybe', 'that', 's'), 1),\n",
       " (('that', 's', 'not'), 1),\n",
       " (('s', 'not', 'the'), 1),\n",
       " (('not', 'the', 'best'), 1),\n",
       " (('the', 'best', 'route'), 1),\n",
       " (('best', 'route', 'so'), 1),\n",
       " (('route', 'so', 'let'), 1),\n",
       " (('let', 's', 'tell'), 1),\n",
       " (('s', 'tell', 'you'), 1),\n",
       " (('tell', 'you', 'what'), 1),\n",
       " (('you', 'what', 'should'), 1),\n",
       " (('what', 'should', 'he'), 1),\n",
       " (('should', 'he', 'take'), 1),\n",
       " (('he', 'take', 'it'), 1),\n",
       " (('take', 'it', 'all'), 1),\n",
       " (('it', 'all', 'out'), 1),\n",
       " (('all', 'out', 'and'), 1),\n",
       " (('out', 'and', 'start'), 1),\n",
       " (('and', 'start', 'again'), 1),\n",
       " (('start', 'again', 'what'), 1),\n",
       " (('again', 'what', 'about'), 1),\n",
       " (('what', 'about', 'here'), 1),\n",
       " (('about', 'here', 'if'), 1),\n",
       " (('here', 'if', 'we'), 1),\n",
       " (('we', 'go', 'across'), 1),\n",
       " (('go', 'across', 'here'), 1),\n",
       " (('across', 'here', 'will'), 1),\n",
       " (('here', 'will', 'it'), 1),\n",
       " (('will', 'it', 'can'), 1),\n",
       " (('it', 'can', 'we'), 1),\n",
       " (('do', 'that', 'we'), 1),\n",
       " (('we', 'can', 'do'), 1),\n",
       " (('can', 'do', 'we'), 1),\n",
       " (('do', 'we', 'just'), 1),\n",
       " (('just', 'go', 'around'), 1),\n",
       " (('go', 'around', 'is'), 1),\n",
       " (('around', 'is', 'that'), 1),\n",
       " (('that', 'right', 'or'), 1),\n",
       " (('right', 'or', 'did'), 1),\n",
       " (('or', 'did', 'i'), 1),\n",
       " (('did', 'i', 'cheat'), 1),\n",
       " (('i', 'cheat', 'there'), 1),\n",
       " (('cheat', 'there', 'we'), 1),\n",
       " (('there', 'we', 'started'), 1),\n",
       " (('we', 'started', 'here'), 1),\n",
       " (('started', 'here', 'or'), 1),\n",
       " (('here', 'or', 'there'), 1),\n",
       " (('or', 'there', 'shall'), 1),\n",
       " (('there', 'shall', 'we'), 1),\n",
       " (('shall', 'we', 'go'), 1),\n",
       " (('we', 'go', 'with'), 1),\n",
       " (('go', 'with', 'that'), 1),\n",
       " (('with', 'that', 'do'), 1),\n",
       " (('do', 'it', 'oh'), 1),\n",
       " (('it', 'oh', 'could'), 1),\n",
       " (('oh', 'could', 'oh'), 1),\n",
       " (('could', 'oh', 'if'), 1),\n",
       " (('oh', 'if', 'we'), 1),\n",
       " (('if', 'we', 'we'), 1),\n",
       " (('we', 'we', 're'), 1),\n",
       " (('we', 're', 'assuming'), 1),\n",
       " (('re', 'assuming', 'that'), 1),\n",
       " (('assuming', 'that', 'we'), 1),\n",
       " (('can', 'go', 'around'), 1),\n",
       " (('go', 'around', 'here'), 1),\n",
       " (('around', 'here', 't'), 1),\n",
       " (('here', 't', 'we'), 1),\n",
       " (('t', 'we', 'so'), 1),\n",
       " (('we', 'so', 'let'), 1),\n",
       " (('let', 's', 'get'), 1),\n",
       " (('s', 'get', 'rid'), 1),\n",
       " (('rid', 'of', 'that'), 1),\n",
       " (('of', 'that', 'okay'), 1),\n",
       " (('that', 'okay', 'so'), 1),\n",
       " (('okay', 'so', 'this'), 1),\n",
       " (('so', 'this', 'and'), 1),\n",
       " (('and', 'this', 'should'), 1),\n",
       " (('this', 'should', 'split'), 1),\n",
       " (('should', 'split', 'or'), 1),\n",
       " (('split', 'or', 'somehow'), 1),\n",
       " (('or', 'somehow', 'across'), 1),\n",
       " (('somehow', 'across', 'here'), 1),\n",
       " (('across', 'here', 'yeah'), 1),\n",
       " (('here', 'yeah', 'from'), 1),\n",
       " (('yeah', 'from', 'but'), 1),\n",
       " (('from', 'but', 'should'), 1),\n",
       " (('but', 'should', 'go'), 1),\n",
       " (('should', 'go', 'twice'), 1),\n",
       " (('go', 'twice', 'here'), 1),\n",
       " (('twice', 'here', 'that'), 1),\n",
       " (('here', 'that', 'be'), 1),\n",
       " (('that', 'be', 'a'), 1),\n",
       " (('be', 'a', 'plus'), 1),\n",
       " (('a', 'plus', 'b'), 1),\n",
       " (('plus', 'b', 'right'), 1),\n",
       " (('b', 'right', 'so'), 1),\n",
       " (('if', 'we', 'add'), 1),\n",
       " (('we', 'add', 'a'), 1),\n",
       " (('add', 'a', 'and'), 1),\n",
       " (('and', 'b', 'should'), 1),\n",
       " (('be', 'a', 'b'), 1),\n",
       " (('a', 'b', 'if'), 1),\n",
       " (('b', 'if', 'consider'), 1),\n",
       " (('if', 'consider', 'c'), 1),\n",
       " (('consider', 'c', 'should'), 1),\n",
       " (('c', 'should', 'be'), 1),\n",
       " (('should', 'be', 'c'), 1),\n",
       " (('be', 'c', 'plus'), 1),\n",
       " (('c', 'plus', 'would'), 1),\n",
       " (('plus', 'would', 'it'), 1),\n",
       " (('it', 'be', 'better'), 1),\n",
       " (('better', 'to', 'do'), 1),\n",
       " (('this', 'one', 'and'), 1),\n",
       " (('one', 'and', 'do'), 1),\n",
       " (('and', 'do', 'this'), 1),\n",
       " (('do', 'this', 'way'), 1),\n",
       " (('this', 'way', 'between'), 1),\n",
       " (('way', 'between', 'them'), 1),\n",
       " (('between', 'them', 'yeah'), 1),\n",
       " (('them', 'yeah', 'are'), 1),\n",
       " (('yeah', 'are', 'we'), 1),\n",
       " (('are', 'we', 'happy'), 1),\n",
       " (('we', 'happy', 'with'), 1),\n",
       " (('happy', 'with', 'this'), 1),\n",
       " (('with', 'this', 'i'), 1),\n",
       " (('this', 'i', 'wonder'), 1),\n",
       " (('wonder', 'if', 'this'), 1),\n",
       " (('if', 'this', 'would'), 1),\n",
       " (('be', 'shorter', 'from'), 1),\n",
       " (('shorter', 'from', 'here'), 1),\n",
       " (('here', 'and', 'extend'), 1),\n",
       " (('and', 'extend', 'the'), 1),\n",
       " (('extend', 'the', 'other'), 1),\n",
       " (('the', 'other', 'one'), 1),\n",
       " (('other', 'one', 'a'), 1),\n",
       " (('one', 'a', 'little'), 1),\n",
       " ...]"
      ]
     },
     "execution_count": 42,
     "metadata": {},
     "output_type": "execute_result"
    }
   ],
   "source": [
    "word_fd = nltk.FreqDist(words)\n",
    "trigram_fd = nltk.FreqDist(nltk.trigrams(words))\n",
    "trigram_fd.most_common()"
   ]
  },
  {
   "cell_type": "code",
   "execution_count": null,
   "metadata": {
    "collapsed": true
   },
   "outputs": [],
   "source": []
  },
  {
   "cell_type": "markdown",
   "metadata": {},
   "source": [
    "# Check Column Qi"
   ]
  },
  {
   "cell_type": "code",
   "execution_count": 43,
   "metadata": {
    "collapsed": true
   },
   "outputs": [],
   "source": [
    "dfQi = df[df.Qi > 0]\n",
    "dfQi.columns = ['E', 'P', 'Qc', 'Qi', 'Qr', 'Ra', 'Rm', 'Rd', 'S', 'J', 'N', 'C', 'Speaker', 'Text', 'Utterances', 'Unnamed']"
   ]
  },
  {
   "cell_type": "code",
   "execution_count": 44,
   "metadata": {
    "collapsed": true
   },
   "outputs": [
    {
     "name": "stdout",
     "output_type": "stream",
     "text": [
      "     E  P  Qc  Qi  Qr  Ra  Rm  Rd  S  J  N  C Speaker  \\\n",
      "19   0  0   1   1   0   1   0   0  0  0  0  0       B   \n",
      "23   0  0   1   2   0   0   0   0  0  0  0  0       A   \n",
      "39   1  0   1   1   0   0   0   0  0  3  0  0       A   \n",
      "70   0  0   0   2   0   1   0   0  0  0  0  0       B   \n",
      "7    0  0   0   3   0   0   0   0  0  0  0  0       B   \n",
      "..  .. ..  ..  ..  ..  ..  ..  .. .. .. .. ..     ...   \n",
      "50   1  0   0   2   0   0   1   0  0  3  0  0       B   \n",
      "61   0  0   2   1   0   0   0   0  0  0  0  0       B   \n",
      "80   0  0   0   3   0   0   0   0  1  0  0  0       B   \n",
      "99   3  3   0   1   0   0   0   0  0  2  0  0       B   \n",
      "103  0  0   0   3   0   0   0   0  0  0  0  0       B   \n",
      "\n",
      "                                                  Text Utterances Unnamed  \n",
      "19                                  that was confirmed        NaN     NaN  \n",
      "23                                            this one        NaN     NaN  \n",
      "39           if b as the base then we can go like this        NaN     NaN  \n",
      "70                                         that was it        NaN     NaN  \n",
      "7                            did you have the same map        NaN     NaN  \n",
      "..                                                 ...        ...     ...  \n",
      "50          and then so you say that the base would be        NaN     NaN  \n",
      "61   let s see if we did do that so where would you...        NaN     NaN  \n",
      "80   so then we would go which way again sorry so y...        NaN     NaN  \n",
      "99   do you see what i am saying instead of connect...        NaN     NaN  \n",
      "103                                       for the what        NaN     NaN  \n",
      "\n",
      "[533 rows x 16 columns]\n"
     ]
    }
   ],
   "source": [
    "print(dfQi)"
   ]
  },
  {
   "cell_type": "code",
   "execution_count": 45,
   "metadata": {
    "collapsed": true
   },
   "outputs": [
    {
     "name": "stdout",
     "output_type": "stream",
     "text": [
      "19                                    that was confirmed\n",
      "23                                              this one\n",
      "39             if b as the base then we can go like this\n",
      "70                                           that was it\n",
      "7                              did you have the same map\n",
      "                             ...                        \n",
      "50            and then so you say that the base would be\n",
      "61     let s see if we did do that so where would you...\n",
      "80     so then we would go which way again sorry so y...\n",
      "99     do you see what i am saying instead of connect...\n",
      "103                                         for the what\n",
      "Name: Text, Length: 533, dtype: object\n"
     ]
    }
   ],
   "source": [
    "print(dfQi.Text)"
   ]
  },
  {
   "cell_type": "code",
   "execution_count": 46,
   "metadata": {
    "collapsed": true
   },
   "outputs": [],
   "source": [
    "mask = [isinstance(item, (str, bytes)) for item in dfQi.Text]\n",
    "dfQi = dfQi.loc[mask]\n",
    "dfQi.Text = dfQi.Text.astype(str)"
   ]
  },
  {
   "cell_type": "code",
   "execution_count": 47,
   "metadata": {
    "collapsed": true
   },
   "outputs": [
    {
     "name": "stdout",
     "output_type": "stream",
     "text": [
      "19                                    that was confirmed\n",
      "23                                              this one\n",
      "39             if b as the base then we can go like this\n",
      "70                                           that was it\n",
      "7                              did you have the same map\n",
      "                             ...                        \n",
      "50            and then so you say that the base would be\n",
      "61     let s see if we did do that so where would you...\n",
      "80     so then we would go which way again sorry so y...\n",
      "99     do you see what i am saying instead of connect...\n",
      "103                                         for the what\n",
      "Name: Text, Length: 381, dtype: object\n"
     ]
    }
   ],
   "source": [
    "dfQi = dfQi.Text\n",
    "print(dfQi)"
   ]
  },
  {
   "cell_type": "code",
   "execution_count": 48,
   "metadata": {
    "collapsed": true
   },
   "outputs": [
    {
     "name": "stdout",
     "output_type": "stream",
     "text": [
      "All frequencies\n",
      "===================================\n",
      "                                                 Word  Frequency\n",
      "0                                does that make sense          5\n",
      "1                                you know what i mean          4\n",
      "2                                            this one          2\n",
      "3                                           like this          2\n",
      "4                                    what do you mean          2\n",
      "5                         do you know what i m saying          2\n",
      "6                                  that was confirmed          1\n",
      "7           if b as the base then we can go like this          1\n",
      "8                                         that was it          1\n",
      "9                           did you have the same map          1\n",
      "10           t there similar t they similar distances          1\n",
      "11                 connecting routes what do you mean          1\n",
      "12                                              sorry          1\n",
      "13                    and then do we build the bridge          1\n",
      "14                                 i guess we re done          1\n",
      "15                                         do we just          1\n",
      "16                              what do you mean loop          1\n",
      "17                           so go all the way around          1\n",
      "18                                     what did i say          1\n",
      "19                                            does it          1\n",
      "20  where are you thinking we need this link what ...          1\n",
      "21                                      starting here          1\n",
      "22                              is that what you d do          1\n",
      "23                         what are our other options          1\n",
      "24                                     can we use two          1\n"
     ]
    }
   ],
   "source": [
    "top_N = 25\n",
    "word_dist = nltk.FreqDist(dfQi)\n",
    "print('All frequencies')\n",
    "print('='*35)\n",
    "rslt=pd.DataFrame(word_dist.most_common(top_N),columns=['Word','Frequency'])\n",
    "print(rslt)"
   ]
  },
  {
   "cell_type": "code",
   "execution_count": 49,
   "metadata": {
    "collapsed": true
   },
   "outputs": [
    {
     "data": {
      "text/plain": [
       "<AxesSubplot:xlabel='Word'>"
      ]
     },
     "execution_count": 49,
     "metadata": {},
     "output_type": "execute_result"
    },
    {
     "data": {
      "image/png": "[encoded data removed]",
      "text/plain": [
       "<Figure size 432x288 with 1 Axes>"
      ]
     },
     "metadata": {},
     "output_type": "display_data"
    }
   ],
   "source": [
    "t_N = 10\n",
    "r = pd.DataFrame(word_dist.most_common(t_N),\n",
    "                    columns=['Word', 'Frequency']).set_index('Word')\n",
    "matplotlib.style.use('ggplot')\n",
    "r.plot.bar(rot=90, width=0.5)"
   ]
  },
  {
   "cell_type": "code",
   "execution_count": 50,
   "metadata": {
    "collapsed": true
   },
   "outputs": [
    {
     "name": "stdout",
     "output_type": "stream",
     "text": [
      "19                                [that, was, confirmed]\n",
      "23                                           [this, one]\n",
      "39     [if, b, as, the, base, then, we, can, go, like...\n",
      "70                                       [that, was, it]\n",
      "7                       [did, you, have, the, same, map]\n",
      "                             ...                        \n",
      "50     [and, then, so, you, say, that, the, base, wou...\n",
      "61     [let, s, see, if, we, did, do, that, so, where...\n",
      "80     [so, then, we, would, go, which, way, again, s...\n",
      "99     [do, you, see, what, i, am, saying, instead, o...\n",
      "103                                     [for, the, what]\n",
      "Name: Text, Length: 381, dtype: object\n"
     ]
    }
   ],
   "source": [
    "dft = dfQi.apply(nltk.word_tokenize)\n",
    "print(dft)"
   ]
  },
  {
   "cell_type": "code",
   "execution_count": 51,
   "metadata": {
    "collapsed": true
   },
   "outputs": [],
   "source": [
    "lists =  dft\n",
    "words = []\n",
    "for wordList in lists:\n",
    "    words += wordList\n",
    "fdist = FreqDist(words)"
   ]
  },
  {
   "cell_type": "markdown",
   "metadata": {},
   "source": [
    "### Unigram"
   ]
  },
  {
   "cell_type": "code",
   "execution_count": 52,
   "metadata": {
    "collapsed": true
   },
   "outputs": [
    {
     "name": "stdout",
     "output_type": "stream",
     "text": [
      "All frequencies\n",
      "===================================\n",
      "     Word  Frequency\n",
      "0     the        130\n",
      "1      to        128\n",
      "2     you        110\n",
      "3      we         95\n",
      "4     and         83\n",
      "5   right         82\n",
      "6      so         81\n",
      "7      it         75\n",
      "8      do         68\n",
      "9    that         66\n",
      "10   here         55\n",
      "11     go         54\n",
      "12   this         53\n",
      "13      a         53\n",
      "14   then         51\n",
      "15      i         50\n",
      "16   what         48\n",
      "17     is         48\n",
      "18      s         44\n",
      "19   have         40\n",
      "20    one         34\n",
      "21   like         33\n",
      "22      t         32\n",
      "23     be         29\n",
      "24    can         27\n"
     ]
    }
   ],
   "source": [
    "top_N = 25\n",
    "word_dist = nltk.FreqDist(fdist)\n",
    "print('All frequencies')\n",
    "print('='*35)\n",
    "rslt=pd.DataFrame(word_dist.most_common(top_N),columns=['Word','Frequency'])\n",
    "print(rslt)"
   ]
  },
  {
   "cell_type": "code",
   "execution_count": 53,
   "metadata": {
    "collapsed": true
   },
   "outputs": [
    {
     "data": {
      "text/plain": [
       "<AxesSubplot:xlabel='Word'>"
      ]
     },
     "execution_count": 53,
     "metadata": {},
     "output_type": "execute_result"
    },
    {
     "data": {
      "image/png": "[encoded data removed]",
      "text/plain": [
       "<Figure size 432x288 with 1 Axes>"
      ]
     },
     "metadata": {},
     "output_type": "display_data"
    }
   ],
   "source": [
    "t_N = 10\n",
    "r = pd.DataFrame(word_dist.most_common(t_N),\n",
    "                    columns=['Word', 'Frequency']).set_index('Word')\n",
    "matplotlib.style.use('ggplot')\n",
    "r.plot.bar(rot=0, width=0.5)"
   ]
  },
  {
   "cell_type": "markdown",
   "metadata": {},
   "source": [
    "### Bigram"
   ]
  },
  {
   "cell_type": "code",
   "execution_count": 54,
   "metadata": {
    "collapsed": true
   },
   "outputs": [
    {
     "data": {
      "text/plain": [
       "[(('and', 'then'), 32),\n",
       " (('do', 'you'), 28),\n",
       " (('have', 'to'), 25),\n",
       " (('you', 'want'), 16),\n",
       " (('so', 'we'), 15),\n",
       " (('it', 's'), 15),\n",
       " (('we', 'have'), 14),\n",
       " (('don', 't'), 14),\n",
       " (('right', 'and'), 13),\n",
       " (('want', 'to'), 13),\n",
       " (('so', 'you'), 13),\n",
       " (('to', 'go'), 13),\n",
       " (('the', 'base'), 12),\n",
       " (('what', 'i'), 12),\n",
       " (('is', 'that'), 12),\n",
       " (('the', 'same'), 11),\n",
       " (('do', 'we'), 11),\n",
       " (('you', 're'), 11),\n",
       " (('this', 'is'), 11),\n",
       " (('here', 'right'), 11),\n",
       " (('right', 'so'), 11),\n",
       " (('that', 's'), 10),\n",
       " (('the', 'truck'), 10),\n",
       " (('going', 'to'), 10),\n",
       " (('to', 'be'), 10)]"
      ]
     },
     "execution_count": 54,
     "metadata": {},
     "output_type": "execute_result"
    }
   ],
   "source": [
    "word_fd = nltk.FreqDist(words)\n",
    "bigram_fd = nltk.FreqDist(nltk.bigrams(words))\n",
    "bigram_fd.most_common(25)"
   ]
  },
  {
   "cell_type": "markdown",
   "metadata": {},
   "source": [
    "### Trigram"
   ]
  },
  {
   "cell_type": "code",
   "execution_count": 55,
   "metadata": {
    "collapsed": true
   },
   "outputs": [
    {
     "data": {
      "text/plain": [
       "[(('you', 'want', 'to'), 12),\n",
       " (('you', 'know', 'what'), 9),\n",
       " (('know', 'what', 'i'), 9),\n",
       " (('we', 'have', 'to'), 9),\n",
       " (('do', 'you', 'want'), 9),\n",
       " (('right', 'and', 'then'), 8),\n",
       " (('what', 'i', 'mean'), 6),\n",
       " (('i', 'don', 't'), 6),\n",
       " (('do', 'we', 'have'), 5),\n",
       " (('you', 're', 'saying'), 5),\n",
       " (('does', 'that', 'make'), 5),\n",
       " (('that', 'make', 'sense'), 5),\n",
       " (('they', 'have', 'to'), 5),\n",
       " (('what', 'do', 'you'), 4),\n",
       " (('do', 'you', 'mean'), 4),\n",
       " (('don', 't', 'know'), 4),\n",
       " (('do', 'you', 'think'), 4),\n",
       " (('only', 'one', 'bridge'), 4),\n",
       " (('right', 'does', 'that'), 4),\n",
       " (('it', 's', 'gon'), 4),\n",
       " (('s', 'gon', 'na'), 4),\n",
       " (('to', 'go', 'back'), 4),\n",
       " (('you', 'were', 'saying'), 4),\n",
       " (('so', 'you', 're'), 4),\n",
       " (('do', 'you', 'know'), 4)]"
      ]
     },
     "execution_count": 55,
     "metadata": {},
     "output_type": "execute_result"
    }
   ],
   "source": [
    "word_fd = nltk.FreqDist(words)\n",
    "trigram_fd = nltk.FreqDist(nltk.trigrams(words))\n",
    "trigram_fd.most_common(25)"
   ]
  },
  {
   "cell_type": "markdown",
   "metadata": {},
   "source": [
    "# Check Column Qr"
   ]
  },
  {
   "cell_type": "code",
   "execution_count": 56,
   "metadata": {
    "collapsed": true
   },
   "outputs": [],
   "source": [
    "dfQr = df[df.Qr > 0]\n",
    "dfQr.columns = ['E', 'P', 'Qc', 'Qi', 'Qr', 'Ra', 'Rm', 'Rd', 'S', 'J', 'N', 'C', 'Speaker', 'Text', 'Utterances', 'Unnamed']"
   ]
  },
  {
   "cell_type": "code",
   "execution_count": 57,
   "metadata": {
    "collapsed": true
   },
   "outputs": [
    {
     "name": "stdout",
     "output_type": "stream",
     "text": [
      "     E  P  Qc  Qi  Qr  Ra  Rm  Rd  S  J  N  C Speaker  \\\n",
      "24   2  0   1   0   1   0   0   0  0  1  0  0       B   \n",
      "63   1  0   2   0   1   0   0   0  0  0  0  0       B   \n",
      "129  0  2   2   0   1   0   0   0  0  3  0  0       B   \n",
      "144  0  0   0   0   1   1   0   0  2  0  0  0       B   \n",
      "89   2  0   0   0   3   0   2   0  0  0  0  0       B   \n",
      "..  .. ..  ..  ..  ..  ..  ..  .. .. .. .. ..     ...   \n",
      "67   1  0   1   0   1   0   0   0  0  1  0  0       B   \n",
      "91   3  0   0   1   1   0   0   0  0  0  0  0       B   \n",
      "77   2  0   1   1   1   0   0   0  0  0  0  0       A   \n",
      "13   0  0   1   0   2   0   0   0  0  0  0  0       B   \n",
      "44   0  3   0   0   1   0   0   0  0  3  0  0       A   \n",
      "\n",
      "                                                  Text  \\\n",
      "24                  as long as it cuts the river right   \n",
      "63   and the goal is to reach each village at least...   \n",
      "129                                    what if we do c   \n",
      "144                                               yeah   \n",
      "89   if you have to start and finish in the same pl...   \n",
      "..                                                 ...   \n",
      "67                                                 NaN   \n",
      "91                                                 NaN   \n",
      "77   let s say how much it s gonna be another used ...   \n",
      "13                                                 NaN   \n",
      "44                                                 NaN   \n",
      "\n",
      "                                            Utterances Unnamed  \n",
      "24                                                 NaN     NaN  \n",
      "63                                                 NaN     NaN  \n",
      "129                                                NaN     NaN  \n",
      "144                                                NaN     NaN  \n",
      "89                                                 NaN     NaN  \n",
      "..                                                 ...     ...  \n",
      "67                                               a e b     NaN  \n",
      "91   you re starting with a right yeah it s all the...     NaN  \n",
      "77                                                 NaN     NaN  \n",
      "13               well how many steps will that be then     NaN  \n",
      "44       yeah so which way so i say we start from here     NaN  \n",
      "\n",
      "[92 rows x 16 columns]\n"
     ]
    }
   ],
   "source": [
    "print(dfQr)"
   ]
  },
  {
   "cell_type": "code",
   "execution_count": 58,
   "metadata": {
    "collapsed": true
   },
   "outputs": [
    {
     "name": "stdout",
     "output_type": "stream",
     "text": [
      "24                    as long as it cuts the river right\n",
      "63     and the goal is to reach each village at least...\n",
      "129                                      what if we do c\n",
      "144                                                 yeah\n",
      "89     if you have to start and finish in the same pl...\n",
      "                             ...                        \n",
      "67                                                   NaN\n",
      "91                                                   NaN\n",
      "77     let s say how much it s gonna be another used ...\n",
      "13                                                   NaN\n",
      "44                                                   NaN\n",
      "Name: Text, Length: 92, dtype: object\n"
     ]
    }
   ],
   "source": [
    "print(dfQr.Text)"
   ]
  },
  {
   "cell_type": "code",
   "execution_count": 59,
   "metadata": {
    "collapsed": true
   },
   "outputs": [],
   "source": [
    "mask = [isinstance(item, (str, bytes)) for item in dfQr.Text]\n",
    "dfQr = dfQr.loc[mask]\n",
    "dfQr.Text = dfQr.Text.astype(str)"
   ]
  },
  {
   "cell_type": "code",
   "execution_count": 60,
   "metadata": {
    "collapsed": true
   },
   "outputs": [
    {
     "name": "stdout",
     "output_type": "stream",
     "text": [
      "24                    as long as it cuts the river right\n",
      "63     and the goal is to reach each village at least...\n",
      "129                                      what if we do c\n",
      "144                                                 yeah\n",
      "89     if you have to start and finish in the same pl...\n",
      "                             ...                        \n",
      "52     so going from g right here is the starting poi...\n",
      "26                                           t it or not\n",
      "75                                    is that more roads\n",
      "11     no this guide goes into pretty awesome details...\n",
      "77     let s say how much it s gonna be another used ...\n",
      "Name: Text, Length: 69, dtype: object\n"
     ]
    }
   ],
   "source": [
    "dfQr = dfQr.Text\n",
    "print(dfQr)"
   ]
  },
  {
   "cell_type": "code",
   "execution_count": 61,
   "metadata": {
    "collapsed": true
   },
   "outputs": [
    {
     "name": "stdout",
     "output_type": "stream",
     "text": [
      "All frequencies\n",
      "===================================\n",
      "                                                 Word  Frequency\n",
      "0                                you know what i mean          5\n",
      "1                                               right          5\n",
      "2                                                yeah          3\n",
      "3                               you know what i m say          2\n",
      "4                         do you know what i m saying          2\n",
      "5                  as long as it cuts the river right          1\n",
      "6   and the goal is to reach each village at least...          1\n",
      "7                                     what if we do c          1\n",
      "8   if you have to start and finish in the same pl...          1\n",
      "9                                 what do we have now          1\n",
      "10         oh but we only got one crossing haven t we          1\n",
      "11                              it s a bit messy t it          1\n",
      "12           i guess it t make any difference does it          1\n",
      "13  oh could oh if we we re assuming that we can g...          1\n",
      "14                               yours is longer okay          1\n",
      "15        or would it make more sense to go like that          1\n",
      "16  i think it s gonna it s gonna to come back rig...          1\n",
      "17                                                 no          1\n",
      "18  i don t think a has to be whatever i don t thi...          1\n",
      "19         okay here ready are we committing chuckles          1\n",
      "20  cool and so then it goes this way here cool so...          1\n",
      "21  well yeah that s my question is like which way...          1\n",
      "22  so like we re solid on what s going on with th...          1\n",
      "23  and so would it i what if we did like alright ...          1\n",
      "24                                          yeah yeah          1\n"
     ]
    }
   ],
   "source": [
    "top_N = 25\n",
    "word_dist = nltk.FreqDist(dfQr)\n",
    "print('All frequencies')\n",
    "print('='*35)\n",
    "rslt=pd.DataFrame(word_dist.most_common(top_N),columns=['Word','Frequency'])\n",
    "print(rslt)"
   ]
  },
  {
   "cell_type": "code",
   "execution_count": 62,
   "metadata": {
    "collapsed": true
   },
   "outputs": [
    {
     "data": {
      "text/plain": [
       "<AxesSubplot:xlabel='Word'>"
      ]
     },
     "execution_count": 62,
     "metadata": {},
     "output_type": "execute_result"
    },
    {
     "data": {
      "image/png": "[encoded data removed]",
      "text/plain": [
       "<Figure size 432x288 with 1 Axes>"
      ]
     },
     "metadata": {},
     "output_type": "display_data"
    }
   ],
   "source": [
    "t_N = 10\n",
    "r = pd.DataFrame(word_dist.most_common(t_N),\n",
    "                    columns=['Word', 'Frequency']).set_index('Word')\n",
    "matplotlib.style.use('ggplot')\n",
    "r.plot.bar(rot=90, width=0.5)"
   ]
  },
  {
   "cell_type": "code",
   "execution_count": 63,
   "metadata": {
    "collapsed": true
   },
   "outputs": [
    {
     "name": "stdout",
     "output_type": "stream",
     "text": [
      "24           [as, long, as, it, cuts, the, river, right]\n",
      "63     [and, the, goal, is, to, reach, each, village,...\n",
      "129                                [what, if, we, do, c]\n",
      "144                                               [yeah]\n",
      "89     [if, you, have, to, start, and, finish, in, th...\n",
      "                             ...                        \n",
      "52     [so, going, from, g, right, here, is, the, sta...\n",
      "26                                      [t, it, or, not]\n",
      "75                               [is, that, more, roads]\n",
      "11     [no, this, guide, goes, into, pretty, awesome,...\n",
      "77     [let, s, say, how, much, it, s, gon, na, be, a...\n",
      "Name: Text, Length: 69, dtype: object\n"
     ]
    }
   ],
   "source": [
    "dft = dfQr.apply(nltk.word_tokenize)\n",
    "print(dft)"
   ]
  },
  {
   "cell_type": "code",
   "execution_count": 64,
   "metadata": {
    "collapsed": true
   },
   "outputs": [],
   "source": [
    "lists =  dft\n",
    "words = []\n",
    "for wordList in lists:\n",
    "    words += wordList\n",
    "fdist = FreqDist(words)"
   ]
  },
  {
   "cell_type": "markdown",
   "metadata": {},
   "source": [
    "### Unigram"
   ]
  },
  {
   "cell_type": "code",
   "execution_count": 65,
   "metadata": {
    "collapsed": true
   },
   "outputs": [
    {
     "name": "stdout",
     "output_type": "stream",
     "text": [
      "All frequencies\n",
      "===================================\n",
      "       Word  Frequency\n",
      "0        it         31\n",
      "1         i         24\n",
      "2        we         23\n",
      "3     right         22\n",
      "4       the         21\n",
      "5      what         19\n",
      "6        to         18\n",
      "7       you         18\n",
      "8         t         16\n",
      "9         s         16\n",
      "10       so         16\n",
      "11       is         13\n",
      "12     know         13\n",
      "13        a         13\n",
      "14     that         12\n",
      "15     this         12\n",
      "16      and         11\n",
      "17     here         11\n",
      "18       do         10\n",
      "19     have         10\n",
      "20     then          9\n",
      "21     mean          8\n",
      "22     yeah          7\n",
      "23        m          7\n",
      "24  because          7\n"
     ]
    }
   ],
   "source": [
    "top_N = 25\n",
    "word_dist = nltk.FreqDist(fdist)\n",
    "print('All frequencies')\n",
    "print('='*35)\n",
    "rslt=pd.DataFrame(word_dist.most_common(top_N),columns=['Word','Frequency'])\n",
    "print(rslt)"
   ]
  },
  {
   "cell_type": "code",
   "execution_count": 66,
   "metadata": {
    "collapsed": true
   },
   "outputs": [
    {
     "data": {
      "text/plain": [
       "<AxesSubplot:xlabel='Word'>"
      ]
     },
     "execution_count": 66,
     "metadata": {},
     "output_type": "execute_result"
    },
    {
     "data": {
      "image/png": "[encoded data removed]",
      "text/plain": [
       "<Figure size 432x288 with 1 Axes>"
      ]
     },
     "metadata": {},
     "output_type": "display_data"
    }
   ],
   "source": [
    "t_N = 10\n",
    "r = pd.DataFrame(word_dist.most_common(t_N),\n",
    "                    columns=['Word', 'Frequency']).set_index('Word')\n",
    "matplotlib.style.use('ggplot')\n",
    "r.plot.bar(rot=0, width=0.5)"
   ]
  },
  {
   "cell_type": "markdown",
   "metadata": {},
   "source": [
    "### Bigram"
   ]
  },
  {
   "cell_type": "code",
   "execution_count": 67,
   "metadata": {
    "collapsed": true
   },
   "outputs": [
    {
     "data": {
      "text/plain": [
       "[(('what', 'i'), 14),\n",
       " (('you', 'know'), 13),\n",
       " (('know', 'what'), 13),\n",
       " (('i', 'mean'), 8),\n",
       " (('it', 's'), 8),\n",
       " (('i', 'm'), 7),\n",
       " (('don', 't'), 6),\n",
       " (('that', 's'), 6),\n",
       " (('do', 'you'), 6),\n",
       " (('has', 'to'), 5),\n",
       " (('the', 'river'), 4),\n",
       " (('have', 'to'), 4),\n",
       " (('the', 'same'), 4),\n",
       " (('t', 'it'), 4),\n",
       " (('does', 'it'), 4),\n",
       " (('we', 're'), 4),\n",
       " (('to', 'go'), 4),\n",
       " (('if', 'we'), 3),\n",
       " (('do', 'we'), 3),\n",
       " (('right', 'right'), 3),\n",
       " (('i', 'think'), 3),\n",
       " (('s', 'gon'), 3),\n",
       " (('gon', 'na'), 3),\n",
       " (('right', 'because'), 3),\n",
       " (('to', 'have'), 3)]"
      ]
     },
     "execution_count": 67,
     "metadata": {},
     "output_type": "execute_result"
    }
   ],
   "source": [
    "word_fd = nltk.FreqDist(words)\n",
    "bigram_fd = nltk.FreqDist(nltk.bigrams(words))\n",
    "bigram_fd.most_common(25)"
   ]
  },
  {
   "cell_type": "markdown",
   "metadata": {},
   "source": [
    "### Trigram"
   ]
  },
  {
   "cell_type": "code",
   "execution_count": 68,
   "metadata": {
    "collapsed": true
   },
   "outputs": [
    {
     "data": {
      "text/plain": [
       "[(('you', 'know', 'what'), 13),\n",
       " (('know', 'what', 'i'), 13),\n",
       " (('what', 'i', 'mean'), 8),\n",
       " (('what', 'i', 'm'), 6),\n",
       " (('do', 'you', 'know'), 5),\n",
       " (('it', 's', 'gon'), 3),\n",
       " (('s', 'gon', 'na'), 3),\n",
       " (('it', 'has', 'to'), 3),\n",
       " (('has', 'to', 'go'), 3),\n",
       " (('we', 'don', 't'), 3),\n",
       " (('don', 't', 'have'), 3),\n",
       " (('t', 'have', 'a'), 3),\n",
       " (('i', 'm', 'saying'), 3),\n",
       " (('what', 'if', 'we'), 2),\n",
       " (('has', 'to', 'be'), 2),\n",
       " (('do', 'we', 'have'), 2),\n",
       " (('it', 's', 'a'), 2),\n",
       " (('i', 'm', 'say'), 2),\n",
       " (('i', 'don', 't'), 2),\n",
       " (('don', 't', 'think'), 2),\n",
       " (('to', 'go', 'here'), 2),\n",
       " (('go', 'here', 'because'), 2),\n",
       " (('here', 'because', 'we'), 2),\n",
       " (('because', 'we', 'don'), 2),\n",
       " (('have', 'a', 'choice'), 2)]"
      ]
     },
     "execution_count": 68,
     "metadata": {},
     "output_type": "execute_result"
    }
   ],
   "source": [
    "word_fd = nltk.FreqDist(words)\n",
    "trigram_fd = nltk.FreqDist(nltk.trigrams(words))\n",
    "trigram_fd.most_common(25)"
   ]
  },
  {
   "cell_type": "code",
   "execution_count": null,
   "metadata": {
    "collapsed": true
   },
   "outputs": [],
   "source": []
  },
  {
   "cell_type": "markdown",
   "metadata": {},
   "source": [
    "# Check Column Ra"
   ]
  },
  {
   "cell_type": "code",
   "execution_count": 69,
   "metadata": {
    "collapsed": true
   },
   "outputs": [],
   "source": [
    "dfRa = df[df.Ra > 0]\n",
    "dfRa.columns = ['E', 'P', 'Qc', 'Qi', 'Qr', 'Ra', 'Rm', 'Rd', 'S', 'J', 'N', 'C', 'Speaker', 'Text', 'Utterances', 'Unnamed']"
   ]
  },
  {
   "cell_type": "code",
   "execution_count": 70,
   "metadata": {
    "collapsed": true
   },
   "outputs": [
    {
     "name": "stdout",
     "output_type": "stream",
     "text": [
      "     E  P  Qc  Qi  Qr  Ra  Rm  Rd  S  J  N  C Speaker  \\\n",
      "1    1  0   0   0   0   1   2   0  0  0  0  0       B   \n",
      "2    0  0   0   0   0   3   0   0  0  0  0  0       A   \n",
      "8    0  0   0   0   0   3   0   0  0  0  0  0       A   \n",
      "13   0  0   0   0   0   3   0   0  0  0  0  0       A   \n",
      "19   0  0   1   1   0   1   0   0  0  0  0  0       B   \n",
      "..  .. ..  ..  ..  ..  ..  ..  .. .. .. .. ..     ...   \n",
      "88   0  0   0   0   0   2   0   0  3  2  0  0       A   \n",
      "93   0  0   0   0   0   2   0   0  3  0  0  0       A   \n",
      "97   3  0   0   0   0   2   0   0  0  0  0  0       A   \n",
      "109  0  0   0   0   0   3   0   0  0  3  0  0       A   \n",
      "111  0  0   0   0   0   3   0   0  0  0  0  0       A   \n",
      "\n",
      "                                                  Text Utterances Unnamed  \n",
      "1                                      only one bridge        NaN     NaN  \n",
      "2                                                 yeah        NaN     NaN  \n",
      "8                                                 yeah        NaN     NaN  \n",
      "13                                                yeah        NaN     NaN  \n",
      "19                                  that was confirmed        NaN     NaN  \n",
      "..                                                 ...        ...     ...  \n",
      "88                       yeah you never know let s see        NaN     NaN  \n",
      "93                          yeah yeah definitely laugh        NaN     NaN  \n",
      "97   yeah i let s see i was thinking this will be s...        NaN     NaN  \n",
      "109  yeah i feel like that yeah we could yeah here ...        NaN     NaN  \n",
      "111                                               yeah        NaN     NaN  \n",
      "\n",
      "[1539 rows x 16 columns]\n"
     ]
    }
   ],
   "source": [
    "print(dfRa)"
   ]
  },
  {
   "cell_type": "code",
   "execution_count": 71,
   "metadata": {
    "collapsed": true
   },
   "outputs": [
    {
     "name": "stdout",
     "output_type": "stream",
     "text": [
      "1                                        only one bridge\n",
      "2                                                   yeah\n",
      "8                                                   yeah\n",
      "13                                                  yeah\n",
      "19                                    that was confirmed\n",
      "                             ...                        \n",
      "88                         yeah you never know let s see\n",
      "93                            yeah yeah definitely laugh\n",
      "97     yeah i let s see i was thinking this will be s...\n",
      "109    yeah i feel like that yeah we could yeah here ...\n",
      "111                                                 yeah\n",
      "Name: Text, Length: 1539, dtype: object\n"
     ]
    }
   ],
   "source": [
    "print(dfRa.Text)"
   ]
  },
  {
   "cell_type": "code",
   "execution_count": 72,
   "metadata": {
    "collapsed": true
   },
   "outputs": [],
   "source": [
    "mask = [isinstance(item, (str, bytes)) for item in dfRa.Text]\n",
    "dfRa = dfRa.loc[mask]\n",
    "dfRa.Text = dfRa.Text.astype(str)"
   ]
  },
  {
   "cell_type": "code",
   "execution_count": 73,
   "metadata": {
    "collapsed": true
   },
   "outputs": [
    {
     "name": "stdout",
     "output_type": "stream",
     "text": [
      "1                                        only one bridge\n",
      "2                                                   yeah\n",
      "8                                                   yeah\n",
      "13                                                  yeah\n",
      "19                                    that was confirmed\n",
      "                             ...                        \n",
      "88                         yeah you never know let s see\n",
      "93                            yeah yeah definitely laugh\n",
      "97     yeah i let s see i was thinking this will be s...\n",
      "109    yeah i feel like that yeah we could yeah here ...\n",
      "111                                                 yeah\n",
      "Name: Text, Length: 908, dtype: object\n"
     ]
    }
   ],
   "source": [
    "dfRa = dfRa.Text\n",
    "print(dfRa)"
   ]
  },
  {
   "cell_type": "code",
   "execution_count": 74,
   "metadata": {
    "collapsed": true
   },
   "outputs": [
    {
     "name": "stdout",
     "output_type": "stream",
     "text": [
      "All frequencies\n",
      "===================================\n",
      "             Word  Frequency\n",
      "0            yeah        206\n",
      "1           right         57\n",
      "2             hmm         56\n",
      "3            okay         38\n",
      "4             yes         22\n",
      "5             yup         10\n",
      "6              oh          8\n",
      "7         alright          7\n",
      "8            sure          7\n",
      "9         oh yeah          5\n",
      "10           cool          4\n",
      "11      yeah yeah          4\n",
      "12     i think so          4\n",
      "13        perfect          3\n",
      "14       chuckles          3\n",
      "15    right right          3\n",
      "16       oh i see          3\n",
      "17          i see          2\n",
      "18     yeah right          2\n",
      "19    sounds good          2\n",
      "20  yeah go ahead          2\n",
      "21          great          2\n",
      "22      sure yeah          2\n",
      "23    finalize it          2\n",
      "24    i like that          2\n"
     ]
    }
   ],
   "source": [
    "top_N = 25\n",
    "word_dist = nltk.FreqDist(dfRa)\n",
    "print('All frequencies')\n",
    "print('='*35)\n",
    "rslt=pd.DataFrame(word_dist.most_common(top_N),columns=['Word','Frequency'])\n",
    "print(rslt)"
   ]
  },
  {
   "cell_type": "code",
   "execution_count": 75,
   "metadata": {
    "collapsed": true
   },
   "outputs": [
    {
     "data": {
      "text/plain": [
       "<AxesSubplot:xlabel='Word'>"
      ]
     },
     "execution_count": 75,
     "metadata": {},
     "output_type": "execute_result"
    },
    {
     "data": {
      "image/png": "[encoded data removed]",
      "text/plain": [
       "<Figure size 432x288 with 1 Axes>"
      ]
     },
     "metadata": {},
     "output_type": "display_data"
    }
   ],
   "source": [
    "t_N = 10\n",
    "r = pd.DataFrame(word_dist.most_common(t_N),\n",
    "                    columns=['Word', 'Frequency']).set_index('Word')\n",
    "matplotlib.style.use('ggplot')\n",
    "r.plot.bar(rot=0, width=0.5)"
   ]
  },
  {
   "cell_type": "code",
   "execution_count": 76,
   "metadata": {
    "collapsed": true
   },
   "outputs": [
    {
     "name": "stdout",
     "output_type": "stream",
     "text": [
      "1                                    [only, one, bridge]\n",
      "2                                                 [yeah]\n",
      "8                                                 [yeah]\n",
      "13                                                [yeah]\n",
      "19                                [that, was, confirmed]\n",
      "                             ...                        \n",
      "88                 [yeah, you, never, know, let, s, see]\n",
      "93                       [yeah, yeah, definitely, laugh]\n",
      "97     [yeah, i, let, s, see, i, was, thinking, this,...\n",
      "109    [yeah, i, feel, like, that, yeah, we, could, y...\n",
      "111                                               [yeah]\n",
      "Name: Text, Length: 908, dtype: object\n"
     ]
    }
   ],
   "source": [
    "dft = dfRa.apply(nltk.word_tokenize)\n",
    "print(dft)"
   ]
  },
  {
   "cell_type": "code",
   "execution_count": 77,
   "metadata": {
    "collapsed": true
   },
   "outputs": [],
   "source": [
    "lists =  dft\n",
    "words = []\n",
    "for wordList in lists:\n",
    "    words += wordList\n",
    "fdist = FreqDist(words)"
   ]
  },
  {
   "cell_type": "markdown",
   "metadata": {},
   "source": [
    "### Unigram"
   ]
  },
  {
   "cell_type": "code",
   "execution_count": 78,
   "metadata": {
    "collapsed": true
   },
   "outputs": [
    {
     "name": "stdout",
     "output_type": "stream",
     "text": [
      "All frequencies\n",
      "===================================\n",
      "     Word  Frequency\n",
      "0    yeah        426\n",
      "1   right        179\n",
      "2       i        140\n",
      "3    that        136\n",
      "4       s        122\n",
      "5      it        112\n",
      "6      to         87\n",
      "7     you         73\n",
      "8    okay         71\n",
      "9     the         68\n",
      "10     oh         64\n",
      "11  think         61\n",
      "12     so         61\n",
      "13     we         61\n",
      "14   then         57\n",
      "15    hmm         57\n",
      "16   like         55\n",
      "17   this         52\n",
      "18      a         50\n",
      "19    and         40\n",
      "20     is         39\n",
      "21     be         38\n",
      "22   have         37\n",
      "23    yes         34\n",
      "24     go         33\n"
     ]
    }
   ],
   "source": [
    "top_N = 25\n",
    "word_dist = nltk.FreqDist(fdist)\n",
    "print('All frequencies')\n",
    "print('='*35)\n",
    "rslt=pd.DataFrame(word_dist.most_common(top_N),columns=['Word','Frequency'])\n",
    "print(rslt)"
   ]
  },
  {
   "cell_type": "code",
   "execution_count": 79,
   "metadata": {
    "collapsed": true
   },
   "outputs": [
    {
     "data": {
      "text/plain": [
       "<AxesSubplot:xlabel='Word'>"
      ]
     },
     "execution_count": 79,
     "metadata": {},
     "output_type": "execute_result"
    },
    {
     "data": {
      "image/png": "[encoded data removed]",
      "text/plain": [
       "<Figure size 432x288 with 1 Axes>"
      ]
     },
     "metadata": {},
     "output_type": "display_data"
    }
   ],
   "source": [
    "t_N = 10\n",
    "r = pd.DataFrame(word_dist.most_common(t_N),\n",
    "                    columns=['Word', 'Frequency']).set_index('Word')\n",
    "matplotlib.style.use('ggplot')\n",
    "r.plot.bar(rot=0, width=0.5)"
   ]
  },
  {
   "cell_type": "markdown",
   "metadata": {},
   "source": [
    "### Bigram"
   ]
  },
  {
   "cell_type": "code",
   "execution_count": 80,
   "metadata": {
    "collapsed": true
   },
   "outputs": [
    {
     "data": {
      "text/plain": [
       "[(('yeah', 'yeah'), 125),\n",
       " (('that', 's'), 67),\n",
       " (('i', 'think'), 53),\n",
       " (('right', 'right'), 47),\n",
       " (('yeah', 'i'), 44),\n",
       " (('it', 's'), 32),\n",
       " (('right', 'yeah'), 32),\n",
       " (('have', 'to'), 30),\n",
       " (('yeah', 'that'), 28),\n",
       " (('and', 'then'), 23),\n",
       " (('yeah', 'it'), 21),\n",
       " (('hmm', 'yeah'), 20),\n",
       " (('yeah', 'okay'), 19),\n",
       " (('let', 's'), 18),\n",
       " (('yeah', 'right'), 18),\n",
       " (('i', 'see'), 17),\n",
       " (('think', 'that'), 16),\n",
       " (('you', 're'), 16),\n",
       " (('oh', 'yeah'), 14),\n",
       " (('okay', 'yeah'), 14),\n",
       " (('s', 'a'), 14),\n",
       " (('this', 'is'), 13),\n",
       " (('like', 'that'), 13),\n",
       " (('would', 'be'), 12),\n",
       " (('yeah', 'oh'), 12)]"
      ]
     },
     "execution_count": 80,
     "metadata": {},
     "output_type": "execute_result"
    }
   ],
   "source": [
    "word_fd = nltk.FreqDist(words)\n",
    "bigram_fd = nltk.FreqDist(nltk.bigrams(words))\n",
    "bigram_fd.most_common(25)"
   ]
  },
  {
   "cell_type": "markdown",
   "metadata": {},
   "source": [
    "### Trigram"
   ]
  },
  {
   "cell_type": "code",
   "execution_count": 81,
   "metadata": {
    "collapsed": true
   },
   "outputs": [
    {
     "data": {
      "text/plain": [
       "[(('yeah', 'yeah', 'yeah'), 45),\n",
       " (('yeah', 'i', 'think'), 25),\n",
       " (('yeah', 'that', 's'), 20),\n",
       " (('right', 'right', 'right'), 17),\n",
       " (('i', 'think', 'that'), 14),\n",
       " (('i', 'think', 'so'), 11),\n",
       " (('you', 're', 'right'), 11),\n",
       " (('yeah', 'it', 's'), 9),\n",
       " (('that', 's', 'a'), 9),\n",
       " (('that', 'makes', 'sense'), 9),\n",
       " (('yeah', 'yeah', 'i'), 8),\n",
       " (('think', 'that', 's'), 8),\n",
       " (('yeah', 'yeah', 'right'), 8),\n",
       " (('we', 'have', 'to'), 8),\n",
       " (('oh', 'i', 'see'), 8),\n",
       " (('s', 'a', 'good'), 8),\n",
       " (('that', 's', 'true'), 8),\n",
       " (('right', 'yeah', 'yeah'), 7),\n",
       " (('yeah', 'hmm', 'yeah'), 7),\n",
       " (('you', 'have', 'to'), 7),\n",
       " (('have', 'to', 'go'), 7),\n",
       " (('yeah', 'right', 'right'), 7),\n",
       " (('right', 'right', 'yeah'), 7),\n",
       " (('i', 'think', 'it'), 7),\n",
       " (('let', 's', 'see'), 7)]"
      ]
     },
     "execution_count": 81,
     "metadata": {},
     "output_type": "execute_result"
    }
   ],
   "source": [
    "word_fd = nltk.FreqDist(words)\n",
    "trigram_fd = nltk.FreqDist(nltk.trigrams(words))\n",
    "trigram_fd.most_common(25)"
   ]
  },
  {
   "cell_type": "code",
   "execution_count": null,
   "metadata": {
    "collapsed": true
   },
   "outputs": [],
   "source": []
  },
  {
   "cell_type": "markdown",
   "metadata": {},
   "source": [
    "# Check Column Rm"
   ]
  },
  {
   "cell_type": "code",
   "execution_count": 82,
   "metadata": {
    "collapsed": true
   },
   "outputs": [],
   "source": [
    "dfRm = df[df.Rm > 0]\n",
    "dfRm.columns = ['E', 'P', 'Qc', 'Qi', 'Qr', 'Ra', 'Rm', 'Rd', 'S', 'J', 'N', 'C', 'Speaker', 'Text', 'Utterances', 'Unnamed']"
   ]
  },
  {
   "cell_type": "code",
   "execution_count": 83,
   "metadata": {
    "collapsed": true
   },
   "outputs": [
    {
     "name": "stdout",
     "output_type": "stream",
     "text": [
      "     E  P  Qc  Qi  Qr  Ra  Rm  Rd  S  J  N  C Speaker  \\\n",
      "1    1  0   0   0   0   1   2   0  0  0  0  0       B   \n",
      "25   2  0   0   0   0   0   1   0  0  0  0  0       A   \n",
      "26   0  0   0   0   0   1   1   0  1  0  0  0       B   \n",
      "27   3  0   0   0   0   0   1   0  0  3  0  0       A   \n",
      "38   0  0   0   0   0   0   1   0  2  0  0  0       A   \n",
      "..  .. ..  ..  ..  ..  ..  ..  .. .. .. .. ..     ...   \n",
      "41   0  0   0   0   0   3   2   0  0  3  0  0       B   \n",
      "50   1  0   0   2   0   0   1   0  0  3  0  0       B   \n",
      "101  3  0   0   0   0   0   2   0  0  2  0  0       A   \n",
      "106  3  0   0   0   0   0   2   0  0  1  0  0       B   \n",
      "107  2  0   0   0   0   0   1   0  0  3  0  0       B   \n",
      "\n",
      "                                                  Text Utterances Unnamed  \n",
      "1                                      only one bridge        NaN     NaN  \n",
      "25        i think it depends on where you put the base        NaN     NaN  \n",
      "26                                                 NaN        NaN     NaN  \n",
      "27   yeah i mean this i think the route between f g...        NaN     NaN  \n",
      "38                                                okay        NaN     NaN  \n",
      "..                                                 ...        ...     ...  \n",
      "41   yeah this is definitely shorter but then so th...        NaN     NaN  \n",
      "50          and then so you say that the base would be        NaN     NaN  \n",
      "101  my only worry is that it s a longer road when ...        NaN     NaN  \n",
      "106  because if we have already the point is that i...        NaN     NaN  \n",
      "107  cause it s actually it seems longer from here ...        NaN     NaN  \n",
      "\n",
      "[788 rows x 16 columns]\n"
     ]
    }
   ],
   "source": [
    "print(dfRm)"
   ]
  },
  {
   "cell_type": "code",
   "execution_count": 84,
   "metadata": {
    "collapsed": true
   },
   "outputs": [
    {
     "name": "stdout",
     "output_type": "stream",
     "text": [
      "1                                        only one bridge\n",
      "25          i think it depends on where you put the base\n",
      "26                                                   NaN\n",
      "27     yeah i mean this i think the route between f g...\n",
      "38                                                  okay\n",
      "                             ...                        \n",
      "41     yeah this is definitely shorter but then so th...\n",
      "50            and then so you say that the base would be\n",
      "101    my only worry is that it s a longer road when ...\n",
      "106    because if we have already the point is that i...\n",
      "107    cause it s actually it seems longer from here ...\n",
      "Name: Text, Length: 788, dtype: object\n"
     ]
    }
   ],
   "source": [
    "print(dfRm.Text)"
   ]
  },
  {
   "cell_type": "code",
   "execution_count": 85,
   "metadata": {
    "collapsed": true
   },
   "outputs": [],
   "source": [
    "mask = [isinstance(item, (str, bytes)) for item in dfRm.Text]\n",
    "dfRm = dfRm.loc[mask]\n",
    "dfRm.Text = dfRm.Text.astype(str)"
   ]
  },
  {
   "cell_type": "code",
   "execution_count": 86,
   "metadata": {
    "collapsed": true
   },
   "outputs": [
    {
     "name": "stdout",
     "output_type": "stream",
     "text": [
      "1                                        only one bridge\n",
      "25          i think it depends on where you put the base\n",
      "27     yeah i mean this i think the route between f g...\n",
      "38                                                  okay\n",
      "41     yeah and then we can either go this way or mak...\n",
      "                             ...                        \n",
      "41     yeah this is definitely shorter but then so th...\n",
      "50            and then so you say that the base would be\n",
      "101    my only worry is that it s a longer road when ...\n",
      "106    because if we have already the point is that i...\n",
      "107    cause it s actually it seems longer from here ...\n",
      "Name: Text, Length: 516, dtype: object\n"
     ]
    }
   ],
   "source": [
    "dfRm = dfRm.Text\n",
    "print(dfRm)"
   ]
  },
  {
   "cell_type": "code",
   "execution_count": 87,
   "metadata": {
    "collapsed": true
   },
   "outputs": [
    {
     "name": "stdout",
     "output_type": "stream",
     "text": [
      "All frequencies\n",
      "===================================\n",
      "                                                 Word  Frequency\n",
      "0                                                 hmm          9\n",
      "1                                                yeah          4\n",
      "2                                                 but          3\n",
      "3                                               right          3\n",
      "4                                     only one bridge          1\n",
      "5        i think it depends on where you put the base          1\n",
      "6   yeah i mean this i think the route between f g...          1\n",
      "7                                                okay          1\n",
      "8   yeah and then we can either go this way or mak...          1\n",
      "9   maybe we can try for example if we go like thi...          1\n",
      "10                            but if this is the base          1\n",
      "11  i think if this is the base this is the base m...          1\n",
      "12  yes oh no if this is the base then we go like ...          1\n",
      "13              yeah let s start with conferring sure          1\n",
      "14                     i had a slightly different map          1\n",
      "15                 when building the bridge i sort of          1\n",
      "16                                   slightly shorter          1\n",
      "17                          i think j is a bit tricky          1\n",
      "18                                              sorry          1\n",
      "19                                            j and f          1\n",
      "20                               and possibly j and h          1\n",
      "21                                            j and h          1\n",
      "22  yeah no because then you re doubling the distance          1\n",
      "23                                       i don t know          1\n",
      "24            i mean either way we have to we have to          1\n"
     ]
    }
   ],
   "source": [
    "top_N = 25\n",
    "word_dist = nltk.FreqDist(dfRm)\n",
    "print('All frequencies')\n",
    "print('='*35)\n",
    "rslt=pd.DataFrame(word_dist.most_common(top_N),columns=['Word','Frequency'])\n",
    "print(rslt)"
   ]
  },
  {
   "cell_type": "code",
   "execution_count": 88,
   "metadata": {
    "collapsed": true
   },
   "outputs": [
    {
     "data": {
      "text/plain": [
       "<AxesSubplot:xlabel='Word'>"
      ]
     },
     "execution_count": 88,
     "metadata": {},
     "output_type": "execute_result"
    },
    {
     "data": {
      "image/png": "[encoded data removed]",
      "text/plain": [
       "<Figure size 432x288 with 1 Axes>"
      ]
     },
     "metadata": {},
     "output_type": "display_data"
    }
   ],
   "source": [
    "t_N = 10\n",
    "r = pd.DataFrame(word_dist.most_common(t_N),\n",
    "                    columns=['Word', 'Frequency']).set_index('Word')\n",
    "matplotlib.style.use('ggplot')\n",
    "r.plot.bar(rot=90, width=0.5)"
   ]
  },
  {
   "cell_type": "code",
   "execution_count": 89,
   "metadata": {
    "collapsed": true
   },
   "outputs": [
    {
     "name": "stdout",
     "output_type": "stream",
     "text": [
      "1                                    [only, one, bridge]\n",
      "25     [i, think, it, depends, on, where, you, put, t...\n",
      "27     [yeah, i, mean, this, i, think, the, route, be...\n",
      "38                                                [okay]\n",
      "41     [yeah, and, then, we, can, either, go, this, w...\n",
      "                             ...                        \n",
      "41     [yeah, this, is, definitely, shorter, but, the...\n",
      "50     [and, then, so, you, say, that, the, base, wou...\n",
      "101    [my, only, worry, is, that, it, s, a, longer, ...\n",
      "106    [because, if, we, have, already, the, point, i...\n",
      "107    [cause, it, s, actually, it, seems, longer, fr...\n",
      "Name: Text, Length: 516, dtype: object\n"
     ]
    }
   ],
   "source": [
    "dft = dfRm.apply(nltk.word_tokenize)\n",
    "print(dft)"
   ]
  },
  {
   "cell_type": "code",
   "execution_count": 90,
   "metadata": {
    "collapsed": true
   },
   "outputs": [],
   "source": [
    "lists =  dft\n",
    "words = []\n",
    "for wordList in lists:\n",
    "    words += wordList\n",
    "fdist = FreqDist(words)"
   ]
  },
  {
   "cell_type": "markdown",
   "metadata": {},
   "source": [
    "### Unigram"
   ]
  },
  {
   "cell_type": "code",
   "execution_count": 91,
   "metadata": {
    "collapsed": true
   },
   "outputs": [
    {
     "name": "stdout",
     "output_type": "stream",
     "text": [
      "All frequencies\n",
      "===================================\n",
      "     Word  Frequency\n",
      "0      to        226\n",
      "1      we        213\n",
      "2     the        160\n",
      "3      it        156\n",
      "4     and        148\n",
      "5    then        135\n",
      "6       i        134\n",
      "7    this        122\n",
      "8    have        107\n",
      "9    here        106\n",
      "10   that        105\n",
      "11     go         99\n",
      "12    but         96\n",
      "13      s         86\n",
      "14    you         82\n",
      "15      a         79\n",
      "16   back         76\n",
      "17   yeah         75\n",
      "18     is         75\n",
      "19      t         73\n",
      "20     if         72\n",
      "21     so         72\n",
      "22   like         67\n",
      "23     be         66\n",
      "24  think         64\n"
     ]
    }
   ],
   "source": [
    "top_N = 25\n",
    "word_dist = nltk.FreqDist(fdist)\n",
    "print('All frequencies')\n",
    "print('='*35)\n",
    "rslt=pd.DataFrame(word_dist.most_common(top_N),columns=['Word','Frequency'])\n",
    "print(rslt)"
   ]
  },
  {
   "cell_type": "code",
   "execution_count": 92,
   "metadata": {
    "collapsed": true
   },
   "outputs": [
    {
     "data": {
      "text/plain": [
       "<AxesSubplot:xlabel='Word'>"
      ]
     },
     "execution_count": 92,
     "metadata": {},
     "output_type": "execute_result"
    },
    {
     "data": {
      "image/png": "[encoded data removed]",
      "text/plain": [
       "<Figure size 432x288 with 1 Axes>"
      ]
     },
     "metadata": {},
     "output_type": "display_data"
    }
   ],
   "source": [
    "t_N = 10\n",
    "r = pd.DataFrame(word_dist.most_common(t_N),\n",
    "                    columns=['Word', 'Frequency']).set_index('Word')\n",
    "matplotlib.style.use('ggplot')\n",
    "r.plot.bar(rot=0, width=0.5)"
   ]
  },
  {
   "cell_type": "markdown",
   "metadata": {},
   "source": [
    "### Bigram"
   ]
  },
  {
   "cell_type": "code",
   "execution_count": 93,
   "metadata": {
    "collapsed": true
   },
   "outputs": [
    {
     "data": {
      "text/plain": [
       "[(('and', 'then'), 73),\n",
       " (('have', 'to'), 73),\n",
       " (('it', 's'), 46),\n",
       " (('i', 'think'), 44),\n",
       " (('if', 'we'), 41),\n",
       " (('to', 'go'), 41),\n",
       " (('don', 't'), 37),\n",
       " (('we', 'can'), 33),\n",
       " (('the', 'same'), 31),\n",
       " (('this', 'is'), 25),\n",
       " (('we', 'have'), 25),\n",
       " (('go', 'back'), 23),\n",
       " (('that', 's'), 22),\n",
       " (('then', 'we'), 21),\n",
       " (('i', 'don'), 21),\n",
       " (('this', 'way'), 20),\n",
       " (('here', 'here'), 19),\n",
       " (('this', 'one'), 19),\n",
       " (('i', 'mean'), 17),\n",
       " (('like', 'this'), 17),\n",
       " (('if', 'you'), 17),\n",
       " (('to', 'be'), 16),\n",
       " (('back', 'to'), 16),\n",
       " (('to', 'c'), 15),\n",
       " (('to', 'j'), 15)]"
      ]
     },
     "execution_count": 93,
     "metadata": {},
     "output_type": "execute_result"
    }
   ],
   "source": [
    "word_fd = nltk.FreqDist(words)\n",
    "bigram_fd = nltk.FreqDist(nltk.bigrams(words))\n",
    "bigram_fd.most_common(25)"
   ]
  },
  {
   "cell_type": "markdown",
   "metadata": {},
   "source": [
    "### Trigram"
   ]
  },
  {
   "cell_type": "code",
   "execution_count": 94,
   "metadata": {
    "collapsed": true
   },
   "outputs": [
    {
     "data": {
      "text/plain": [
       "[(('have', 'to', 'go'), 30),\n",
       " (('i', 'don', 't'), 21),\n",
       " (('we', 'have', 'to'), 19),\n",
       " (('to', 'go', 'back'), 15),\n",
       " (('here', 'here', 'here'), 14),\n",
       " (('don', 't', 'think'), 10),\n",
       " (('d', 'have', 'to'), 10),\n",
       " (('and', 'then', 'go'), 10),\n",
       " (('you', 'have', 'to'), 9),\n",
       " (('we', 'don', 't'), 9),\n",
       " (('one', 'two', 'three'), 9),\n",
       " (('t', 'have', 'to'), 9),\n",
       " (('don', 't', 'know'), 8),\n",
       " (('if', 'we', 'started'), 8),\n",
       " (('we', 'd', 'have'), 8),\n",
       " (('all', 'the', 'way'), 8),\n",
       " (('here', 'and', 'then'), 8),\n",
       " (('two', 'three', 'four'), 8),\n",
       " (('i', 'think', 'it'), 7),\n",
       " (('and', 'then', 'we'), 7),\n",
       " (('this', 'is', 'the'), 7),\n",
       " (('have', 'to', 'come'), 7),\n",
       " (('if', 'we', 'start'), 7),\n",
       " (('the', 'way', 'back'), 7),\n",
       " (('i', 'think', 'we'), 7)]"
      ]
     },
     "execution_count": 94,
     "metadata": {},
     "output_type": "execute_result"
    }
   ],
   "source": [
    "word_fd = nltk.FreqDist(words)\n",
    "trigram_fd = nltk.FreqDist(nltk.trigrams(words))\n",
    "trigram_fd.most_common(25)"
   ]
  },
  {
   "cell_type": "code",
   "execution_count": null,
   "metadata": {
    "collapsed": true
   },
   "outputs": [],
   "source": []
  },
  {
   "cell_type": "markdown",
   "metadata": {},
   "source": [
    "# Check Column Rd"
   ]
  },
  {
   "cell_type": "code",
   "execution_count": 95,
   "metadata": {
    "collapsed": true
   },
   "outputs": [],
   "source": [
    "dfRd = df[df.Rd > 0]\n",
    "dfRd.columns = ['E', 'P', 'Qc', 'Qi', 'Qr', 'Ra', 'Rm', 'Rd', 'S', 'J', 'N', 'C', 'Speaker', 'Text', 'Utterances', 'Unnamed']"
   ]
  },
  {
   "cell_type": "code",
   "execution_count": 96,
   "metadata": {
    "collapsed": true
   },
   "outputs": [
    {
     "name": "stdout",
     "output_type": "stream",
     "text": [
      "       E   P  Qc  Qi  Qr   Ra  Rm  Rd   S   J  N  C Speaker  \\\n",
      "51     2   0   0   0   0    0   0   1   0   0  0  0       A   \n",
      "84     0   0   0   0   0    0   1   2   0   0  0  0       A   \n",
      "99     0   0   0   0   0    0   0   3   0   0  0  0       B   \n",
      "168    0   0   0   0   0    0   0   3   0   0  0  0       A   \n",
      "183    2   0   0   0   0    0   0   3   0   0  0  0       B   \n",
      "60     1   0   0   0   0    0   0   1   1   0  0  0       A   \n",
      "72     3   0   0   0   0    0   0   1   0   0  0  0       B   \n",
      "109    2   0   0   0   0    0   0   1   0   0  0  0       A   \n",
      "132    2   0   0   0   0    0   0   1   0   0  0  0       B   \n",
      "139    0   0   3   0   0    0   0   1   0   0  0  0       A   \n",
      "53     0   0   0   0   0    0   1   2   0   0  0  0       B   \n",
      "111    2   0   0   0   0    0   0   1   0   1  0  0       A   \n",
      "112    0   0   0   0   0    0   0   1   2   0  0  0       B   \n",
      "113    0   0   0   0   0    0   0   1   2   0  0  0       B   \n",
      "116  127  55  21  14   0  110  32   3  50  82  5  0       0   \n",
      "61     1   0   0   0   0    0   0   1   1   0  0  0       A   \n",
      "24     2   0   0   0   0    0   1   1   0   0  0  0       B   \n",
      "49     2   0   1   0   1    0   0   1   1   0  0  0       B   \n",
      "122    2   0   0   0   0    0   1   2   0   0  0  0       B   \n",
      "54     0   0   0   0   0    0   2   1   0   0  0  0       A   \n",
      "58     0   0   0   0   0    0   2   1   0   1  0  0       A   \n",
      "61     0   0   0   0   0    0   0   3   0   0  0  0       A   \n",
      "105    0   0   0   0   0    0   1   2   0   0  0  0       A   \n",
      "251    0   0   0   0   0    0   0   3   0   0  0  0       B   \n",
      "39     0   0   0   0   0    2   0   1   0   0  1  0       A   \n",
      "40     2   0   0   0   0    0   2   1   0   0  0  0       A   \n",
      "44     0   0   0   0   1    0   1   1   1   1  2  0       A   \n",
      "45     0   0   0   0   0    2   0   1   1   0  1  0       B   \n",
      "55     2   0   0   0   0    0   1   2   0   0  0  0       A   \n",
      "40     2   0   0   0   0    0   0   3   0   0  0  0       B   \n",
      "78     0   0   0   0   0    0   0   3   0   0  0  0       A   \n",
      "79     2   0   0   0   0    0   0   3   0   0  0  0       B   \n",
      "101    2   0   0   0   0    0   0   1   0   2  0  0       A   \n",
      "126    0   0   0   0   0    0   0   3   0   0  0  0       A   \n",
      "76     2   0   0   0   0    0   0   1   0   0  0  0       B   \n",
      "30     0   0   0   0   0    0   0   3   0   0  0  0       A   \n",
      "23     2   0   0   0   0    0   0   1   0   0  0  0       A   \n",
      "76     1   0   0   0   0    0   1   2   0   3  0  0       A   \n",
      "182    2   0   0   0   0    0   0   2   0   0  0  0       A   \n",
      "210    2   0   0   0   0    0   0   1   0   0  1  0       A   \n",
      "85     0   0   0   0   0    0   2   1   0   0  0  0       B   \n",
      "88     0   0   0   0   0    0   1   2   0   0  0  0       B   \n",
      "42     2   2   0   0   0    2   0   3   0   3  0  0       B   \n",
      "56     3   0   0   0   0    0   0   1   0   3  0  0       B   \n",
      "95     3   0   0   0   0    0   0   1   0   1  1  0       B   \n",
      "43     1   0   0   0   0    0   0   2   0   0  0  0       B   \n",
      "\n",
      "                                                  Text  \\\n",
      "51            i am not sure if that is the shorter one   \n",
      "84                                     well not really   \n",
      "99                                                  no   \n",
      "168                                       no that s it   \n",
      "183                                        no we can t   \n",
      "60                                               oh no   \n",
      "72                                            but then   \n",
      "109                                                NaN   \n",
      "132                                                 no   \n",
      "139     would it matter i don t see it would be matter   \n",
      "53                                                 NaN   \n",
      "111  but yeah if you take that into account then yo...   \n",
      "112                                                hmm   \n",
      "113                                                hmm   \n",
      "116  session ends video continues for a few more se...   \n",
      "61                                     then oh hold on   \n",
      "24              right but there can only be one bridge   \n",
      "49   i don t think a has to be whatever i don t thi...   \n",
      "122                                   no we do need it   \n",
      "54                                                 but   \n",
      "58                                              no but   \n",
      "61                                 i think b is better   \n",
      "105                                                but   \n",
      "251                                          no that s   \n",
      "39                                  yeah that s i mean   \n",
      "40   yeah that t work i mean a hub a hub has to be ...   \n",
      "44                          well hold on does it sorry   \n",
      "45                                 yes it does it does   \n",
      "55   no well let s just have to think about this be...   \n",
      "40                                                 NaN   \n",
      "78                                                 NaN   \n",
      "79                                                 NaN   \n",
      "101                                                NaN   \n",
      "126                                                NaN   \n",
      "76   which i don t think i don t think that s proba...   \n",
      "30                                i don t think it can   \n",
      "23                           no actually it s one road   \n",
      "76                                                 NaN   \n",
      "182                                                NaN   \n",
      "210                                                NaN   \n",
      "85                                                 NaN   \n",
      "88                                                 NaN   \n",
      "42                                                 NaN   \n",
      "56                                                 NaN   \n",
      "95                                                 NaN   \n",
      "43   but then that s more route that we don t have ...   \n",
      "\n",
      "                                            Utterances Unnamed  \n",
      "51                                                 NaN     NaN  \n",
      "84                                                 NaN     NaN  \n",
      "99                                                 NaN     NaN  \n",
      "168                                                NaN     NaN  \n",
      "183                                                NaN     NaN  \n",
      "60                                                 NaN     NaN  \n",
      "72                                                 NaN     NaN  \n",
      "109                                       i don t know     NaN  \n",
      "132                                                NaN     NaN  \n",
      "139                                                NaN     NaN  \n",
      "53                                                wait     NaN  \n",
      "111                                                NaN     NaN  \n",
      "112                                                NaN     NaN  \n",
      "113                                                NaN     NaN  \n",
      "116                                                NaN     NaN  \n",
      "61                                                 NaN     NaN  \n",
      "24                                                 NaN     NaN  \n",
      "49                                                 NaN     NaN  \n",
      "122                                                NaN     NaN  \n",
      "54                                                 NaN     NaN  \n",
      "58                                                 NaN     NaN  \n",
      "61                                                 NaN     NaN  \n",
      "105                                                NaN     NaN  \n",
      "251                                                NaN     NaN  \n",
      "39                                                 NaN     NaN  \n",
      "40                                                 NaN     NaN  \n",
      "44                                                 NaN     NaN  \n",
      "45                                                 NaN     NaN  \n",
      "55                                                 NaN     NaN  \n",
      "40          no we have to use one of them as the bases     NaN  \n",
      "78                               no i think we draw it     NaN  \n",
      "79                               no it says use arrows     NaN  \n",
      "101               no but that s less road as inaudible     NaN  \n",
      "126                                                but     NaN  \n",
      "76                                                 NaN     NaN  \n",
      "30                                                 NaN     NaN  \n",
      "23                                                 NaN     NaN  \n",
      "76   no we don t no we don t we can just do one two...     NaN  \n",
      "182  i don t know if that i don t know if that make...     NaN  \n",
      "210                                     it t like that     NaN  \n",
      "85                                        i think we t     NaN  \n",
      "88                             i think we cannot cause     NaN  \n",
      "42    sure we can modify it there no we can t actually     NaN  \n",
      "56   a okay so if you start at a you can move right...     NaN  \n",
      "95   well we don t have to go back to c we can go r...     NaN  \n",
      "43                                                 NaN     NaN  \n"
     ]
    }
   ],
   "source": [
    "print(dfRd)"
   ]
  },
  {
   "cell_type": "code",
   "execution_count": 97,
   "metadata": {
    "collapsed": true
   },
   "outputs": [
    {
     "name": "stdout",
     "output_type": "stream",
     "text": [
      "51              i am not sure if that is the shorter one\n",
      "84                                       well not really\n",
      "99                                                    no\n",
      "168                                         no that s it\n",
      "183                                          no we can t\n",
      "60                                                 oh no\n",
      "72                                              but then\n",
      "109                                                  NaN\n",
      "132                                                   no\n",
      "139       would it matter i don t see it would be matter\n",
      "53                                                   NaN\n",
      "111    but yeah if you take that into account then yo...\n",
      "112                                                  hmm\n",
      "113                                                  hmm\n",
      "116    session ends video continues for a few more se...\n",
      "61                                       then oh hold on\n",
      "24                right but there can only be one bridge\n",
      "49     i don t think a has to be whatever i don t thi...\n",
      "122                                     no we do need it\n",
      "54                                                   but\n",
      "58                                                no but\n",
      "61                                   i think b is better\n",
      "105                                                  but\n",
      "251                                            no that s\n",
      "39                                    yeah that s i mean\n",
      "40     yeah that t work i mean a hub a hub has to be ...\n",
      "44                            well hold on does it sorry\n",
      "45                                   yes it does it does\n",
      "55     no well let s just have to think about this be...\n",
      "40                                                   NaN\n",
      "78                                                   NaN\n",
      "79                                                   NaN\n",
      "101                                                  NaN\n",
      "126                                                  NaN\n",
      "76     which i don t think i don t think that s proba...\n",
      "30                                  i don t think it can\n",
      "23                             no actually it s one road\n",
      "76                                                   NaN\n",
      "182                                                  NaN\n",
      "210                                                  NaN\n",
      "85                                                   NaN\n",
      "88                                                   NaN\n",
      "42                                                   NaN\n",
      "56                                                   NaN\n",
      "95                                                   NaN\n",
      "43     but then that s more route that we don t have ...\n",
      "Name: Text, dtype: object\n"
     ]
    }
   ],
   "source": [
    "print(dfRd.Text)"
   ]
  },
  {
   "cell_type": "code",
   "execution_count": 98,
   "metadata": {
    "collapsed": true
   },
   "outputs": [],
   "source": [
    "mask = [isinstance(item, (str, bytes)) for item in dfRd.Text]\n",
    "dfRd = dfRd.loc[mask]\n",
    "dfRd.Text = dfRd.Text.astype(str)"
   ]
  },
  {
   "cell_type": "code",
   "execution_count": 99,
   "metadata": {
    "collapsed": true
   },
   "outputs": [
    {
     "name": "stdout",
     "output_type": "stream",
     "text": [
      "51              i am not sure if that is the shorter one\n",
      "84                                       well not really\n",
      "99                                                    no\n",
      "168                                         no that s it\n",
      "183                                          no we can t\n",
      "60                                                 oh no\n",
      "72                                              but then\n",
      "132                                                   no\n",
      "139       would it matter i don t see it would be matter\n",
      "111    but yeah if you take that into account then yo...\n",
      "112                                                  hmm\n",
      "113                                                  hmm\n",
      "116    session ends video continues for a few more se...\n",
      "61                                       then oh hold on\n",
      "24                right but there can only be one bridge\n",
      "49     i don t think a has to be whatever i don t thi...\n",
      "122                                     no we do need it\n",
      "54                                                   but\n",
      "58                                                no but\n",
      "61                                   i think b is better\n",
      "105                                                  but\n",
      "251                                            no that s\n",
      "39                                    yeah that s i mean\n",
      "40     yeah that t work i mean a hub a hub has to be ...\n",
      "44                            well hold on does it sorry\n",
      "45                                   yes it does it does\n",
      "55     no well let s just have to think about this be...\n",
      "76     which i don t think i don t think that s proba...\n",
      "30                                  i don t think it can\n",
      "23                             no actually it s one road\n",
      "43     but then that s more route that we don t have ...\n",
      "Name: Text, dtype: object\n"
     ]
    }
   ],
   "source": [
    "dfRd = dfRd.Text\n",
    "print(dfRd)"
   ]
  },
  {
   "cell_type": "code",
   "execution_count": 100,
   "metadata": {
    "collapsed": true
   },
   "outputs": [
    {
     "name": "stdout",
     "output_type": "stream",
     "text": [
      "All frequencies\n",
      "===================================\n",
      "                                                 Word  Frequency\n",
      "0                                                  no          2\n",
      "1                                                 hmm          2\n",
      "2                                                 but          2\n",
      "3            i am not sure if that is the shorter one          1\n",
      "4                                     well not really          1\n",
      "5                                        no that s it          1\n",
      "6                                         no we can t          1\n",
      "7                                               oh no          1\n",
      "8                                            but then          1\n",
      "9      would it matter i don t see it would be matter          1\n",
      "10  but yeah if you take that into account then yo...          1\n",
      "11  session ends video continues for a few more se...          1\n",
      "12                                    then oh hold on          1\n",
      "13             right but there can only be one bridge          1\n",
      "14  i don t think a has to be whatever i don t thi...          1\n",
      "15                                   no we do need it          1\n",
      "16                                             no but          1\n",
      "17                                i think b is better          1\n",
      "18                                          no that s          1\n",
      "19                                 yeah that s i mean          1\n",
      "20  yeah that t work i mean a hub a hub has to be ...          1\n",
      "21                         well hold on does it sorry          1\n",
      "22                                yes it does it does          1\n",
      "23  no well let s just have to think about this be...          1\n",
      "24  which i don t think i don t think that s proba...          1\n"
     ]
    }
   ],
   "source": [
    "top_N = 25\n",
    "word_dist = nltk.FreqDist(dfRd)\n",
    "print('All frequencies')\n",
    "print('='*35)\n",
    "rslt=pd.DataFrame(word_dist.most_common(top_N),columns=['Word','Frequency'])\n",
    "print(rslt)"
   ]
  },
  {
   "cell_type": "code",
   "execution_count": 101,
   "metadata": {
    "collapsed": true
   },
   "outputs": [
    {
     "data": {
      "text/plain": [
       "<AxesSubplot:xlabel='Word'>"
      ]
     },
     "execution_count": 101,
     "metadata": {},
     "output_type": "execute_result"
    },
    {
     "data": {
      "image/png": "[encoded data removed]",
      "text/plain": [
       "<Figure size 432x288 with 1 Axes>"
      ]
     },
     "metadata": {},
     "output_type": "display_data"
    }
   ],
   "source": [
    "t_N = 10\n",
    "r = pd.DataFrame(word_dist.most_common(t_N),\n",
    "                    columns=['Word', 'Frequency']).set_index('Word')\n",
    "matplotlib.style.use('ggplot')\n",
    "r.plot.bar(rot=90, width=0.5)"
   ]
  },
  {
   "cell_type": "code",
   "execution_count": 102,
   "metadata": {
    "collapsed": true
   },
   "outputs": [
    {
     "name": "stdout",
     "output_type": "stream",
     "text": [
      "51     [i, am, not, sure, if, that, is, the, shorter,...\n",
      "84                                   [well, not, really]\n",
      "99                                                  [no]\n",
      "168                                    [no, that, s, it]\n",
      "183                                     [no, we, can, t]\n",
      "60                                              [oh, no]\n",
      "72                                           [but, then]\n",
      "132                                                 [no]\n",
      "139    [would, it, matter, i, don, t, see, it, would,...\n",
      "111    [but, yeah, if, you, take, that, into, account...\n",
      "112                                                [hmm]\n",
      "113                                                [hmm]\n",
      "116    [session, ends, video, continues, for, a, few,...\n",
      "61                                  [then, oh, hold, on]\n",
      "24       [right, but, there, can, only, be, one, bridge]\n",
      "49     [i, don, t, think, a, has, to, be, whatever, i...\n",
      "122                               [no, we, do, need, it]\n",
      "54                                                 [but]\n",
      "58                                             [no, but]\n",
      "61                             [i, think, b, is, better]\n",
      "105                                                [but]\n",
      "251                                        [no, that, s]\n",
      "39                              [yeah, that, s, i, mean]\n",
      "40     [yeah, that, t, work, i, mean, a, hub, a, hub,...\n",
      "44                     [well, hold, on, does, it, sorry]\n",
      "45                             [yes, it, does, it, does]\n",
      "55     [no, well, let, s, just, have, to, think, abou...\n",
      "76     [which, i, don, t, think, i, don, t, think, th...\n",
      "30                           [i, don, t, think, it, can]\n",
      "23                      [no, actually, it, s, one, road]\n",
      "43     [but, then, that, s, more, route, that, we, do...\n",
      "Name: Text, dtype: object\n"
     ]
    }
   ],
   "source": [
    "dft = dfRd.apply(nltk.word_tokenize)\n",
    "print(dft)"
   ]
  },
  {
   "cell_type": "code",
   "execution_count": 103,
   "metadata": {
    "collapsed": true
   },
   "outputs": [],
   "source": [
    "lists =  dft\n",
    "words = []\n",
    "for wordList in lists:\n",
    "    words += wordList\n",
    "fdist = FreqDist(words)"
   ]
  },
  {
   "cell_type": "markdown",
   "metadata": {},
   "source": [
    "### Unigram"
   ]
  },
  {
   "cell_type": "code",
   "execution_count": 104,
   "metadata": {
    "collapsed": true
   },
   "outputs": [
    {
     "name": "stdout",
     "output_type": "stream",
     "text": [
      "All frequencies\n",
      "===================================\n",
      "     Word  Frequency\n",
      "0      it         12\n",
      "1       i         10\n",
      "2      no         10\n",
      "3    that          9\n",
      "4       s          9\n",
      "5       t          9\n",
      "6      to          9\n",
      "7     but          7\n",
      "8     don          7\n",
      "9   think          7\n",
      "10   have          6\n",
      "11   then          5\n",
      "12    one          4\n",
      "13     be          4\n",
      "14      a          4\n",
      "15     is          3\n",
      "16    the          3\n",
      "17   well          3\n",
      "18     we          3\n",
      "19    can          3\n",
      "20   yeah          3\n",
      "21    you          3\n",
      "22   does          3\n",
      "23    not          2\n",
      "24     if          2\n"
     ]
    }
   ],
   "source": [
    "top_N = 25\n",
    "word_dist = nltk.FreqDist(fdist)\n",
    "print('All frequencies')\n",
    "print('='*35)\n",
    "rslt=pd.DataFrame(word_dist.most_common(top_N),columns=['Word','Frequency'])\n",
    "print(rslt)"
   ]
  },
  {
   "cell_type": "code",
   "execution_count": 105,
   "metadata": {
    "collapsed": true
   },
   "outputs": [
    {
     "data": {
      "text/plain": [
       "<AxesSubplot:xlabel='Word'>"
      ]
     },
     "execution_count": 105,
     "metadata": {},
     "output_type": "execute_result"
    },
    {
     "data": {
      "image/png": "[encoded data removed]",
      "text/plain": [
       "<Figure size 432x288 with 1 Axes>"
      ]
     },
     "metadata": {},
     "output_type": "display_data"
    }
   ],
   "source": [
    "t_N = 10\n",
    "r = pd.DataFrame(word_dist.most_common(t_N),\n",
    "                    columns=['Word', 'Frequency']).set_index('Word')\n",
    "matplotlib.style.use('ggplot')\n",
    "r.plot.bar(rot=0, width=0.5)"
   ]
  },
  {
   "cell_type": "markdown",
   "metadata": {},
   "source": [
    "### Bigram"
   ]
  },
  {
   "cell_type": "code",
   "execution_count": 106,
   "metadata": {
    "collapsed": true
   },
   "outputs": [
    {
     "data": {
      "text/plain": [
       "[(('don', 't'), 7),\n",
       " (('i', 'don'), 6),\n",
       " (('that', 's'), 5),\n",
       " (('t', 'think'), 5),\n",
       " (('have', 'to'), 4),\n",
       " (('to', 'have'), 3),\n",
       " (('no', 'that'), 2),\n",
       " (('no', 'we'), 2),\n",
       " (('no', 'but'), 2),\n",
       " (('but', 'then'), 2),\n",
       " (('is', 'better'), 2),\n",
       " (('hold', 'on'), 2),\n",
       " (('has', 'to'), 2),\n",
       " (('to', 'be'), 2),\n",
       " (('think', 'it'), 2),\n",
       " (('it', 's'), 2),\n",
       " (('but', 'no'), 2),\n",
       " (('yeah', 'that'), 2),\n",
       " (('i', 'mean'), 2),\n",
       " (('a', 'hub'), 2),\n",
       " (('does', 'it'), 2),\n",
       " (('it', 'does'), 2),\n",
       " (('i', 'am'), 1),\n",
       " (('am', 'not'), 1),\n",
       " (('not', 'sure'), 1)]"
      ]
     },
     "execution_count": 106,
     "metadata": {},
     "output_type": "execute_result"
    }
   ],
   "source": [
    "word_fd = nltk.FreqDist(words)\n",
    "bigram_fd = nltk.FreqDist(nltk.bigrams(words))\n",
    "bigram_fd.most_common(25)"
   ]
  },
  {
   "cell_type": "markdown",
   "metadata": {},
   "source": [
    "### Trigram"
   ]
  },
  {
   "cell_type": "code",
   "execution_count": 107,
   "metadata": {
    "collapsed": true
   },
   "outputs": [
    {
     "data": {
      "text/plain": [
       "[(('i', 'don', 't'), 6),\n",
       " (('don', 't', 'think'), 5),\n",
       " (('no', 'that', 's'), 2),\n",
       " (('have', 'to', 'have'), 2),\n",
       " (('has', 'to', 'be'), 2),\n",
       " (('t', 'think', 'it'), 2),\n",
       " (('i', 'am', 'not'), 1),\n",
       " (('am', 'not', 'sure'), 1),\n",
       " (('not', 'sure', 'if'), 1),\n",
       " (('sure', 'if', 'that'), 1),\n",
       " (('if', 'that', 'is'), 1),\n",
       " (('that', 'is', 'the'), 1),\n",
       " (('is', 'the', 'shorter'), 1),\n",
       " (('the', 'shorter', 'one'), 1),\n",
       " (('shorter', 'one', 'well'), 1),\n",
       " (('one', 'well', 'not'), 1),\n",
       " (('well', 'not', 'really'), 1),\n",
       " (('not', 'really', 'no'), 1),\n",
       " (('really', 'no', 'no'), 1),\n",
       " (('no', 'no', 'that'), 1),\n",
       " (('that', 's', 'it'), 1),\n",
       " (('s', 'it', 'no'), 1),\n",
       " (('it', 'no', 'we'), 1),\n",
       " (('no', 'we', 'can'), 1),\n",
       " (('we', 'can', 't'), 1)]"
      ]
     },
     "execution_count": 107,
     "metadata": {},
     "output_type": "execute_result"
    }
   ],
   "source": [
    "word_fd = nltk.FreqDist(words)\n",
    "trigram_fd = nltk.FreqDist(nltk.trigrams(words))\n",
    "trigram_fd.most_common(25)"
   ]
  },
  {
   "cell_type": "code",
   "execution_count": null,
   "metadata": {
    "collapsed": true
   },
   "outputs": [],
   "source": []
  },
  {
   "cell_type": "markdown",
   "metadata": {},
   "source": [
    "# Check Column S"
   ]
  },
  {
   "cell_type": "code",
   "execution_count": 108,
   "metadata": {
    "collapsed": true
   },
   "outputs": [],
   "source": [
    "dfS = df[df.S > 0]\n",
    "dfS.columns = ['E', 'P', 'Qc', 'Qi', 'Qr', 'Ra', 'Rm', 'Rd', 'S', 'J', 'N', 'C', 'Speaker', 'Text', 'Utterances', 'Unnamed']"
   ]
  },
  {
   "cell_type": "code",
   "execution_count": 109,
   "metadata": {
    "collapsed": true
   },
   "outputs": [
    {
     "name": "stdout",
     "output_type": "stream",
     "text": [
      "     E  P  Qc  Qi  Qr  Ra  Rm  Rd  S  J  N  C Speaker  \\\n",
      "26   0  0   0   0   0   1   1   0  1  0  0  0       B   \n",
      "34   3  0   0   0   0   0   0   0  1  0  0  0       A   \n",
      "38   0  0   0   0   0   0   1   0  2  0  0  0       A   \n",
      "40   0  0   0   0   0   2   0   0  1  0  0  0       B   \n",
      "47   0  0   0   0   0   2   0   0  1  0  1  0       B   \n",
      "..  .. ..  ..  ..  ..  ..  ..  .. .. .. .. ..     ...   \n",
      "110  2  0   3   0   0   0   0   0  3  0  0  0       B   \n",
      "112  0  0   0   0   0   0   0   0  3  0  0  0       B   \n",
      "113  0  1   0   0   0   0   0   0  3  0  0  0       B   \n",
      "115  3  0   0   0   0   0   0   0  3  0  0  0       B   \n",
      "116  0  0   0   0   0   0   0   0  3  0  0  2       B   \n",
      "\n",
      "                                                  Text Utterances Unnamed  \n",
      "26                                                 NaN        NaN     NaN  \n",
      "34   that was my idea but i am not sure if that s t...        NaN     NaN  \n",
      "38                                                okay        NaN     NaN  \n",
      "40                                                 yes        NaN     NaN  \n",
      "47                                                 yes        NaN     NaN  \n",
      "..                                                 ...        ...     ...  \n",
      "110  are you sure i want to make sure that it s i a...        NaN     NaN  \n",
      "112                                          okay well        NaN     NaN  \n",
      "113      okay i guess you can do that cause scary part        NaN     NaN  \n",
      "115  i m kind of messy with that i love drawing but...        NaN     NaN  \n",
      "116  that s smart okay i like it it looks like a do...        NaN     NaN  \n",
      "\n",
      "[1242 rows x 16 columns]\n"
     ]
    }
   ],
   "source": [
    "print(dfS)"
   ]
  },
  {
   "cell_type": "code",
   "execution_count": 110,
   "metadata": {
    "collapsed": true
   },
   "outputs": [
    {
     "name": "stdout",
     "output_type": "stream",
     "text": [
      "26                                                   NaN\n",
      "34     that was my idea but i am not sure if that s t...\n",
      "38                                                  okay\n",
      "40                                                   yes\n",
      "47                                                   yes\n",
      "                             ...                        \n",
      "110    are you sure i want to make sure that it s i a...\n",
      "112                                            okay well\n",
      "113        okay i guess you can do that cause scary part\n",
      "115    i m kind of messy with that i love drawing but...\n",
      "116    that s smart okay i like it it looks like a do...\n",
      "Name: Text, Length: 1242, dtype: object\n"
     ]
    }
   ],
   "source": [
    "print(dfS.Text)"
   ]
  },
  {
   "cell_type": "code",
   "execution_count": 111,
   "metadata": {
    "collapsed": true
   },
   "outputs": [],
   "source": [
    "mask = [isinstance(item, (str, bytes)) for item in dfS.Text]\n",
    "dfS = dfS.loc[mask]\n",
    "dfS.Text = dfS.Text.astype(str)"
   ]
  },
  {
   "cell_type": "code",
   "execution_count": 112,
   "metadata": {
    "collapsed": true
   },
   "outputs": [
    {
     "name": "stdout",
     "output_type": "stream",
     "text": [
      "34     that was my idea but i am not sure if that s t...\n",
      "38                                                  okay\n",
      "40                                                   yes\n",
      "47                                                   yes\n",
      "49                                                 twice\n",
      "                             ...                        \n",
      "110    are you sure i want to make sure that it s i a...\n",
      "112                                            okay well\n",
      "113        okay i guess you can do that cause scary part\n",
      "115    i m kind of messy with that i love drawing but...\n",
      "116    that s smart okay i like it it looks like a do...\n",
      "Name: Text, Length: 725, dtype: object\n"
     ]
    }
   ],
   "source": [
    "dfS = dfS.Text\n",
    "print(dfS)"
   ]
  },
  {
   "cell_type": "code",
   "execution_count": 113,
   "metadata": {
    "collapsed": true
   },
   "outputs": [
    {
     "name": "stdout",
     "output_type": "stream",
     "text": [
      "All frequencies\n",
      "===================================\n",
      "                    Word  Frequency\n",
      "0                   yeah         74\n",
      "1                    hmm         57\n",
      "2               chuckles         57\n",
      "3                   okay         27\n",
      "4                     oh         17\n",
      "5                  right         15\n",
      "6                     so         14\n",
      "7                alright         11\n",
      "8                    yup          6\n",
      "9                   cool          6\n",
      "10                 laugh          6\n",
      "11                   yes          4\n",
      "12               perfect          4\n",
      "13             let s see          3\n",
      "14                 great          3\n",
      "15                  sure          3\n",
      "16  you know what i mean          3\n",
      "17                laughs          3\n",
      "18                    um          3\n",
      "19         yeah chuckles          3\n",
      "20                 sweet          3\n",
      "21            let me see          2\n",
      "22                 i see          2\n",
      "23                 sorry          2\n",
      "24             thank you          2\n"
     ]
    }
   ],
   "source": [
    "top_N = 25\n",
    "word_dist = nltk.FreqDist(dfS)\n",
    "print('All frequencies')\n",
    "print('='*35)\n",
    "rslt=pd.DataFrame(word_dist.most_common(top_N),columns=['Word','Frequency'])\n",
    "print(rslt)"
   ]
  },
  {
   "cell_type": "code",
   "execution_count": 114,
   "metadata": {
    "collapsed": true
   },
   "outputs": [
    {
     "data": {
      "text/plain": [
       "<AxesSubplot:xlabel='Word'>"
      ]
     },
     "execution_count": 114,
     "metadata": {},
     "output_type": "execute_result"
    },
    {
     "data": {
      "image/png": "[encoded data removed]",
      "text/plain": [
       "<Figure size 432x288 with 1 Axes>"
      ]
     },
     "metadata": {},
     "output_type": "display_data"
    }
   ],
   "source": [
    "t_N = 10\n",
    "r = pd.DataFrame(word_dist.most_common(t_N),\n",
    "                    columns=['Word', 'Frequency']).set_index('Word')\n",
    "matplotlib.style.use('ggplot')\n",
    "r.plot.bar(rot=0, width=0.5)"
   ]
  },
  {
   "cell_type": "code",
   "execution_count": 115,
   "metadata": {
    "collapsed": true
   },
   "outputs": [
    {
     "name": "stdout",
     "output_type": "stream",
     "text": [
      "34     [that, was, my, idea, but, i, am, not, sure, i...\n",
      "38                                                [okay]\n",
      "40                                                 [yes]\n",
      "47                                                 [yes]\n",
      "49                                               [twice]\n",
      "                             ...                        \n",
      "110    [are, you, sure, i, want, to, make, sure, that...\n",
      "112                                         [okay, well]\n",
      "113    [okay, i, guess, you, can, do, that, cause, sc...\n",
      "115    [i, m, kind, of, messy, with, that, i, love, d...\n",
      "116    [that, s, smart, okay, i, like, it, it, looks,...\n",
      "Name: Text, Length: 725, dtype: object\n"
     ]
    }
   ],
   "source": [
    "dft = dfS.apply(nltk.word_tokenize)\n",
    "print(dft)"
   ]
  },
  {
   "cell_type": "code",
   "execution_count": 116,
   "metadata": {
    "collapsed": true
   },
   "outputs": [],
   "source": [
    "lists =  dft\n",
    "words = []\n",
    "for wordList in lists:\n",
    "    words += wordList\n",
    "fdist = FreqDist(words)"
   ]
  },
  {
   "cell_type": "markdown",
   "metadata": {},
   "source": [
    "### Unigram"
   ]
  },
  {
   "cell_type": "code",
   "execution_count": 117,
   "metadata": {
    "collapsed": true
   },
   "outputs": [
    {
     "name": "stdout",
     "output_type": "stream",
     "text": [
      "All frequencies\n",
      "===================================\n",
      "        Word  Frequency\n",
      "0          i        157\n",
      "1       yeah        143\n",
      "2   chuckles        114\n",
      "3          s         98\n",
      "4       that         92\n",
      "5         it         90\n",
      "6         so         71\n",
      "7        the         61\n",
      "8        you         60\n",
      "9         to         60\n",
      "10     right         59\n",
      "11       hmm         59\n",
      "12        oh         58\n",
      "13      okay         57\n",
      "14        we         54\n",
      "15         a         51\n",
      "16      like         47\n",
      "17       and         42\n",
      "18      this         38\n",
      "19         t         35\n",
      "20     think         34\n",
      "21        is         33\n",
      "22      then         31\n",
      "23      here         29\n",
      "24     laugh         27\n"
     ]
    }
   ],
   "source": [
    "top_N = 25\n",
    "word_dist = nltk.FreqDist(fdist)\n",
    "print('All frequencies')\n",
    "print('='*35)\n",
    "rslt=pd.DataFrame(word_dist.most_common(top_N),columns=['Word','Frequency'])\n",
    "print(rslt)"
   ]
  },
  {
   "cell_type": "code",
   "execution_count": 118,
   "metadata": {
    "collapsed": true
   },
   "outputs": [
    {
     "data": {
      "text/plain": [
       "<AxesSubplot:xlabel='Word'>"
      ]
     },
     "execution_count": 118,
     "metadata": {},
     "output_type": "execute_result"
    },
    {
     "data": {
      "image/png": "[encoded data removed]",
      "text/plain": [
       "<Figure size 432x288 with 1 Axes>"
      ]
     },
     "metadata": {},
     "output_type": "display_data"
    }
   ],
   "source": [
    "t_N = 10\n",
    "r = pd.DataFrame(word_dist.most_common(t_N),\n",
    "                    columns=['Word', 'Frequency']).set_index('Word')\n",
    "matplotlib.style.use('ggplot')\n",
    "r.plot.bar(rot=0, width=0.5)"
   ]
  },
  {
   "cell_type": "markdown",
   "metadata": {},
   "source": [
    "### Bigram"
   ]
  },
  {
   "cell_type": "code",
   "execution_count": 119,
   "metadata": {
    "collapsed": true
   },
   "outputs": [
    {
     "data": {
      "text/plain": [
       "[(('that', 's'), 39),\n",
       " (('it', 's'), 34),\n",
       " (('yeah', 'yeah'), 28),\n",
       " (('chuckles', 'chuckles'), 25),\n",
       " (('i', 'm'), 25),\n",
       " (('i', 'think'), 24),\n",
       " (('don', 't'), 22),\n",
       " (('i', 'don'), 19),\n",
       " (('t', 'know'), 16),\n",
       " (('chuckles', 'i'), 15),\n",
       " (('let', 's'), 14),\n",
       " (('yeah', 'i'), 12),\n",
       " (('this', 'is'), 12),\n",
       " (('and', 'then'), 12),\n",
       " (('chuckles', 'yeah'), 12),\n",
       " (('s', 'a'), 11),\n",
       " (('yeah', 'chuckles'), 11),\n",
       " (('oh', 'i'), 11),\n",
       " (('i', 'see'), 10),\n",
       " (('s', 'see'), 10),\n",
       " (('hmm', 'hmm'), 10),\n",
       " (('hmm', 'yeah'), 10),\n",
       " (('you', 're'), 9),\n",
       " (('so', 'yeah'), 9),\n",
       " (('what', 'i'), 9)]"
      ]
     },
     "execution_count": 119,
     "metadata": {},
     "output_type": "execute_result"
    }
   ],
   "source": [
    "word_fd = nltk.FreqDist(words)\n",
    "bigram_fd = nltk.FreqDist(nltk.bigrams(words))\n",
    "bigram_fd.most_common(25)"
   ]
  },
  {
   "cell_type": "markdown",
   "metadata": {},
   "source": [
    "### Trigram"
   ]
  },
  {
   "cell_type": "code",
   "execution_count": 120,
   "metadata": {
    "collapsed": true
   },
   "outputs": [
    {
     "data": {
      "text/plain": [
       "[(('i', 'don', 't'), 19),\n",
       " (('don', 't', 'know'), 15),\n",
       " (('let', 's', 'see'), 10),\n",
       " (('i', 'think', 'we'), 9),\n",
       " (('yeah', 'yeah', 'yeah'), 8),\n",
       " (('i', 'think', 'that'), 7),\n",
       " (('yeah', 'it', 's'), 7),\n",
       " (('yeah', 'i', 'think'), 6),\n",
       " (('chuckles', 'i', 'don'), 6),\n",
       " (('oh', 'i', 'see'), 6),\n",
       " (('you', 'know', 'what'), 6),\n",
       " (('know', 'what', 'i'), 6),\n",
       " (('that', 's', 'a'), 6),\n",
       " (('that', 's', 'the'), 5),\n",
       " (('yeah', 'that', 's'), 5),\n",
       " (('looks', 'like', 'a'), 5),\n",
       " (('s', 'a', 'good'), 5),\n",
       " (('chuckles', 'chuckles', 'chuckles'), 4),\n",
       " (('it', 'looks', 'like'), 4),\n",
       " (('yeah', 'chuckles', 'yeah'), 4),\n",
       " (('what', 'i', 'm'), 4),\n",
       " (('the', 'other', 'way'), 4),\n",
       " (('a', 'good', 'idea'), 4),\n",
       " (('that', 'makes', 'sense'), 4),\n",
       " (('i', 'would', 'have'), 4)]"
      ]
     },
     "execution_count": 120,
     "metadata": {},
     "output_type": "execute_result"
    }
   ],
   "source": [
    "word_fd = nltk.FreqDist(words)\n",
    "trigram_fd = nltk.FreqDist(nltk.trigrams(words))\n",
    "trigram_fd.most_common(25)"
   ]
  },
  {
   "cell_type": "code",
   "execution_count": null,
   "metadata": {
    "collapsed": true
   },
   "outputs": [],
   "source": []
  },
  {
   "cell_type": "markdown",
   "metadata": {},
   "source": [
    "# Check Column J"
   ]
  },
  {
   "cell_type": "code",
   "execution_count": 121,
   "metadata": {
    "collapsed": true
   },
   "outputs": [],
   "source": [
    "dfJ = df[df.J > 0]\n",
    "dfJ.columns = ['E', 'P', 'Qc', 'Qi', 'Qr', 'Ra', 'Rm', 'Rd', 'S', 'J', 'N', 'C', 'Speaker', 'Text', 'Utterances', 'Unnamed']"
   ]
  },
  {
   "cell_type": "code",
   "execution_count": 122,
   "metadata": {
    "collapsed": true
   },
   "outputs": [
    {
     "name": "stdout",
     "output_type": "stream",
     "text": [
      "     E  P  Qc  Qi  Qr  Ra  Rm  Rd  S  J  N  C Speaker  \\\n",
      "3    2  1   0   0   0   0   0   0  0  3  0  0       B   \n",
      "4    2  1   0   0   0   0   0   0  0  3  1  0       A   \n",
      "5    3  0   0   0   0   0   0   0  0  3  0  0       B   \n",
      "6    3  1   0   0   0   0   0   0  0  3  1  0       A   \n",
      "7    2  0   0   0   0   0   0   0  0  3  0  0       B   \n",
      "..  .. ..  ..  ..  ..  ..  ..  .. .. .. .. ..     ...   \n",
      "99   3  3   0   1   0   0   0   0  0  2  0  0       B   \n",
      "101  3  0   0   0   0   0   2   0  0  2  0  0       A   \n",
      "106  3  0   0   0   0   0   2   0  0  1  0  0       B   \n",
      "107  2  0   0   0   0   0   1   0  0  3  0  0       B   \n",
      "109  0  0   0   0   0   3   0   0  0  3  0  0       A   \n",
      "\n",
      "                                                  Text Utterances Unnamed  \n",
      "3                          can we say if we cross here        NaN     NaN  \n",
      "4                           and then connect to b or e        NaN     NaN  \n",
      "5                         and then comes back this way        NaN     NaN  \n",
      "6    yeah or what i am thinking is can it connect t...        NaN     NaN  \n",
      "7                                              one two        NaN     NaN  \n",
      "..                                                 ...        ...     ...  \n",
      "99   do you see what i am saying instead of connect...        NaN     NaN  \n",
      "101  my only worry is that it s a longer road when ...        NaN     NaN  \n",
      "106  because if we have already the point is that i...        NaN     NaN  \n",
      "107  cause it s actually it seems longer from here ...        NaN     NaN  \n",
      "109  yeah i feel like that yeah we could yeah here ...        NaN     NaN  \n",
      "\n",
      "[1713 rows x 16 columns]\n"
     ]
    }
   ],
   "source": [
    "print(dfJ)"
   ]
  },
  {
   "cell_type": "code",
   "execution_count": 123,
   "metadata": {
    "collapsed": true
   },
   "outputs": [
    {
     "name": "stdout",
     "output_type": "stream",
     "text": [
      "3                            can we say if we cross here\n",
      "4                             and then connect to b or e\n",
      "5                           and then comes back this way\n",
      "6      yeah or what i am thinking is can it connect t...\n",
      "7                                                one two\n",
      "                             ...                        \n",
      "99     do you see what i am saying instead of connect...\n",
      "101    my only worry is that it s a longer road when ...\n",
      "106    because if we have already the point is that i...\n",
      "107    cause it s actually it seems longer from here ...\n",
      "109    yeah i feel like that yeah we could yeah here ...\n",
      "Name: Text, Length: 1713, dtype: object\n"
     ]
    }
   ],
   "source": [
    "print(dfJ.Text)"
   ]
  },
  {
   "cell_type": "code",
   "execution_count": 124,
   "metadata": {
    "collapsed": true
   },
   "outputs": [],
   "source": [
    "mask = [isinstance(item, (str, bytes)) for item in dfJ.Text]\n",
    "dfJ = dfJ.loc[mask]\n",
    "dfJ.Text = dfJ.Text.astype(str)"
   ]
  },
  {
   "cell_type": "code",
   "execution_count": 125,
   "metadata": {
    "collapsed": true
   },
   "outputs": [
    {
     "name": "stdout",
     "output_type": "stream",
     "text": [
      "3                            can we say if we cross here\n",
      "4                             and then connect to b or e\n",
      "5                           and then comes back this way\n",
      "6      yeah or what i am thinking is can it connect t...\n",
      "7                                                one two\n",
      "                             ...                        \n",
      "99     do you see what i am saying instead of connect...\n",
      "101    my only worry is that it s a longer road when ...\n",
      "106    because if we have already the point is that i...\n",
      "107    cause it s actually it seems longer from here ...\n",
      "109    yeah i feel like that yeah we could yeah here ...\n",
      "Name: Text, Length: 1206, dtype: object\n"
     ]
    }
   ],
   "source": [
    "dfJ = dfJ.Text\n",
    "print(dfJ)"
   ]
  },
  {
   "cell_type": "code",
   "execution_count": 126,
   "metadata": {
    "collapsed": true
   },
   "outputs": [
    {
     "name": "stdout",
     "output_type": "stream",
     "text": [
      "All frequencies\n",
      "===================================\n",
      "                           Word  Frequency\n",
      "0                           hmm          9\n",
      "1                            so          7\n",
      "2                      and then          7\n",
      "3                          yeah          7\n",
      "4                     let s see          6\n",
      "5                          okay          6\n",
      "6                       one two          5\n",
      "7                          here          5\n",
      "8                          this          5\n",
      "9                         three          4\n",
      "10                    like that          4\n",
      "11                     chuckles          4\n",
      "12                          and          3\n",
      "13                            j          3\n",
      "14                           oh          3\n",
      "15                            c          3\n",
      "16             this one i guess          2\n",
      "17                     this one          2\n",
      "18                        there          2\n",
      "19                    like this          2\n",
      "20                        draws          2\n",
      "21                      do that          2\n",
      "22                         then          2\n",
      "23                   start here          2\n",
      "24  one two three four five six          2\n"
     ]
    }
   ],
   "source": [
    "top_N = 25\n",
    "word_dist = nltk.FreqDist(dfJ)\n",
    "print('All frequencies')\n",
    "print('='*35)\n",
    "rslt=pd.DataFrame(word_dist.most_common(top_N),columns=['Word','Frequency'])\n",
    "print(rslt)"
   ]
  },
  {
   "cell_type": "code",
   "execution_count": 127,
   "metadata": {
    "collapsed": true
   },
   "outputs": [
    {
     "data": {
      "text/plain": [
       "<AxesSubplot:xlabel='Word'>"
      ]
     },
     "execution_count": 127,
     "metadata": {},
     "output_type": "execute_result"
    },
    {
     "data": {
      "image/png": "[encoded data removed]",
      "text/plain": [
       "<Figure size 432x288 with 1 Axes>"
      ]
     },
     "metadata": {},
     "output_type": "display_data"
    }
   ],
   "source": [
    "t_N = 10\n",
    "r = pd.DataFrame(word_dist.most_common(t_N),\n",
    "                    columns=['Word', 'Frequency']).set_index('Word')\n",
    "matplotlib.style.use('ggplot')\n",
    "r.plot.bar(rot=90, width=0.5)"
   ]
  },
  {
   "cell_type": "code",
   "execution_count": 128,
   "metadata": {
    "collapsed": true
   },
   "outputs": [
    {
     "name": "stdout",
     "output_type": "stream",
     "text": [
      "3                    [can, we, say, if, we, cross, here]\n",
      "4                     [and, then, connect, to, b, or, e]\n",
      "5                    [and, then, comes, back, this, way]\n",
      "6      [yeah, or, what, i, am, thinking, is, can, it,...\n",
      "7                                             [one, two]\n",
      "                             ...                        \n",
      "99     [do, you, see, what, i, am, saying, instead, o...\n",
      "101    [my, only, worry, is, that, it, s, a, longer, ...\n",
      "106    [because, if, we, have, already, the, point, i...\n",
      "107    [cause, it, s, actually, it, seems, longer, fr...\n",
      "109    [yeah, i, feel, like, that, yeah, we, could, y...\n",
      "Name: Text, Length: 1206, dtype: object\n"
     ]
    }
   ],
   "source": [
    "dft = dfJ.apply(nltk.word_tokenize)\n",
    "print(dft)"
   ]
  },
  {
   "cell_type": "code",
   "execution_count": 129,
   "metadata": {
    "collapsed": true
   },
   "outputs": [],
   "source": [
    "lists =  dft\n",
    "words = []\n",
    "for wordList in lists:\n",
    "    words += wordList\n",
    "fdist = FreqDist(words)"
   ]
  },
  {
   "cell_type": "markdown",
   "metadata": {},
   "source": [
    "### Unigram"
   ]
  },
  {
   "cell_type": "code",
   "execution_count": 130,
   "metadata": {
    "collapsed": true
   },
   "outputs": [
    {
     "name": "stdout",
     "output_type": "stream",
     "text": [
      "All frequencies\n",
      "===================================\n",
      "     Word  Frequency\n",
      "0      to        531\n",
      "1    this        470\n",
      "2      we        457\n",
      "3     and        430\n",
      "4    here        396\n",
      "5    then        357\n",
      "6     the        345\n",
      "7      so        330\n",
      "8      it        302\n",
      "9      go        279\n",
      "10   like        275\n",
      "11      i        272\n",
      "12   that        261\n",
      "13      s        213\n",
      "14      a        197\n",
      "15    you        196\n",
      "16     is        188\n",
      "17     if        186\n",
      "18    one        171\n",
      "19   have        166\n",
      "20    way        162\n",
      "21   back        158\n",
      "22  right        116\n",
      "23    can        114\n",
      "24      b        114\n"
     ]
    }
   ],
   "source": [
    "top_N = 25\n",
    "word_dist = nltk.FreqDist(fdist)\n",
    "print('All frequencies')\n",
    "print('='*35)\n",
    "rslt=pd.DataFrame(word_dist.most_common(top_N),columns=['Word','Frequency'])\n",
    "print(rslt)"
   ]
  },
  {
   "cell_type": "code",
   "execution_count": 131,
   "metadata": {
    "collapsed": true
   },
   "outputs": [
    {
     "data": {
      "text/plain": [
       "<AxesSubplot:xlabel='Word'>"
      ]
     },
     "execution_count": 131,
     "metadata": {},
     "output_type": "execute_result"
    },
    {
     "data": {
      "image/png": "[encoded data removed]",
      "text/plain": [
       "<Figure size 432x288 with 1 Axes>"
      ]
     },
     "metadata": {},
     "output_type": "display_data"
    }
   ],
   "source": [
    "t_N = 10\n",
    "r = pd.DataFrame(word_dist.most_common(t_N),\n",
    "                    columns=['Word', 'Frequency']).set_index('Word')\n",
    "matplotlib.style.use('ggplot')\n",
    "r.plot.bar(rot=0, width=0.5)"
   ]
  },
  {
   "cell_type": "markdown",
   "metadata": {},
   "source": [
    "### Bigram"
   ]
  },
  {
   "cell_type": "code",
   "execution_count": 132,
   "metadata": {
    "collapsed": true
   },
   "outputs": [
    {
     "data": {
      "text/plain": [
       "[(('and', 'then'), 201),\n",
       " (('have', 'to'), 103),\n",
       " (('if', 'we'), 94),\n",
       " (('to', 'go'), 93),\n",
       " (('this', 'way'), 85),\n",
       " (('it', 's'), 81),\n",
       " (('like', 'this'), 74),\n",
       " (('here', 'and'), 64),\n",
       " (('this', 'is'), 63),\n",
       " (('we', 'can'), 61),\n",
       " (('here', 'here'), 60),\n",
       " (('this', 'one'), 56),\n",
       " (('so', 'we'), 55),\n",
       " (('that', 's'), 52),\n",
       " (('i', 'think'), 49),\n",
       " (('then', 'we'), 48),\n",
       " (('let', 's'), 47),\n",
       " (('we', 'have'), 43),\n",
       " (('don', 't'), 43),\n",
       " (('go', 'back'), 37),\n",
       " (('one', 'two'), 36),\n",
       " (('i', 'mean'), 36),\n",
       " (('to', 'b'), 35),\n",
       " (('would', 'be'), 35),\n",
       " (('the', 'base'), 34)]"
      ]
     },
     "execution_count": 132,
     "metadata": {},
     "output_type": "execute_result"
    }
   ],
   "source": [
    "word_fd = nltk.FreqDist(words)\n",
    "bigram_fd = nltk.FreqDist(nltk.bigrams(words))\n",
    "bigram_fd.most_common(25)"
   ]
  },
  {
   "cell_type": "markdown",
   "metadata": {},
   "source": [
    "### Trigram"
   ]
  },
  {
   "cell_type": "code",
   "execution_count": 133,
   "metadata": {
    "collapsed": true
   },
   "outputs": [
    {
     "data": {
      "text/plain": [
       "[(('have', 'to', 'go'), 37),\n",
       " (('here', 'here', 'here'), 35),\n",
       " (('here', 'and', 'then'), 31),\n",
       " (('one', 'two', 'three'), 30),\n",
       " (('two', 'three', 'four'), 27),\n",
       " (('let', 's', 'see'), 25),\n",
       " (('go', 'this', 'way'), 24),\n",
       " (('we', 'have', 'to'), 24),\n",
       " (('to', 'go', 'back'), 24),\n",
       " (('go', 'like', 'this'), 22),\n",
       " (('three', 'four', 'five'), 22),\n",
       " (('i', 'don', 't'), 20),\n",
       " (('four', 'five', 'six'), 20),\n",
       " (('don', 't', 'know'), 19),\n",
       " (('like', 'this', 'and'), 18),\n",
       " (('and', 'then', 'we'), 17),\n",
       " (('five', 'six', 'seven'), 17),\n",
       " (('six', 'seven', 'eight'), 16),\n",
       " (('seven', 'eight', 'nine'), 15),\n",
       " (('we', 'don', 't'), 15),\n",
       " (('if', 'we', 'go'), 14),\n",
       " (('is', 'the', 'base'), 14),\n",
       " (('it', 'would', 'be'), 14),\n",
       " (('all', 'the', 'way'), 14),\n",
       " (('eight', 'nine', 'ten'), 14)]"
      ]
     },
     "execution_count": 133,
     "metadata": {},
     "output_type": "execute_result"
    }
   ],
   "source": [
    "word_fd = nltk.FreqDist(words)\n",
    "trigram_fd = nltk.FreqDist(nltk.trigrams(words))\n",
    "trigram_fd.most_common(25)"
   ]
  },
  {
   "cell_type": "code",
   "execution_count": null,
   "metadata": {
    "collapsed": true
   },
   "outputs": [],
   "source": []
  },
  {
   "cell_type": "markdown",
   "metadata": {},
   "source": [
    "# Check Column N"
   ]
  },
  {
   "cell_type": "code",
   "execution_count": 134,
   "metadata": {
    "collapsed": true
   },
   "outputs": [],
   "source": [
    "dfN = df[df.N > 0]\n",
    "dfN.columns = ['E', 'P', 'Qc', 'Qi', 'Qr', 'Ra', 'Rm', 'Rd', 'S', 'J', 'N', 'C', 'Speaker', 'Text', 'Utterances', 'Unnamed']"
   ]
  },
  {
   "cell_type": "code",
   "execution_count": 135,
   "metadata": {
    "collapsed": true
   },
   "outputs": [
    {
     "name": "stdout",
     "output_type": "stream",
     "text": [
      "    E  P  Qc  Qi  Qr  Ra  Rm  Rd  S  J  N  C Speaker  \\\n",
      "4   2  1   0   0   0   0   0   0  0  3  1  0       A   \n",
      "6   3  1   0   0   0   0   0   0  0  3  1  0       A   \n",
      "47  0  0   0   0   0   2   0   0  1  0  1  0       B   \n",
      "49  0  0   0   0   0   3   0   0  1  0  1  0       B   \n",
      "79  3  0   0   0   0   0   0   0  0  0  3  0       B   \n",
      ".. .. ..  ..  ..  ..  ..  ..  .. .. .. .. ..     ...   \n",
      "71  3  0   0   0   0   0   0   0  2  0  2  0       B   \n",
      "73  1  0   0   0   0   3   0   0  1  2  1  1       B   \n",
      "78  1  0   0   0   0   3   0   0  1  1  2  0       A   \n",
      "79  3  0   0   0   0   0   0   0  0  2  2  0       B   \n",
      "83  0  0   0   0   0   3   0   0  0  0  2  0       B   \n",
      "\n",
      "                                                 Text Utterances Unnamed  \n",
      "4                          and then connect to b or e        NaN     NaN  \n",
      "6   yeah or what i am thinking is can it connect t...        NaN     NaN  \n",
      "47                                                yes        NaN     NaN  \n",
      "49                                              twice        NaN     NaN  \n",
      "79                           all we have to come back        NaN     NaN  \n",
      "..                                                ...        ...     ...  \n",
      "71            i don t disagree with you but i kind of        NaN     NaN  \n",
      "73      oh yeah definitely that s that s my let s see        NaN     NaN  \n",
      "78              yeah that s the that s the weird part        NaN     NaN  \n",
      "79  there s no point because then if this is right...        NaN     NaN  \n",
      "83                                  right right right        NaN     NaN  \n",
      "\n",
      "[252 rows x 16 columns]\n"
     ]
    }
   ],
   "source": [
    "print(dfN)"
   ]
  },
  {
   "cell_type": "code",
   "execution_count": 136,
   "metadata": {
    "collapsed": true
   },
   "outputs": [
    {
     "name": "stdout",
     "output_type": "stream",
     "text": [
      "4                            and then connect to b or e\n",
      "6     yeah or what i am thinking is can it connect t...\n",
      "47                                                  yes\n",
      "49                                                twice\n",
      "79                             all we have to come back\n",
      "                            ...                        \n",
      "71              i don t disagree with you but i kind of\n",
      "73        oh yeah definitely that s that s my let s see\n",
      "78                yeah that s the that s the weird part\n",
      "79    there s no point because then if this is right...\n",
      "83                                    right right right\n",
      "Name: Text, Length: 252, dtype: object\n"
     ]
    }
   ],
   "source": [
    "print(dfN.Text)"
   ]
  },
  {
   "cell_type": "code",
   "execution_count": 137,
   "metadata": {
    "collapsed": true
   },
   "outputs": [],
   "source": [
    "mask = [isinstance(item, (str, bytes)) for item in dfN.Text]\n",
    "dfN = dfN.loc[mask]\n",
    "dfN.Text = dfN.Text.astype(str)"
   ]
  },
  {
   "cell_type": "code",
   "execution_count": 138,
   "metadata": {
    "collapsed": true
   },
   "outputs": [
    {
     "name": "stdout",
     "output_type": "stream",
     "text": [
      "4                            and then connect to b or e\n",
      "6     yeah or what i am thinking is can it connect t...\n",
      "47                                                  yes\n",
      "49                                                twice\n",
      "79                             all we have to come back\n",
      "                            ...                        \n",
      "71              i don t disagree with you but i kind of\n",
      "73        oh yeah definitely that s that s my let s see\n",
      "78                yeah that s the that s the weird part\n",
      "79    there s no point because then if this is right...\n",
      "83                                    right right right\n",
      "Name: Text, Length: 150, dtype: object\n"
     ]
    }
   ],
   "source": [
    "dfN = dfN.Text\n",
    "print(dfN)"
   ]
  },
  {
   "cell_type": "code",
   "execution_count": 139,
   "metadata": {
    "collapsed": true
   },
   "outputs": [
    {
     "name": "stdout",
     "output_type": "stream",
     "text": [
      "All frequencies\n",
      "===================================\n",
      "                                                 Word  Frequency\n",
      "0                                                yeah          5\n",
      "1                                                 hmm          2\n",
      "2                          and then connect to b or e          1\n",
      "3   yeah or what i am thinking is can it connect t...          1\n",
      "4                                                 yes          1\n",
      "5                                               twice          1\n",
      "6                            all we have to come back          1\n",
      "7   maybe a is slightly shorter yeah slightly shorter          1\n",
      "8                  connecting routes what do you mean          1\n",
      "9                                             j and f          1\n",
      "10                                         and then h          1\n",
      "11                      i think that s more efficient          1\n",
      "12                              what do you mean loop          1\n",
      "13                            i don t think so but if          1\n",
      "14  cause it s a compromise between shortest drivi...          1\n",
      "15                                  yeah i m thinking          1\n",
      "16  oh and then we can get back this way if we sta...          1\n",
      "17          and this will be shorter if we had to try          1\n",
      "18                                      in the corner          1\n",
      "19                      and make this the focal point          1\n",
      "20                                     between c or f          1\n",
      "21                                             if you          1\n",
      "22                                               wait          1\n",
      "23  to get this the quickest route somehow we ll h...          1\n",
      "24                                           and this          1\n"
     ]
    }
   ],
   "source": [
    "top_N = 25\n",
    "word_dist = nltk.FreqDist(dfN)\n",
    "print('All frequencies')\n",
    "print('='*35)\n",
    "rslt=pd.DataFrame(word_dist.most_common(top_N),columns=['Word','Frequency'])\n",
    "print(rslt)"
   ]
  },
  {
   "cell_type": "code",
   "execution_count": 140,
   "metadata": {
    "collapsed": true
   },
   "outputs": [
    {
     "data": {
      "text/plain": [
       "<AxesSubplot:xlabel='Word'>"
      ]
     },
     "execution_count": 140,
     "metadata": {},
     "output_type": "execute_result"
    },
    {
     "data": {
      "image/png": "[encoded data removed]",
      "text/plain": [
       "<Figure size 432x288 with 1 Axes>"
      ]
     },
     "metadata": {},
     "output_type": "display_data"
    }
   ],
   "source": [
    "t_N = 10\n",
    "r = pd.DataFrame(word_dist.most_common(t_N),\n",
    "                    columns=['Word', 'Frequency']).set_index('Word')\n",
    "matplotlib.style.use('ggplot')\n",
    "r.plot.bar(rot=90, width=0.5)"
   ]
  },
  {
   "cell_type": "code",
   "execution_count": 141,
   "metadata": {
    "collapsed": true
   },
   "outputs": [
    {
     "name": "stdout",
     "output_type": "stream",
     "text": [
      "4                    [and, then, connect, to, b, or, e]\n",
      "6     [yeah, or, what, i, am, thinking, is, can, it,...\n",
      "47                                                [yes]\n",
      "49                                              [twice]\n",
      "79                      [all, we, have, to, come, back]\n",
      "                            ...                        \n",
      "71    [i, don, t, disagree, with, you, but, i, kind,...\n",
      "73    [oh, yeah, definitely, that, s, that, s, my, l...\n",
      "78      [yeah, that, s, the, that, s, the, weird, part]\n",
      "79    [there, s, no, point, because, then, if, this,...\n",
      "83                                [right, right, right]\n",
      "Name: Text, Length: 150, dtype: object\n"
     ]
    }
   ],
   "source": [
    "dft = dfN.apply(nltk.word_tokenize)\n",
    "print(dft)"
   ]
  },
  {
   "cell_type": "code",
   "execution_count": 142,
   "metadata": {
    "collapsed": true
   },
   "outputs": [],
   "source": [
    "lists =  dft\n",
    "words = []\n",
    "for wordList in lists:\n",
    "    words += wordList\n",
    "fdist = FreqDist(words)"
   ]
  },
  {
   "cell_type": "markdown",
   "metadata": {},
   "source": [
    "### Unigram"
   ]
  },
  {
   "cell_type": "code",
   "execution_count": 143,
   "metadata": {
    "collapsed": true
   },
   "outputs": [
    {
     "name": "stdout",
     "output_type": "stream",
     "text": [
      "All frequencies\n",
      "===================================\n",
      "     Word  Frequency\n",
      "0      to         44\n",
      "1     the         43\n",
      "2     and         40\n",
      "3      it         39\n",
      "4    that         38\n",
      "5      we         37\n",
      "6       s         37\n",
      "7       i         33\n",
      "8    yeah         28\n",
      "9     you         27\n",
      "10   this         27\n",
      "11   then         26\n",
      "12      a         25\n",
      "13  right         22\n",
      "14   have         20\n",
      "15    one         19\n",
      "16     so         18\n",
      "17     if         16\n",
      "18   here         15\n",
      "19   like         14\n",
      "20   back         14\n",
      "21     be         14\n",
      "22     go         14\n",
      "23     is         13\n",
      "24    can         13\n"
     ]
    }
   ],
   "source": [
    "top_N = 25\n",
    "word_dist = nltk.FreqDist(fdist)\n",
    "print('All frequencies')\n",
    "print('='*35)\n",
    "rslt=pd.DataFrame(word_dist.most_common(top_N),columns=['Word','Frequency'])\n",
    "print(rslt)"
   ]
  },
  {
   "cell_type": "code",
   "execution_count": 144,
   "metadata": {
    "collapsed": true
   },
   "outputs": [
    {
     "data": {
      "text/plain": [
       "<AxesSubplot:xlabel='Word'>"
      ]
     },
     "execution_count": 144,
     "metadata": {},
     "output_type": "execute_result"
    },
    {
     "data": {
      "image/png": "[encoded data removed]",
      "text/plain": [
       "<Figure size 432x288 with 1 Axes>"
      ]
     },
     "metadata": {},
     "output_type": "display_data"
    }
   ],
   "source": [
    "t_N = 10\n",
    "r = pd.DataFrame(word_dist.most_common(t_N),\n",
    "                    columns=['Word', 'Frequency']).set_index('Word')\n",
    "matplotlib.style.use('ggplot')\n",
    "r.plot.bar(rot=0, width=0.5)"
   ]
  },
  {
   "cell_type": "markdown",
   "metadata": {},
   "source": [
    "### Bigram"
   ]
  },
  {
   "cell_type": "code",
   "execution_count": 145,
   "metadata": {
    "collapsed": true
   },
   "outputs": [
    {
     "data": {
      "text/plain": [
       "[(('that', 's'), 18),\n",
       " (('have', 'to'), 16),\n",
       " (('and', 'then'), 15),\n",
       " (('it', 's'), 13),\n",
       " (('if', 'we'), 9),\n",
       " (('don', 't'), 7),\n",
       " (('we', 'can'), 7),\n",
       " (('i', 'mean'), 7),\n",
       " (('yeah', 'i'), 6),\n",
       " (('this', 'way'), 6),\n",
       " (('would', 'be'), 6),\n",
       " (('to', 'go'), 6),\n",
       " (('as', 'the'), 6),\n",
       " (('that', 'would'), 5),\n",
       " (('one', 'two'), 5),\n",
       " (('two', 'three'), 5),\n",
       " (('three', 'four'), 5),\n",
       " (('this', 'is'), 5),\n",
       " (('you', 'have'), 5),\n",
       " (('go', 'back'), 5),\n",
       " (('i', 'think'), 4),\n",
       " (('think', 'that'), 4),\n",
       " (('i', 'don'), 4),\n",
       " (('s', 'a'), 4),\n",
       " (('then', 'we'), 4)]"
      ]
     },
     "execution_count": 145,
     "metadata": {},
     "output_type": "execute_result"
    }
   ],
   "source": [
    "word_fd = nltk.FreqDist(words)\n",
    "bigram_fd = nltk.FreqDist(nltk.bigrams(words))\n",
    "bigram_fd.most_common(25)"
   ]
  },
  {
   "cell_type": "markdown",
   "metadata": {},
   "source": [
    "### Trigram"
   ]
  },
  {
   "cell_type": "code",
   "execution_count": 146,
   "metadata": {
    "collapsed": true
   },
   "outputs": [
    {
     "data": {
      "text/plain": [
       "[(('one', 'two', 'three'), 5),\n",
       " (('you', 'have', 'to'), 5),\n",
       " (('have', 'to', 'go'), 5),\n",
       " (('i', 'think', 'that'), 4),\n",
       " (('i', 'don', 't'), 4),\n",
       " (('two', 'three', 'four'), 4),\n",
       " (('to', 'go', 'back'), 4),\n",
       " (('think', 'that', 's'), 3),\n",
       " (('that', 's', 'the'), 3),\n",
       " (('that', 'would', 'be'), 3),\n",
       " (('three', 'four', 'five'), 3),\n",
       " (('and', 'then', 'go'), 3),\n",
       " (('and', 'three', 'quarters'), 3),\n",
       " (('d', 'have', 'to'), 3),\n",
       " (('what', 'do', 'you'), 2),\n",
       " (('do', 'you', 'mean'), 2),\n",
       " (('don', 't', 'think'), 2),\n",
       " (('cause', 'it', 's'), 2),\n",
       " (('it', 's', 'a'), 2),\n",
       " (('and', 'then', 'we'), 2),\n",
       " (('the', 'bridge', 'and'), 2),\n",
       " (('if', 'we', 'had'), 2),\n",
       " (('would', 'be', 'but'), 2),\n",
       " (('can', 'only', 'cross'), 2),\n",
       " (('only', 'cross', 'the'), 2)]"
      ]
     },
     "execution_count": 146,
     "metadata": {},
     "output_type": "execute_result"
    }
   ],
   "source": [
    "word_fd = nltk.FreqDist(words)\n",
    "trigram_fd = nltk.FreqDist(nltk.trigrams(words))\n",
    "trigram_fd.most_common(25)"
   ]
  },
  {
   "cell_type": "code",
   "execution_count": null,
   "metadata": {
    "collapsed": true
   },
   "outputs": [],
   "source": []
  },
  {
   "cell_type": "markdown",
   "metadata": {},
   "source": [
    "# Check Column C"
   ]
  },
  {
   "cell_type": "code",
   "execution_count": 147,
   "metadata": {
    "collapsed": true
   },
   "outputs": [],
   "source": [
    "dfC = df[df.C > 0]\n",
    "dfC.columns = ['E', 'P', 'Qc', 'Qi', 'Qr', 'Ra', 'Rm', 'Rd', 'S', 'J', 'N', 'C', 'Speaker', 'Text', 'Utterances', 'Unnamed']"
   ]
  },
  {
   "cell_type": "code",
   "execution_count": 148,
   "metadata": {
    "collapsed": true
   },
   "outputs": [
    {
     "name": "stdout",
     "output_type": "stream",
     "text": [
      "     E  P  Qc  Qi  Qr  Ra  Rm  Rd  S  J  N  C Speaker  \\\n",
      "22   3  0   0   0   0   0   0   0  1  0  0  2       B   \n",
      "104  1  0   0   0   0   0   2   0  0  3  0  1       A   \n",
      "108  2  0   0   0   0   0   1   0  0  3  0  1       B   \n",
      "164  0  0   3   0   0   0   0   0  0  0  0  2       B   \n",
      "47   0  0   0   3   0   0   0   0  0  1  1  1       B   \n",
      "53   1  1   0   0   0   0   0   0  0  3  0  1       A   \n",
      "17   2  1   0   0   0   0   0   0  0  1  0  1       B   \n",
      "20   1  2   1   0   0   0   0   0  0  0  0  1       A   \n",
      "49   3  2   0   0   1   0   0   0  0  1  0  1       B   \n",
      "86   3  0   0   0   0   0   0   0  0  0  0  1       A   \n",
      "88   3  0   0   0   0   0   0   0  0  1  0  1       A   \n",
      "89   1  3   2   0   0   0   0   0  0  0  0  1       A   \n",
      "93   1  1   0   0   0   0   2   0  0  0  0  1       B   \n",
      "101  3  0   0   0   0   0   0   0  0  1  0  1       A   \n",
      "117  0  0   2   0   1   0   0   0  0  0  0  1       B   \n",
      "39   3  0   1   0   0   0   0   0  0  0  0  1       A   \n",
      "46   1  0   0   0   0   0   0   0  0  3  2  1       B   \n",
      "27   3  0   0   0   0   0   0   0  0  0  0  1       B   \n",
      "163  0  0   0   1   0   0   0   0  3  0  0  2       A   \n",
      "73   1  0   0   0   0   3   0   0  1  2  1  1       B   \n",
      "96   0  0   3   0   0   0   0   0  0  2  0  1       B   \n",
      "116  0  0   0   0   0   0   0   0  3  0  0  2       B   \n",
      "\n",
      "                                                  Text Utterances Unnamed  \n",
      "22   so the bridge situation here is annoying now c...        NaN     NaN  \n",
      "104                                 that one works out        NaN     NaN  \n",
      "108  hold on if we did if we started here no if we ...        NaN     NaN  \n",
      "164       i m just wondering now what would be shorter        NaN     NaN  \n",
      "47                                 so this is our base        NaN     NaN  \n",
      "53                               okay so starting here        NaN     NaN  \n",
      "17   let s see i m also i m pretty sure you had to ...        NaN     NaN  \n",
      "20   should we sort of try doing bits of it and the...        NaN     NaN  \n",
      "49   i think we should also consider the mountains ...        NaN     NaN  \n",
      "86                if we got the supply route coming in        NaN     NaN  \n",
      "88   cause if right i am starting to get an idea on...        NaN     NaN  \n",
      "89   then actually putting a road here would mean t...        NaN     NaN  \n",
      "93   although a and e should still be separated but...        NaN     NaN  \n",
      "101  so that s sure that it s going now if we going...        NaN     NaN  \n",
      "117  so route wise how is there any way we can mini...        NaN     NaN  \n",
      "39   i am just wondering whether the starting point...        NaN     NaN  \n",
      "46                                               roads        NaN     NaN  \n",
      "27   my first question is whether it s smaller with...        NaN     NaN  \n",
      "163  were you the one who was um in the peace corps...        NaN     NaN  \n",
      "73       oh yeah definitely that s that s my let s see        NaN     NaN  \n",
      "96   do we have to connect it here is that shorter ...        NaN     NaN  \n",
      "116  that s smart okay i like it it looks like a do...        NaN     NaN  \n"
     ]
    }
   ],
   "source": [
    "print(dfC)"
   ]
  },
  {
   "cell_type": "code",
   "execution_count": 149,
   "metadata": {
    "collapsed": true
   },
   "outputs": [
    {
     "name": "stdout",
     "output_type": "stream",
     "text": [
      "22     so the bridge situation here is annoying now c...\n",
      "104                                   that one works out\n",
      "108    hold on if we did if we started here no if we ...\n",
      "164         i m just wondering now what would be shorter\n",
      "47                                   so this is our base\n",
      "53                                 okay so starting here\n",
      "17     let s see i m also i m pretty sure you had to ...\n",
      "20     should we sort of try doing bits of it and the...\n",
      "49     i think we should also consider the mountains ...\n",
      "86                  if we got the supply route coming in\n",
      "88     cause if right i am starting to get an idea on...\n",
      "89     then actually putting a road here would mean t...\n",
      "93     although a and e should still be separated but...\n",
      "101    so that s sure that it s going now if we going...\n",
      "117    so route wise how is there any way we can mini...\n",
      "39     i am just wondering whether the starting point...\n",
      "46                                                 roads\n",
      "27     my first question is whether it s smaller with...\n",
      "163    were you the one who was um in the peace corps...\n",
      "73         oh yeah definitely that s that s my let s see\n",
      "96     do we have to connect it here is that shorter ...\n",
      "116    that s smart okay i like it it looks like a do...\n",
      "Name: Text, dtype: object\n"
     ]
    }
   ],
   "source": [
    "print(dfC.Text)"
   ]
  },
  {
   "cell_type": "code",
   "execution_count": 150,
   "metadata": {
    "collapsed": true
   },
   "outputs": [],
   "source": [
    "mask = [isinstance(item, (str, bytes)) for item in dfC.Text]\n",
    "dfC = dfC.loc[mask]\n",
    "dfC.Text = dfC.Text.astype(str)"
   ]
  },
  {
   "cell_type": "code",
   "execution_count": 151,
   "metadata": {
    "collapsed": true
   },
   "outputs": [
    {
     "name": "stdout",
     "output_type": "stream",
     "text": [
      "22     so the bridge situation here is annoying now c...\n",
      "104                                   that one works out\n",
      "108    hold on if we did if we started here no if we ...\n",
      "164         i m just wondering now what would be shorter\n",
      "47                                   so this is our base\n",
      "53                                 okay so starting here\n",
      "17     let s see i m also i m pretty sure you had to ...\n",
      "20     should we sort of try doing bits of it and the...\n",
      "49     i think we should also consider the mountains ...\n",
      "86                  if we got the supply route coming in\n",
      "88     cause if right i am starting to get an idea on...\n",
      "89     then actually putting a road here would mean t...\n",
      "93     although a and e should still be separated but...\n",
      "101    so that s sure that it s going now if we going...\n",
      "117    so route wise how is there any way we can mini...\n",
      "39     i am just wondering whether the starting point...\n",
      "46                                                 roads\n",
      "27     my first question is whether it s smaller with...\n",
      "163    were you the one who was um in the peace corps...\n",
      "73         oh yeah definitely that s that s my let s see\n",
      "96     do we have to connect it here is that shorter ...\n",
      "116    that s smart okay i like it it looks like a do...\n",
      "Name: Text, dtype: object\n"
     ]
    }
   ],
   "source": [
    "dfC = dfC.Text\n",
    "print(dfC)"
   ]
  },
  {
   "cell_type": "code",
   "execution_count": 152,
   "metadata": {
    "collapsed": true
   },
   "outputs": [
    {
     "name": "stdout",
     "output_type": "stream",
     "text": [
      "All frequencies\n",
      "===================================\n",
      "                                                 Word  Frequency\n",
      "0   so the bridge situation here is annoying now c...          1\n",
      "1                                  that one works out          1\n",
      "2   hold on if we did if we started here no if we ...          1\n",
      "3        i m just wondering now what would be shorter          1\n",
      "4                                 so this is our base          1\n",
      "5                               okay so starting here          1\n",
      "6   let s see i m also i m pretty sure you had to ...          1\n",
      "7   should we sort of try doing bits of it and the...          1\n",
      "8   i think we should also consider the mountains ...          1\n",
      "9                if we got the supply route coming in          1\n",
      "10  cause if right i am starting to get an idea on...          1\n",
      "11  then actually putting a road here would mean t...          1\n",
      "12  although a and e should still be separated but...          1\n",
      "13  so that s sure that it s going now if we going...          1\n",
      "14  so route wise how is there any way we can mini...          1\n",
      "15  i am just wondering whether the starting point...          1\n",
      "16                                              roads          1\n",
      "17  my first question is whether it s smaller with...          1\n",
      "18  were you the one who was um in the peace corps...          1\n",
      "19      oh yeah definitely that s that s my let s see          1\n",
      "20  do we have to connect it here is that shorter ...          1\n",
      "21  that s smart okay i like it it looks like a do...          1\n"
     ]
    }
   ],
   "source": [
    "top_N = 25\n",
    "word_dist = nltk.FreqDist(dfC)\n",
    "print('All frequencies')\n",
    "print('='*35)\n",
    "rslt=pd.DataFrame(word_dist.most_common(top_N),columns=['Word','Frequency'])\n",
    "print(rslt)"
   ]
  },
  {
   "cell_type": "code",
   "execution_count": 153,
   "metadata": {
    "collapsed": true
   },
   "outputs": [
    {
     "data": {
      "text/plain": [
       "<AxesSubplot:xlabel='Word'>"
      ]
     },
     "execution_count": 153,
     "metadata": {},
     "output_type": "execute_result"
    },
    {
     "data": {
      "image/png": "[encoded data removed]",
      "text/plain": [
       "<Figure size 432x288 with 1 Axes>"
      ]
     },
     "metadata": {},
     "output_type": "display_data"
    }
   ],
   "source": [
    "t_N = 10\n",
    "r = pd.DataFrame(word_dist.most_common(t_N),\n",
    "                    columns=['Word', 'Frequency']).set_index('Word')\n",
    "matplotlib.style.use('ggplot')\n",
    "r.plot.bar(rot=90, width=0.5)"
   ]
  },
  {
   "cell_type": "code",
   "execution_count": 154,
   "metadata": {
    "collapsed": true
   },
   "outputs": [
    {
     "name": "stdout",
     "output_type": "stream",
     "text": [
      "22     [so, the, bridge, situation, here, is, annoyin...\n",
      "104                              [that, one, works, out]\n",
      "108    [hold, on, if, we, did, if, we, started, here,...\n",
      "164    [i, m, just, wondering, now, what, would, be, ...\n",
      "47                             [so, this, is, our, base]\n",
      "53                            [okay, so, starting, here]\n",
      "17     [let, s, see, i, m, also, i, m, pretty, sure, ...\n",
      "20     [should, we, sort, of, try, doing, bits, of, i...\n",
      "49     [i, think, we, should, also, consider, the, mo...\n",
      "86         [if, we, got, the, supply, route, coming, in]\n",
      "88     [cause, if, right, i, am, starting, to, get, a...\n",
      "89     [then, actually, putting, a, road, here, would...\n",
      "93     [although, a, and, e, should, still, be, separ...\n",
      "101    [so, that, s, sure, that, it, s, going, now, i...\n",
      "117    [so, route, wise, how, is, there, any, way, we...\n",
      "39     [i, am, just, wondering, whether, the, startin...\n",
      "46                                               [roads]\n",
      "27     [my, first, question, is, whether, it, s, smal...\n",
      "163    [were, you, the, one, who, was, um, in, the, p...\n",
      "73     [oh, yeah, definitely, that, s, that, s, my, l...\n",
      "96     [do, we, have, to, connect, it, here, is, that...\n",
      "116    [that, s, smart, okay, i, like, it, it, looks,...\n",
      "Name: Text, dtype: object\n"
     ]
    }
   ],
   "source": [
    "dft = dfC.apply(nltk.word_tokenize)\n",
    "print(dft)"
   ]
  },
  {
   "cell_type": "code",
   "execution_count": 155,
   "metadata": {
    "collapsed": true
   },
   "outputs": [],
   "source": [
    "lists =  dft\n",
    "words = []\n",
    "for wordList in lists:\n",
    "    words += wordList\n",
    "fdist = FreqDist(words)"
   ]
  },
  {
   "cell_type": "markdown",
   "metadata": {},
   "source": [
    "### Unigram"
   ]
  },
  {
   "cell_type": "code",
   "execution_count": 156,
   "metadata": {
    "collapsed": true
   },
   "outputs": [
    {
     "name": "stdout",
     "output_type": "stream",
     "text": [
      "All frequencies\n",
      "===================================\n",
      "        Word  Frequency\n",
      "0         we         12\n",
      "1        the         11\n",
      "2         is         11\n",
      "3       that         11\n",
      "4         it         11\n",
      "5          i         10\n",
      "6         to         10\n",
      "7          s          9\n",
      "8       here          7\n",
      "9         if          7\n",
      "10      this          7\n",
      "11        so          6\n",
      "12       and          5\n",
      "13         a          5\n",
      "14      just          4\n",
      "15      then          4\n",
      "16     going          4\n",
      "17        go          4\n",
      "18    around          4\n",
      "19       now          3\n",
      "20     cause          3\n",
      "21         m          3\n",
      "22   shorter          3\n",
      "23      okay          3\n",
      "24  starting          3\n"
     ]
    }
   ],
   "source": [
    "top_N = 25\n",
    "word_dist = nltk.FreqDist(fdist)\n",
    "print('All frequencies')\n",
    "print('='*35)\n",
    "rslt=pd.DataFrame(word_dist.most_common(top_N),columns=['Word','Frequency'])\n",
    "print(rslt)"
   ]
  },
  {
   "cell_type": "code",
   "execution_count": 157,
   "metadata": {
    "collapsed": true
   },
   "outputs": [
    {
     "data": {
      "text/plain": [
       "<AxesSubplot:xlabel='Word'>"
      ]
     },
     "execution_count": 157,
     "metadata": {},
     "output_type": "execute_result"
    },
    {
     "data": {
      "image/png": "[encoded data removed]",
      "text/plain": [
       "<Figure size 432x288 with 1 Axes>"
      ]
     },
     "metadata": {},
     "output_type": "display_data"
    }
   ],
   "source": [
    "t_N = 10\n",
    "r = pd.DataFrame(word_dist.most_common(t_N),\n",
    "                    columns=['Word', 'Frequency']).set_index('Word')\n",
    "matplotlib.style.use('ggplot')\n",
    "r.plot.bar(rot=0, width=0.5)"
   ]
  },
  {
   "cell_type": "markdown",
   "metadata": {},
   "source": [
    "### Bigram"
   ]
  },
  {
   "cell_type": "code",
   "execution_count": 158,
   "metadata": {
    "collapsed": true
   },
   "outputs": [
    {
     "data": {
      "text/plain": [
       "[(('if', 'we'), 6),\n",
       " (('go', 'around'), 4),\n",
       " (('that', 's'), 4),\n",
       " (('i', 'm'), 3),\n",
       " (('this', 'is'), 3),\n",
       " (('the', 'river'), 3),\n",
       " (('it', 's'), 3),\n",
       " (('is', 'that'), 3),\n",
       " (('here', 'is'), 2),\n",
       " (('we', 'started'), 2),\n",
       " (('started', 'here'), 2),\n",
       " (('just', 'wondering'), 2),\n",
       " (('let', 's'), 2),\n",
       " (('s', 'see'), 2),\n",
       " (('had', 'to'), 2),\n",
       " (('to', 'do'), 2),\n",
       " (('sort', 'of'), 2),\n",
       " (('and', 'then'), 2),\n",
       " (('the', 'mountains'), 2),\n",
       " (('cause', 'if'), 2),\n",
       " (('i', 'am'), 2),\n",
       " (('to', 'get'), 2),\n",
       " (('going', 'to'), 2),\n",
       " (('have', 'to'), 2),\n",
       " (('to', 'come'), 2)]"
      ]
     },
     "execution_count": 158,
     "metadata": {},
     "output_type": "execute_result"
    }
   ],
   "source": [
    "word_fd = nltk.FreqDist(words)\n",
    "bigram_fd = nltk.FreqDist(nltk.bigrams(words))\n",
    "bigram_fd.most_common(25)"
   ]
  },
  {
   "cell_type": "markdown",
   "metadata": {},
   "source": [
    "### Trigram"
   ]
  },
  {
   "cell_type": "code",
   "execution_count": 159,
   "metadata": {
    "collapsed": true
   },
   "outputs": [
    {
     "data": {
      "text/plain": [
       "[(('if', 'we', 'started'), 2),\n",
       " (('we', 'started', 'here'), 2),\n",
       " (('let', 's', 'see'), 2),\n",
       " (('had', 'to', 'do'), 2),\n",
       " (('to', 'come', 'back'), 2),\n",
       " (('go', 'around', 'this'), 2),\n",
       " (('so', 'the', 'bridge'), 1),\n",
       " (('the', 'bridge', 'situation'), 1),\n",
       " (('bridge', 'situation', 'here'), 1),\n",
       " (('situation', 'here', 'is'), 1),\n",
       " (('here', 'is', 'annoying'), 1),\n",
       " (('is', 'annoying', 'now'), 1),\n",
       " (('annoying', 'now', 'cause'), 1),\n",
       " (('now', 'cause', 'i'), 1),\n",
       " (('cause', 'i', 'chuckles'), 1),\n",
       " (('i', 'chuckles', 'that'), 1),\n",
       " (('chuckles', 'that', 'one'), 1),\n",
       " (('that', 'one', 'works'), 1),\n",
       " (('one', 'works', 'out'), 1),\n",
       " (('works', 'out', 'hold'), 1),\n",
       " (('out', 'hold', 'on'), 1),\n",
       " (('hold', 'on', 'if'), 1),\n",
       " (('on', 'if', 'we'), 1),\n",
       " (('if', 'we', 'did'), 1),\n",
       " (('we', 'did', 'if'), 1)]"
      ]
     },
     "execution_count": 159,
     "metadata": {},
     "output_type": "execute_result"
    }
   ],
   "source": [
    "word_fd = nltk.FreqDist(words)\n",
    "trigram_fd = nltk.FreqDist(nltk.trigrams(words))\n",
    "trigram_fd.most_common(25)"
   ]
  }
 ],
 "metadata": {
  "kernelspec": {
   "display_name": "Python 3",
   "language": "python",
   "name": "python3"
  },
  "language_info": {
   "codemirror_mode": {
    "name": "ipython",
    "version": 3
   },
   "file_extension": ".py",
   "mimetype": "text/x-python",
   "name": "python",
   "nbconvert_exporter": "python",
   "pygments_lexer": "ipython3",
   "version": "3.8.5"
  }
 },
 "nbformat": 4,
 "nbformat_minor": 4
}
