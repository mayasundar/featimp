{
 "cells": [
  {
   "cell_type": "markdown",
   "metadata": {},
   "source": [
    "- notes: \n",
    "\n",
    "concatenate all csv files, go thru individually by columns (speech acts), create text column (utterances), and tokenize words. \n",
    "\n",
    "next steps - clean corpus, start analysis of roles, plot bigrams + trigrams"
   ]
  },
  {
   "cell_type": "markdown",
   "metadata": {},
   "source": [
    "# Speech Acts"
   ]
  },
  {
   "cell_type": "code",
   "execution_count": 1,
   "metadata": {},
   "outputs": [],
   "source": [
    "from os import listdir\n",
    "import pandas as pd\n",
    "import nltk\n",
    "from nltk.tokenize import sent_tokenize, word_tokenize \n",
    "from nltk.collocations import *\n",
    "bigram_measures = nltk.collocations.BigramAssocMeasures()\n",
    "trigram_measures = nltk.collocations.TrigramAssocMeasures()\n",
    "import matplotlib\n",
    "import matplotlib.pyplot as plt"
   ]
  },
  {
   "cell_type": "code",
   "execution_count": 2,
   "metadata": {},
   "outputs": [],
   "source": [
    "filepaths = [f for f in listdir(\"./\") if f.endswith('.csv')]\n"
   ]
  },
  {
   "cell_type": "code",
   "execution_count": 3,
   "metadata": {},
   "outputs": [
    {
     "ename": "ValueError",
     "evalue": "No objects to concatenate",
     "output_type": "error",
     "traceback": [
      "\u001b[0;31m---------------------------------------------------------------------------\u001b[0m",
      "\u001b[0;31mValueError\u001b[0m                                Traceback (most recent call last)",
      "\u001b[0;32m<ipython-input-3-88e052b153a1>\u001b[0m in \u001b[0;36m<module>\u001b[0;34m\u001b[0m\n\u001b[0;32m----> 1\u001b[0;31m \u001b[0mdf\u001b[0m \u001b[0;34m=\u001b[0m \u001b[0mpd\u001b[0m\u001b[0;34m.\u001b[0m\u001b[0mconcat\u001b[0m\u001b[0;34m(\u001b[0m\u001b[0mmap\u001b[0m\u001b[0;34m(\u001b[0m\u001b[0mpd\u001b[0m\u001b[0;34m.\u001b[0m\u001b[0mread_csv\u001b[0m\u001b[0;34m,\u001b[0m \u001b[0mfilepaths\u001b[0m\u001b[0;34m)\u001b[0m\u001b[0;34m)\u001b[0m\u001b[0;34m\u001b[0m\u001b[0;34m\u001b[0m\u001b[0m\n\u001b[0m",
      "\u001b[0;32m~/opt/anaconda3/lib/python3.8/site-packages/pandas/core/reshape/concat.py\u001b[0m in \u001b[0;36mconcat\u001b[0;34m(objs, axis, join, ignore_index, keys, levels, names, verify_integrity, sort, copy)\u001b[0m\n\u001b[1;32m    272\u001b[0m     \u001b[0mValueError\u001b[0m\u001b[0;34m:\u001b[0m \u001b[0mIndexes\u001b[0m \u001b[0mhave\u001b[0m \u001b[0moverlapping\u001b[0m \u001b[0mvalues\u001b[0m\u001b[0;34m:\u001b[0m \u001b[0;34m[\u001b[0m\u001b[0;34m'a'\u001b[0m\u001b[0;34m]\u001b[0m\u001b[0;34m\u001b[0m\u001b[0;34m\u001b[0m\u001b[0m\n\u001b[1;32m    273\u001b[0m     \"\"\"\n\u001b[0;32m--> 274\u001b[0;31m     op = _Concatenator(\n\u001b[0m\u001b[1;32m    275\u001b[0m         \u001b[0mobjs\u001b[0m\u001b[0;34m,\u001b[0m\u001b[0;34m\u001b[0m\u001b[0;34m\u001b[0m\u001b[0m\n\u001b[1;32m    276\u001b[0m         \u001b[0maxis\u001b[0m\u001b[0;34m=\u001b[0m\u001b[0maxis\u001b[0m\u001b[0;34m,\u001b[0m\u001b[0;34m\u001b[0m\u001b[0;34m\u001b[0m\u001b[0m\n",
      "\u001b[0;32m~/opt/anaconda3/lib/python3.8/site-packages/pandas/core/reshape/concat.py\u001b[0m in \u001b[0;36m__init__\u001b[0;34m(self, objs, axis, join, keys, levels, names, ignore_index, verify_integrity, copy, sort)\u001b[0m\n\u001b[1;32m    329\u001b[0m \u001b[0;34m\u001b[0m\u001b[0m\n\u001b[1;32m    330\u001b[0m         \u001b[0;32mif\u001b[0m \u001b[0mlen\u001b[0m\u001b[0;34m(\u001b[0m\u001b[0mobjs\u001b[0m\u001b[0;34m)\u001b[0m \u001b[0;34m==\u001b[0m \u001b[0;36m0\u001b[0m\u001b[0;34m:\u001b[0m\u001b[0;34m\u001b[0m\u001b[0;34m\u001b[0m\u001b[0m\n\u001b[0;32m--> 331\u001b[0;31m             \u001b[0;32mraise\u001b[0m \u001b[0mValueError\u001b[0m\u001b[0;34m(\u001b[0m\u001b[0;34m\"No objects to concatenate\"\u001b[0m\u001b[0;34m)\u001b[0m\u001b[0;34m\u001b[0m\u001b[0;34m\u001b[0m\u001b[0m\n\u001b[0m\u001b[1;32m    332\u001b[0m \u001b[0;34m\u001b[0m\u001b[0m\n\u001b[1;32m    333\u001b[0m         \u001b[0;32mif\u001b[0m \u001b[0mkeys\u001b[0m \u001b[0;32mis\u001b[0m \u001b[0;32mNone\u001b[0m\u001b[0;34m:\u001b[0m\u001b[0;34m\u001b[0m\u001b[0;34m\u001b[0m\u001b[0m\n",
      "\u001b[0;31mValueError\u001b[0m: No objects to concatenate"
     ]
    }
   ],
   "source": [
    "df = pd.concat(map(pd.read_csv, filepaths))"
   ]
  },
  {
   "cell_type": "markdown",
   "metadata": {},
   "source": [
    "# Check Column E"
   ]
  },
  {
   "cell_type": "code",
   "execution_count": null,
   "metadata": {},
   "outputs": [],
   "source": [
    "dfE = df[df.E > 0]\n",
    "dfE.columns = ['E', 'P', 'Qc', 'Qi', 'Qr', 'Ra', 'Rm', 'Rd', 'S', 'J', 'N', 'C', 'Speaker', 'Text', 'Utterances', 'Unnamed']"
   ]
  },
  {
   "cell_type": "code",
   "execution_count": null,
   "metadata": {
    "scrolled": true
   },
   "outputs": [],
   "source": [
    "print(dfE)"
   ]
  },
  {
   "cell_type": "code",
   "execution_count": null,
   "metadata": {
    "scrolled": true
   },
   "outputs": [],
   "source": [
    "print(dfE.Text)"
   ]
  },
  {
   "cell_type": "code",
   "execution_count": null,
   "metadata": {},
   "outputs": [],
   "source": [
    "mask = [isinstance(item, (str, bytes)) for item in dfE.Text]\n",
    "dfE = dfE.loc[mask]\n",
    "dfE.Text = dfE.Text.astype(str)"
   ]
  },
  {
   "cell_type": "code",
   "execution_count": null,
   "metadata": {
    "scrolled": true
   },
   "outputs": [],
   "source": [
    "dfE = dfE.Text\n",
    "print(dfE)"
   ]
  },
  {
   "cell_type": "code",
   "execution_count": null,
   "metadata": {
    "scrolled": true
   },
   "outputs": [],
   "source": [
    "top_N = 25\n",
    "word_dist = nltk.FreqDist(dfE)\n",
    "print('All frequencies')\n",
    "print('='*35)\n",
    "rslt=pd.DataFrame(word_dist.most_common(top_N),columns=['Word','Frequency'])\n",
    "print(rslt)"
   ]
  },
  {
   "cell_type": "code",
   "execution_count": null,
   "metadata": {
    "scrolled": true
   },
   "outputs": [],
   "source": [
    "t_N = 10\n",
    "r = pd.DataFrame(word_dist.most_common(t_N),\n",
    "                    columns=['Word', 'Frequency']).set_index('Word')\n",
    "matplotlib.style.use('ggplot')\n",
    "r.plot.bar(rot=0, width=0.5)"
   ]
  },
  {
   "cell_type": "code",
   "execution_count": null,
   "metadata": {
    "scrolled": true
   },
   "outputs": [],
   "source": [
    "dft = dfE.apply(nltk.word_tokenize)\n",
    "print(dft)"
   ]
  },
  {
   "cell_type": "code",
   "execution_count": null,
   "metadata": {},
   "outputs": [],
   "source": [
    "lists =  dft\n",
    "words = []\n",
    "for wordList in lists:\n",
    "    words += wordList\n",
    "from nltk import FreqDist\n",
    "fdist = FreqDist(words)"
   ]
  },
  {
   "cell_type": "code",
   "execution_count": null,
   "metadata": {
    "scrolled": false
   },
   "outputs": [],
   "source": []
  },
  {
   "cell_type": "markdown",
   "metadata": {},
   "source": [
    "### Unigram"
   ]
  },
  {
   "cell_type": "code",
   "execution_count": null,
   "metadata": {
    "scrolled": true
   },
   "outputs": [],
   "source": [
    "top_N = 25\n",
    "word_dist = nltk.FreqDist(fdist)\n",
    "print('All frequencies')\n",
    "print('='*35)\n",
    "rslt=pd.DataFrame(word_dist.most_common(top_N),columns=['Word','Frequency'])\n",
    "print(rslt)"
   ]
  },
  {
   "cell_type": "code",
   "execution_count": null,
   "metadata": {},
   "outputs": [],
   "source": [
    "t_N = 10\n",
    "r = pd.DataFrame(word_dist.most_common(t_N),\n",
    "                    columns=['Word', 'Frequency']).set_index('Word')\n",
    "matplotlib.style.use('ggplot')\n",
    "r.plot.bar(rot=0, width=0.5)"
   ]
  },
  {
   "cell_type": "markdown",
   "metadata": {},
   "source": [
    "### Bigram"
   ]
  },
  {
   "cell_type": "code",
   "execution_count": null,
   "metadata": {
    "scrolled": true
   },
   "outputs": [],
   "source": [
    "word_fd = nltk.FreqDist(words)\n",
    "bigram_fd = nltk.FreqDist(nltk.bigrams(words))\n",
    "bigram_fd.most_common(25)"
   ]
  },
  {
   "cell_type": "markdown",
   "metadata": {},
   "source": [
    "### Trigram"
   ]
  },
  {
   "cell_type": "code",
   "execution_count": null,
   "metadata": {
    "scrolled": true
   },
   "outputs": [],
   "source": [
    "word_fd = nltk.FreqDist(words)\n",
    "trigram_fd = nltk.FreqDist(nltk.trigrams(words))\n",
    "trigram_fd.most_common(25)"
   ]
  },
  {
   "cell_type": "markdown",
   "metadata": {},
   "source": [
    "# Check Column P"
   ]
  },
  {
   "cell_type": "code",
   "execution_count": null,
   "metadata": {},
   "outputs": [],
   "source": [
    "dfP = df[df.P > 0]\n",
    "dfP.columns = ['E', 'P', 'Qc', 'Qi', 'Qr', 'Ra', 'Rm', 'Rd', 'S', 'J', 'N', 'C', 'Speaker', 'Text', 'Utterances', 'Unnamed']"
   ]
  },
  {
   "cell_type": "code",
   "execution_count": null,
   "metadata": {
    "scrolled": true
   },
   "outputs": [],
   "source": [
    "print(dfP)"
   ]
  },
  {
   "cell_type": "code",
   "execution_count": null,
   "metadata": {},
   "outputs": [],
   "source": [
    "print(dfP.Text)"
   ]
  },
  {
   "cell_type": "code",
   "execution_count": null,
   "metadata": {},
   "outputs": [],
   "source": [
    "mask = [isinstance(item, (str, bytes)) for item in dfP.Text]\n",
    "dfP = dfP.loc[mask]\n",
    "dfP.Text = dfP.Text.astype(str)"
   ]
  },
  {
   "cell_type": "code",
   "execution_count": null,
   "metadata": {},
   "outputs": [],
   "source": [
    "dfPT = dfP.Text\n",
    "print (dfPT)"
   ]
  },
  {
   "cell_type": "code",
   "execution_count": null,
   "metadata": {
    "scrolled": true
   },
   "outputs": [],
   "source": [
    "top_N = 25\n",
    "word_dist = nltk.FreqDist(dfP.Text)\n",
    "print('All frequencies')\n",
    "print('='*35)\n",
    "rslt=pd.DataFrame(word_dist.most_common(top_N),columns=['Word','Frequency'])\n",
    "print(rslt)"
   ]
  },
  {
   "cell_type": "code",
   "execution_count": null,
   "metadata": {},
   "outputs": [],
   "source": [
    "t_N = 10\n",
    "r = pd.DataFrame(word_dist.most_common(t_N),\n",
    "                    columns=['Word', 'Frequency']).set_index('Word')\n",
    "matplotlib.style.use('ggplot')\n",
    "r.plot.bar(rot=0, width=0.5)"
   ]
  },
  {
   "cell_type": "code",
   "execution_count": null,
   "metadata": {},
   "outputs": [],
   "source": [
    "dft = dfP.Text.apply(nltk.word_tokenize)\n",
    "print(dft)"
   ]
  },
  {
   "cell_type": "code",
   "execution_count": null,
   "metadata": {},
   "outputs": [],
   "source": [
    "lists =  dft\n",
    "words = []\n",
    "for wordList in lists:\n",
    "    words += wordList"
   ]
  },
  {
   "cell_type": "code",
   "execution_count": null,
   "metadata": {},
   "outputs": [],
   "source": [
    "from nltk import FreqDist\n",
    "fdist = FreqDist(words)\n",
    "print(fdist)"
   ]
  },
  {
   "cell_type": "code",
   "execution_count": null,
   "metadata": {},
   "outputs": [],
   "source": [
    "print(words)"
   ]
  },
  {
   "cell_type": "markdown",
   "metadata": {},
   "source": [
    "### Unigram"
   ]
  },
  {
   "cell_type": "code",
   "execution_count": null,
   "metadata": {},
   "outputs": [],
   "source": [
    "top_N = 25\n",
    "word_dist = nltk.FreqDist(fdist)\n",
    "print('All frequencies')\n",
    "print('='*35)\n",
    "rslt=pd.DataFrame(word_dist.most_common(top_N),columns=['Word','Frequency'])\n",
    "print(rslt)"
   ]
  },
  {
   "cell_type": "code",
   "execution_count": null,
   "metadata": {
    "scrolled": false
   },
   "outputs": [],
   "source": [
    "t_N = 10\n",
    "r = pd.DataFrame(word_dist.most_common(t_N),\n",
    "                    columns=['Word', 'Frequency']).set_index('Word')\n",
    "matplotlib.style.use('ggplot')\n",
    "r.plot.bar(rot=0, width=0.5)"
   ]
  },
  {
   "cell_type": "markdown",
   "metadata": {},
   "source": [
    "### Bigram"
   ]
  },
  {
   "cell_type": "code",
   "execution_count": null,
   "metadata": {},
   "outputs": [],
   "source": [
    "word_fd = nltk.FreqDist(words)\n",
    "bigram_fd = nltk.FreqDist(nltk.bigrams(words))\n",
    "bigram_fd.most_common(25)"
   ]
  },
  {
   "cell_type": "markdown",
   "metadata": {},
   "source": [
    "### Trigram"
   ]
  },
  {
   "cell_type": "code",
   "execution_count": null,
   "metadata": {},
   "outputs": [],
   "source": [
    "word_fd = nltk.FreqDist(words)\n",
    "trigram_fd = nltk.FreqDist(nltk.trigrams(words))\n",
    "trigram_fd.most_common(25)"
   ]
  },
  {
   "cell_type": "markdown",
   "metadata": {},
   "source": [
    "# Check Column Qc"
   ]
  },
  {
   "cell_type": "code",
   "execution_count": null,
   "metadata": {},
   "outputs": [],
   "source": [
    "dfQc = df[df.Qc > 0]\n",
    "dfQc.columns = ['E', 'P', 'Qc', 'Qi', 'Qr', 'Ra', 'Rm', 'Rd', 'S', 'J', 'N', 'C', 'Speaker', 'Text', 'Utterances', 'Unnamed']"
   ]
  },
  {
   "cell_type": "code",
   "execution_count": null,
   "metadata": {
    "scrolled": true
   },
   "outputs": [],
   "source": [
    "print(dfQc)"
   ]
  },
  {
   "cell_type": "code",
   "execution_count": null,
   "metadata": {
    "scrolled": true
   },
   "outputs": [],
   "source": [
    "print(dfQc.Text)"
   ]
  },
  {
   "cell_type": "code",
   "execution_count": null,
   "metadata": {},
   "outputs": [],
   "source": [
    "mask = [isinstance(item, (str, bytes)) for item in dfQc.Text]\n",
    "dfQc = dfQc.loc[mask]\n",
    "dfQc.Text = dfQc.Text.astype(str)"
   ]
  },
  {
   "cell_type": "code",
   "execution_count": null,
   "metadata": {
    "scrolled": true
   },
   "outputs": [],
   "source": [
    "dfQc = dfQc.Text\n",
    "print(dfQc)"
   ]
  },
  {
   "cell_type": "code",
   "execution_count": null,
   "metadata": {
    "scrolled": true
   },
   "outputs": [],
   "source": [
    "top_N = 25\n",
    "word_dist = nltk.FreqDist(dfQc)\n",
    "print('All frequencies')\n",
    "print('='*35)\n",
    "rslt=pd.DataFrame(word_dist.most_common(top_N),columns=['Word','Frequency'])\n",
    "print(rslt)"
   ]
  },
  {
   "cell_type": "code",
   "execution_count": null,
   "metadata": {
    "scrolled": true
   },
   "outputs": [],
   "source": [
    "t_N = 10\n",
    "r = pd.DataFrame(word_dist.most_common(t_N),\n",
    "                    columns=['Word', 'Frequency']).set_index('Word')\n",
    "matplotlib.style.use('ggplot')\n",
    "r.plot.bar(rot=0, width=0.5)"
   ]
  },
  {
   "cell_type": "code",
   "execution_count": null,
   "metadata": {
    "scrolled": true
   },
   "outputs": [],
   "source": [
    "dft = dfQc.apply(nltk.word_tokenize)\n",
    "print(dft)"
   ]
  },
  {
   "cell_type": "code",
   "execution_count": null,
   "metadata": {},
   "outputs": [],
   "source": [
    "lists =  dft\n",
    "words = []\n",
    "for wordList in lists:\n",
    "    words += wordList"
   ]
  },
  {
   "cell_type": "code",
   "execution_count": null,
   "metadata": {
    "scrolled": false
   },
   "outputs": [],
   "source": [
    "from nltk import FreqDist\n",
    "fdist = FreqDist(words)\n",
    "print(fdist)\n",
    "print(words)"
   ]
  },
  {
   "cell_type": "markdown",
   "metadata": {},
   "source": [
    "### Unigram"
   ]
  },
  {
   "cell_type": "code",
   "execution_count": null,
   "metadata": {},
   "outputs": [],
   "source": [
    "top_N = 25\n",
    "word_dist = nltk.FreqDist(fdist)\n",
    "print('All frequencies')\n",
    "print('='*35)\n",
    "rslt=pd.DataFrame(word_dist.most_common(top_N),columns=['Word','Frequency'])\n",
    "print(rslt)"
   ]
  },
  {
   "cell_type": "code",
   "execution_count": null,
   "metadata": {},
   "outputs": [],
   "source": [
    "t_N = 10\n",
    "r = pd.DataFrame(word_dist.most_common(t_N),\n",
    "                    columns=['Word', 'Frequency']).set_index('Word')\n",
    "matplotlib.style.use('ggplot')\n",
    "r.plot.bar(rot=0, width=0.5)"
   ]
  },
  {
   "cell_type": "markdown",
   "metadata": {},
   "source": [
    "### Bigram"
   ]
  },
  {
   "cell_type": "code",
   "execution_count": null,
   "metadata": {},
   "outputs": [],
   "source": [
    "word_fd = nltk.FreqDist(words)\n",
    "bigram_fd = nltk.FreqDist(nltk.bigrams(words))\n",
    "bigram_fd.most_common(25)"
   ]
  },
  {
   "cell_type": "markdown",
   "metadata": {},
   "source": [
    "### Trigram"
   ]
  },
  {
   "cell_type": "code",
   "execution_count": null,
   "metadata": {
    "scrolled": true
   },
   "outputs": [],
   "source": [
    "word_fd = nltk.FreqDist(words)\n",
    "trigram_fd = nltk.FreqDist(nltk.trigrams(words))\n",
    "trigram_fd.most_common()"
   ]
  },
  {
   "cell_type": "code",
   "execution_count": null,
   "metadata": {},
   "outputs": [],
   "source": []
  },
  {
   "cell_type": "markdown",
   "metadata": {},
   "source": [
    "# Check Column Qi"
   ]
  },
  {
   "cell_type": "code",
   "execution_count": null,
   "metadata": {},
   "outputs": [],
   "source": [
    "dfQi = df[df.Qi > 0]\n",
    "dfQi.columns = ['E', 'P', 'Qc', 'Qi', 'Qr', 'Ra', 'Rm', 'Rd', 'S', 'J', 'N', 'C', 'Speaker', 'Text', 'Utterances', 'Unnamed']"
   ]
  },
  {
   "cell_type": "code",
   "execution_count": null,
   "metadata": {
    "scrolled": true
   },
   "outputs": [],
   "source": [
    "print(dfQi)"
   ]
  },
  {
   "cell_type": "code",
   "execution_count": null,
   "metadata": {
    "scrolled": true
   },
   "outputs": [],
   "source": [
    "print(dfQi.Text)"
   ]
  },
  {
   "cell_type": "code",
   "execution_count": null,
   "metadata": {},
   "outputs": [],
   "source": [
    "mask = [isinstance(item, (str, bytes)) for item in dfQi.Text]\n",
    "dfQi = dfQi.loc[mask]\n",
    "dfQi.Text = dfQi.Text.astype(str)"
   ]
  },
  {
   "cell_type": "code",
   "execution_count": null,
   "metadata": {
    "scrolled": true
   },
   "outputs": [],
   "source": [
    "dfQi = dfQi.Text\n",
    "print(dfQi)"
   ]
  },
  {
   "cell_type": "code",
   "execution_count": null,
   "metadata": {
    "scrolled": true
   },
   "outputs": [],
   "source": [
    "top_N = 25\n",
    "word_dist = nltk.FreqDist(dfQi)\n",
    "print('All frequencies')\n",
    "print('='*35)\n",
    "rslt=pd.DataFrame(word_dist.most_common(top_N),columns=['Word','Frequency'])\n",
    "print(rslt)"
   ]
  },
  {
   "cell_type": "code",
   "execution_count": null,
   "metadata": {
    "scrolled": true
   },
   "outputs": [],
   "source": [
    "t_N = 10\n",
    "r = pd.DataFrame(word_dist.most_common(t_N),\n",
    "                    columns=['Word', 'Frequency']).set_index('Word')\n",
    "matplotlib.style.use('ggplot')\n",
    "r.plot.bar(rot=0, width=0.5)"
   ]
  },
  {
   "cell_type": "code",
   "execution_count": null,
   "metadata": {
    "scrolled": true
   },
   "outputs": [],
   "source": [
    "dft = dfQi.apply(nltk.word_tokenize)\n",
    "print(dft)"
   ]
  },
  {
   "cell_type": "code",
   "execution_count": null,
   "metadata": {},
   "outputs": [],
   "source": [
    "lists =  dft\n",
    "words = []\n",
    "for wordList in lists:\n",
    "    words += wordList"
   ]
  },
  {
   "cell_type": "code",
   "execution_count": null,
   "metadata": {
    "scrolled": false
   },
   "outputs": [],
   "source": [
    "from nltk import FreqDist\n",
    "fdist = FreqDist(words)\n",
    "print(fdist)\n",
    "print(words)"
   ]
  },
  {
   "cell_type": "markdown",
   "metadata": {},
   "source": [
    "### Unigram"
   ]
  },
  {
   "cell_type": "code",
   "execution_count": null,
   "metadata": {},
   "outputs": [],
   "source": [
    "top_N = 25\n",
    "word_dist = nltk.FreqDist(fdist)\n",
    "print('All frequencies')\n",
    "print('='*35)\n",
    "rslt=pd.DataFrame(word_dist.most_common(top_N),columns=['Word','Frequency'])\n",
    "print(rslt)"
   ]
  },
  {
   "cell_type": "code",
   "execution_count": null,
   "metadata": {},
   "outputs": [],
   "source": [
    "t_N = 10\n",
    "r = pd.DataFrame(word_dist.most_common(t_N),\n",
    "                    columns=['Word', 'Frequency']).set_index('Word')\n",
    "matplotlib.style.use('ggplot')\n",
    "r.plot.bar(rot=0, width=0.5)"
   ]
  },
  {
   "cell_type": "markdown",
   "metadata": {},
   "source": [
    "### Bigram"
   ]
  },
  {
   "cell_type": "code",
   "execution_count": null,
   "metadata": {},
   "outputs": [],
   "source": [
    "word_fd = nltk.FreqDist(words)\n",
    "bigram_fd = nltk.FreqDist(nltk.bigrams(words))\n",
    "bigram_fd.most_common(25)"
   ]
  },
  {
   "cell_type": "markdown",
   "metadata": {},
   "source": [
    "### Trigram"
   ]
  },
  {
   "cell_type": "code",
   "execution_count": null,
   "metadata": {
    "scrolled": false
   },
   "outputs": [],
   "source": [
    "word_fd = nltk.FreqDist(words)\n",
    "trigram_fd = nltk.FreqDist(nltk.trigrams(words))\n",
    "trigram_fd.most_common(25)"
   ]
  },
  {
   "cell_type": "code",
   "execution_count": null,
   "metadata": {},
   "outputs": [],
   "source": []
  },
  {
   "cell_type": "code",
   "execution_count": null,
   "metadata": {},
   "outputs": [],
   "source": []
  },
  {
   "cell_type": "markdown",
   "metadata": {},
   "source": [
    "# Check Column Qr"
   ]
  },
  {
   "cell_type": "code",
   "execution_count": null,
   "metadata": {},
   "outputs": [],
   "source": [
    "dfQr = df[df.Qr > 0]\n",
    "dfQr.columns = ['E', 'P', 'Qc', 'Qi', 'Qr', 'Ra', 'Rm', 'Rd', 'S', 'J', 'N', 'C', 'Speaker', 'Text', 'Utterances', 'Unnamed']"
   ]
  },
  {
   "cell_type": "code",
   "execution_count": null,
   "metadata": {
    "scrolled": true
   },
   "outputs": [],
   "source": [
    "print(dfQr)"
   ]
  },
  {
   "cell_type": "code",
   "execution_count": null,
   "metadata": {
    "scrolled": true
   },
   "outputs": [],
   "source": [
    "print(dfQr.Text)"
   ]
  },
  {
   "cell_type": "code",
   "execution_count": null,
   "metadata": {},
   "outputs": [],
   "source": [
    "mask = [isinstance(item, (str, bytes)) for item in dfQr.Text]\n",
    "dfQr = dfQr.loc[mask]\n",
    "dfQr.Text = dfQr.Text.astype(str)"
   ]
  },
  {
   "cell_type": "code",
   "execution_count": null,
   "metadata": {
    "scrolled": true
   },
   "outputs": [],
   "source": [
    "dfQr = dfQr.Text\n",
    "print(dfQr)"
   ]
  },
  {
   "cell_type": "code",
   "execution_count": null,
   "metadata": {
    "scrolled": true
   },
   "outputs": [],
   "source": [
    "top_N = 25\n",
    "word_dist = nltk.FreqDist(dfQr)\n",
    "print('All frequencies')\n",
    "print('='*35)\n",
    "rslt=pd.DataFrame(word_dist.most_common(top_N),columns=['Word','Frequency'])\n",
    "print(rslt)"
   ]
  },
  {
   "cell_type": "code",
   "execution_count": null,
   "metadata": {
    "scrolled": true
   },
   "outputs": [],
   "source": [
    "t_N = 10\n",
    "r = pd.DataFrame(word_dist.most_common(t_N),\n",
    "                    columns=['Word', 'Frequency']).set_index('Word')\n",
    "matplotlib.style.use('ggplot')\n",
    "r.plot.bar(rot=0, width=0.5)"
   ]
  },
  {
   "cell_type": "code",
   "execution_count": null,
   "metadata": {
    "scrolled": true
   },
   "outputs": [],
   "source": [
    "dft = dfQr.apply(nltk.word_tokenize)\n",
    "print(dft)"
   ]
  },
  {
   "cell_type": "code",
   "execution_count": null,
   "metadata": {},
   "outputs": [],
   "source": [
    "lists =  dft\n",
    "words = []\n",
    "for wordList in lists:\n",
    "    words += wordList"
   ]
  },
  {
   "cell_type": "code",
   "execution_count": null,
   "metadata": {
    "scrolled": false
   },
   "outputs": [],
   "source": [
    "from nltk import FreqDist\n",
    "fdist = FreqDist(words)\n",
    "print(fdist)\n",
    "print(words)"
   ]
  },
  {
   "cell_type": "markdown",
   "metadata": {},
   "source": [
    "### Unigram"
   ]
  },
  {
   "cell_type": "code",
   "execution_count": null,
   "metadata": {},
   "outputs": [],
   "source": [
    "top_N = 25\n",
    "word_dist = nltk.FreqDist(fdist)\n",
    "print('All frequencies')\n",
    "print('='*35)\n",
    "rslt=pd.DataFrame(word_dist.most_common(top_N),columns=['Word','Frequency'])\n",
    "print(rslt)"
   ]
  },
  {
   "cell_type": "code",
   "execution_count": null,
   "metadata": {},
   "outputs": [],
   "source": [
    "t_N = 10\n",
    "r = pd.DataFrame(word_dist.most_common(t_N),\n",
    "                    columns=['Word', 'Frequency']).set_index('Word')\n",
    "matplotlib.style.use('ggplot')\n",
    "r.plot.bar(rot=0, width=0.5)"
   ]
  },
  {
   "cell_type": "markdown",
   "metadata": {},
   "source": [
    "### Bigram"
   ]
  },
  {
   "cell_type": "code",
   "execution_count": null,
   "metadata": {},
   "outputs": [],
   "source": [
    "word_fd = nltk.FreqDist(words)\n",
    "bigram_fd = nltk.FreqDist(nltk.bigrams(words))\n",
    "bigram_fd.most_common(25)"
   ]
  },
  {
   "cell_type": "markdown",
   "metadata": {},
   "source": [
    "### Trigram"
   ]
  },
  {
   "cell_type": "code",
   "execution_count": null,
   "metadata": {
    "scrolled": false
   },
   "outputs": [],
   "source": [
    "word_fd = nltk.FreqDist(words)\n",
    "trigram_fd = nltk.FreqDist(nltk.trigrams(words))\n",
    "trigram_fd.most_common(25)"
   ]
  },
  {
   "cell_type": "code",
   "execution_count": null,
   "metadata": {},
   "outputs": [],
   "source": []
  },
  {
   "cell_type": "markdown",
   "metadata": {},
   "source": [
    "# Check Column Ra"
   ]
  },
  {
   "cell_type": "code",
   "execution_count": null,
   "metadata": {},
   "outputs": [],
   "source": [
    "dfRa = df[df.Ra > 0]\n",
    "dfRa.columns = ['E', 'P', 'Qc', 'Qi', 'Qr', 'Ra', 'Rm', 'Rd', 'S', 'J', 'N', 'C', 'Speaker', 'Text', 'Utterances', 'Unnamed']"
   ]
  },
  {
   "cell_type": "code",
   "execution_count": null,
   "metadata": {
    "scrolled": true
   },
   "outputs": [],
   "source": [
    "print(dfRa)"
   ]
  },
  {
   "cell_type": "code",
   "execution_count": null,
   "metadata": {
    "scrolled": true
   },
   "outputs": [],
   "source": [
    "print(dfRa.Text)"
   ]
  },
  {
   "cell_type": "code",
   "execution_count": null,
   "metadata": {},
   "outputs": [],
   "source": [
    "mask = [isinstance(item, (str, bytes)) for item in dfRa.Text]\n",
    "dfRa = dfRa.loc[mask]\n",
    "dfRa.Text = dfRa.Text.astype(str)"
   ]
  },
  {
   "cell_type": "code",
   "execution_count": null,
   "metadata": {
    "scrolled": true
   },
   "outputs": [],
   "source": [
    "dfRa = dfRa.Text\n",
    "print(dfRa)"
   ]
  },
  {
   "cell_type": "code",
   "execution_count": null,
   "metadata": {
    "scrolled": true
   },
   "outputs": [],
   "source": [
    "top_N = 25\n",
    "word_dist = nltk.FreqDist(dfRa)\n",
    "print('All frequencies')\n",
    "print('='*35)\n",
    "rslt=pd.DataFrame(word_dist.most_common(top_N),columns=['Word','Frequency'])\n",
    "print(rslt)"
   ]
  },
  {
   "cell_type": "code",
   "execution_count": null,
   "metadata": {
    "scrolled": true
   },
   "outputs": [],
   "source": [
    "t_N = 10\n",
    "r = pd.DataFrame(word_dist.most_common(t_N),\n",
    "                    columns=['Word', 'Frequency']).set_index('Word')\n",
    "matplotlib.style.use('ggplot')\n",
    "r.plot.bar(rot=0, width=0.5)"
   ]
  },
  {
   "cell_type": "code",
   "execution_count": null,
   "metadata": {
    "scrolled": true
   },
   "outputs": [],
   "source": [
    "dft = dfRa.apply(nltk.word_tokenize)\n",
    "print(dft)"
   ]
  },
  {
   "cell_type": "code",
   "execution_count": null,
   "metadata": {},
   "outputs": [],
   "source": [
    "lists =  dft\n",
    "words = []\n",
    "for wordList in lists:\n",
    "    words += wordList"
   ]
  },
  {
   "cell_type": "code",
   "execution_count": null,
   "metadata": {
    "scrolled": false
   },
   "outputs": [],
   "source": [
    "from nltk import FreqDist\n",
    "fdist = FreqDist(words)\n",
    "print(fdist)\n",
    "print(words)"
   ]
  },
  {
   "cell_type": "markdown",
   "metadata": {},
   "source": [
    "### Unigram"
   ]
  },
  {
   "cell_type": "code",
   "execution_count": null,
   "metadata": {},
   "outputs": [],
   "source": [
    "top_N = 25\n",
    "word_dist = nltk.FreqDist(fdist)\n",
    "print('All frequencies')\n",
    "print('='*35)\n",
    "rslt=pd.DataFrame(word_dist.most_common(top_N),columns=['Word','Frequency'])\n",
    "print(rslt)"
   ]
  },
  {
   "cell_type": "code",
   "execution_count": null,
   "metadata": {},
   "outputs": [],
   "source": [
    "t_N = 10\n",
    "r = pd.DataFrame(word_dist.most_common(t_N),\n",
    "                    columns=['Word', 'Frequency']).set_index('Word')\n",
    "matplotlib.style.use('ggplot')\n",
    "r.plot.bar(rot=0, width=0.5)"
   ]
  },
  {
   "cell_type": "markdown",
   "metadata": {},
   "source": [
    "### Bigram"
   ]
  },
  {
   "cell_type": "code",
   "execution_count": null,
   "metadata": {},
   "outputs": [],
   "source": [
    "word_fd = nltk.FreqDist(words)\n",
    "bigram_fd = nltk.FreqDist(nltk.bigrams(words))\n",
    "bigram_fd.most_common(25)"
   ]
  },
  {
   "cell_type": "markdown",
   "metadata": {},
   "source": [
    "### Trigram"
   ]
  },
  {
   "cell_type": "code",
   "execution_count": null,
   "metadata": {
    "scrolled": false
   },
   "outputs": [],
   "source": [
    "word_fd = nltk.FreqDist(words)\n",
    "trigram_fd = nltk.FreqDist(nltk.trigrams(words))\n",
    "trigram_fd.most_common(25)"
   ]
  },
  {
   "cell_type": "code",
   "execution_count": null,
   "metadata": {},
   "outputs": [],
   "source": []
  },
  {
   "cell_type": "markdown",
   "metadata": {},
   "source": [
    "# Check Column Rm"
   ]
  },
  {
   "cell_type": "code",
   "execution_count": null,
   "metadata": {},
   "outputs": [],
   "source": [
    "dfRm = df[df.Rm > 0]\n",
    "dfRm.columns = ['E', 'P', 'Qc', 'Qi', 'Qr', 'Ra', 'Rm', 'Rd', 'S', 'J', 'N', 'C', 'Speaker', 'Text', 'Utterances', 'Unnamed']"
   ]
  },
  {
   "cell_type": "code",
   "execution_count": null,
   "metadata": {
    "scrolled": true
   },
   "outputs": [],
   "source": [
    "print(dfRm)"
   ]
  },
  {
   "cell_type": "code",
   "execution_count": null,
   "metadata": {
    "scrolled": true
   },
   "outputs": [],
   "source": [
    "print(dfRm.Text)"
   ]
  },
  {
   "cell_type": "code",
   "execution_count": null,
   "metadata": {},
   "outputs": [],
   "source": [
    "mask = [isinstance(item, (str, bytes)) for item in dfRm.Text]\n",
    "dfRm = dfRm.loc[mask]\n",
    "dfRm.Text = dfRm.Text.astype(str)"
   ]
  },
  {
   "cell_type": "code",
   "execution_count": null,
   "metadata": {
    "scrolled": true
   },
   "outputs": [],
   "source": [
    "dfRm = dfRm.Text\n",
    "print(dfRm)"
   ]
  },
  {
   "cell_type": "code",
   "execution_count": null,
   "metadata": {
    "scrolled": true
   },
   "outputs": [],
   "source": [
    "top_N = 25\n",
    "word_dist = nltk.FreqDist(dfRm)\n",
    "print('All frequencies')\n",
    "print('='*35)\n",
    "rslt=pd.DataFrame(word_dist.most_common(top_N),columns=['Word','Frequency'])\n",
    "print(rslt)"
   ]
  },
  {
   "cell_type": "code",
   "execution_count": null,
   "metadata": {
    "scrolled": true
   },
   "outputs": [],
   "source": [
    "t_N = 10\n",
    "r = pd.DataFrame(word_dist.most_common(t_N),\n",
    "                    columns=['Word', 'Frequency']).set_index('Word')\n",
    "matplotlib.style.use('ggplot')\n",
    "r.plot.bar(rot=0, width=0.5)"
   ]
  },
  {
   "cell_type": "code",
   "execution_count": null,
   "metadata": {
    "scrolled": true
   },
   "outputs": [],
   "source": [
    "dft = dfRm.apply(nltk.word_tokenize)\n",
    "print(dft)"
   ]
  },
  {
   "cell_type": "code",
   "execution_count": null,
   "metadata": {},
   "outputs": [],
   "source": [
    "lists =  dft\n",
    "words = []\n",
    "for wordList in lists:\n",
    "    words += wordList"
   ]
  },
  {
   "cell_type": "code",
   "execution_count": null,
   "metadata": {
    "scrolled": false
   },
   "outputs": [],
   "source": [
    "from nltk import FreqDist\n",
    "fdist = FreqDist(words)\n",
    "print(fdist)\n",
    "print(words)"
   ]
  },
  {
   "cell_type": "markdown",
   "metadata": {},
   "source": [
    "### Unigram"
   ]
  },
  {
   "cell_type": "code",
   "execution_count": null,
   "metadata": {},
   "outputs": [],
   "source": [
    "top_N = 25\n",
    "word_dist = nltk.FreqDist(fdist)\n",
    "print('All frequencies')\n",
    "print('='*35)\n",
    "rslt=pd.DataFrame(word_dist.most_common(top_N),columns=['Word','Frequency'])\n",
    "print(rslt)"
   ]
  },
  {
   "cell_type": "code",
   "execution_count": null,
   "metadata": {},
   "outputs": [],
   "source": [
    "t_N = 10\n",
    "r = pd.DataFrame(word_dist.most_common(t_N),\n",
    "                    columns=['Word', 'Frequency']).set_index('Word')\n",
    "matplotlib.style.use('ggplot')\n",
    "r.plot.bar(rot=0, width=0.5)"
   ]
  },
  {
   "cell_type": "markdown",
   "metadata": {},
   "source": [
    "### Bigram"
   ]
  },
  {
   "cell_type": "code",
   "execution_count": null,
   "metadata": {},
   "outputs": [],
   "source": [
    "word_fd = nltk.FreqDist(words)\n",
    "bigram_fd = nltk.FreqDist(nltk.bigrams(words))\n",
    "bigram_fd.most_common(25)"
   ]
  },
  {
   "cell_type": "markdown",
   "metadata": {},
   "source": [
    "### Trigram"
   ]
  },
  {
   "cell_type": "code",
   "execution_count": null,
   "metadata": {
    "scrolled": false
   },
   "outputs": [],
   "source": [
    "word_fd = nltk.FreqDist(words)\n",
    "trigram_fd = nltk.FreqDist(nltk.trigrams(words))\n",
    "trigram_fd.most_common(25)"
   ]
  },
  {
   "cell_type": "code",
   "execution_count": null,
   "metadata": {},
   "outputs": [],
   "source": []
  },
  {
   "cell_type": "markdown",
   "metadata": {},
   "source": [
    "# Check Column Rd"
   ]
  },
  {
   "cell_type": "code",
   "execution_count": null,
   "metadata": {},
   "outputs": [],
   "source": [
    "dfRd = df[df.Rd > 0]\n",
    "dfRd.columns = ['E', 'P', 'Qc', 'Qi', 'Qr', 'Ra', 'Rm', 'Rd', 'S', 'J', 'N', 'C', 'Speaker', 'Text', 'Utterances', 'Unnamed']"
   ]
  },
  {
   "cell_type": "code",
   "execution_count": null,
   "metadata": {
    "scrolled": true
   },
   "outputs": [],
   "source": [
    "print(dfRd)"
   ]
  },
  {
   "cell_type": "code",
   "execution_count": null,
   "metadata": {
    "scrolled": true
   },
   "outputs": [],
   "source": [
    "print(dfRd.Text)"
   ]
  },
  {
   "cell_type": "code",
   "execution_count": null,
   "metadata": {},
   "outputs": [],
   "source": [
    "mask = [isinstance(item, (str, bytes)) for item in dfRd.Text]\n",
    "dfRd = dfRd.loc[mask]\n",
    "dfRd.Text = dfRd.Text.astype(str)"
   ]
  },
  {
   "cell_type": "code",
   "execution_count": null,
   "metadata": {
    "scrolled": true
   },
   "outputs": [],
   "source": [
    "dfRd = dfRd.Text\n",
    "print(dfRd)"
   ]
  },
  {
   "cell_type": "code",
   "execution_count": null,
   "metadata": {
    "scrolled": true
   },
   "outputs": [],
   "source": [
    "top_N = 25\n",
    "word_dist = nltk.FreqDist(dfRd)\n",
    "print('All frequencies')\n",
    "print('='*35)\n",
    "rslt=pd.DataFrame(word_dist.most_common(top_N),columns=['Word','Frequency'])\n",
    "print(rslt)"
   ]
  },
  {
   "cell_type": "code",
   "execution_count": null,
   "metadata": {
    "scrolled": true
   },
   "outputs": [],
   "source": [
    "t_N = 10\n",
    "r = pd.DataFrame(word_dist.most_common(t_N),\n",
    "                    columns=['Word', 'Frequency']).set_index('Word')\n",
    "matplotlib.style.use('ggplot')\n",
    "r.plot.bar(rot=0, width=0.5)"
   ]
  },
  {
   "cell_type": "code",
   "execution_count": null,
   "metadata": {
    "scrolled": true
   },
   "outputs": [],
   "source": [
    "dft = dfRd.apply(nltk.word_tokenize)\n",
    "print(dft)"
   ]
  },
  {
   "cell_type": "code",
   "execution_count": null,
   "metadata": {},
   "outputs": [],
   "source": [
    "lists =  dft\n",
    "words = []\n",
    "for wordList in lists:\n",
    "    words += wordList"
   ]
  },
  {
   "cell_type": "code",
   "execution_count": null,
   "metadata": {
    "scrolled": false
   },
   "outputs": [],
   "source": [
    "from nltk import FreqDist\n",
    "fdist = FreqDist(words)\n",
    "print(fdist)\n",
    "print(words)"
   ]
  },
  {
   "cell_type": "markdown",
   "metadata": {},
   "source": [
    "### Unigram"
   ]
  },
  {
   "cell_type": "code",
   "execution_count": null,
   "metadata": {},
   "outputs": [],
   "source": [
    "top_N = 25\n",
    "word_dist = nltk.FreqDist(fdist)\n",
    "print('All frequencies')\n",
    "print('='*35)\n",
    "rslt=pd.DataFrame(word_dist.most_common(top_N),columns=['Word','Frequency'])\n",
    "print(rslt)"
   ]
  },
  {
   "cell_type": "code",
   "execution_count": null,
   "metadata": {},
   "outputs": [],
   "source": [
    "t_N = 10\n",
    "r = pd.DataFrame(word_dist.most_common(t_N),\n",
    "                    columns=['Word', 'Frequency']).set_index('Word')\n",
    "matplotlib.style.use('ggplot')\n",
    "r.plot.bar(rot=0, width=0.5)"
   ]
  },
  {
   "cell_type": "markdown",
   "metadata": {},
   "source": [
    "### Bigram"
   ]
  },
  {
   "cell_type": "code",
   "execution_count": null,
   "metadata": {},
   "outputs": [],
   "source": [
    "word_fd = nltk.FreqDist(words)\n",
    "bigram_fd = nltk.FreqDist(nltk.bigrams(words))\n",
    "bigram_fd.most_common(25)"
   ]
  },
  {
   "cell_type": "markdown",
   "metadata": {},
   "source": [
    "### Trigram"
   ]
  },
  {
   "cell_type": "code",
   "execution_count": null,
   "metadata": {
    "scrolled": false
   },
   "outputs": [],
   "source": [
    "word_fd = nltk.FreqDist(words)\n",
    "trigram_fd = nltk.FreqDist(nltk.trigrams(words))\n",
    "trigram_fd.most_common(25)"
   ]
  },
  {
   "cell_type": "code",
   "execution_count": null,
   "metadata": {},
   "outputs": [],
   "source": []
  },
  {
   "cell_type": "markdown",
   "metadata": {},
   "source": [
    "# Check Column S"
   ]
  },
  {
   "cell_type": "code",
   "execution_count": null,
   "metadata": {},
   "outputs": [],
   "source": [
    "dfS = df[df.S > 0]\n",
    "dfS.columns = ['E', 'P', 'Qc', 'Qi', 'Qr', 'Ra', 'Rm', 'Rd', 'S', 'J', 'N', 'C', 'Speaker', 'Text', 'Utterances', 'Unnamed']"
   ]
  },
  {
   "cell_type": "code",
   "execution_count": null,
   "metadata": {
    "scrolled": true
   },
   "outputs": [],
   "source": [
    "print(dfS)"
   ]
  },
  {
   "cell_type": "code",
   "execution_count": null,
   "metadata": {
    "scrolled": true
   },
   "outputs": [],
   "source": [
    "print(dfS.Text)"
   ]
  },
  {
   "cell_type": "code",
   "execution_count": null,
   "metadata": {},
   "outputs": [],
   "source": [
    "mask = [isinstance(item, (str, bytes)) for item in dfS.Text]\n",
    "dfS = dfS.loc[mask]\n",
    "dfS.Text = dfS.Text.astype(str)"
   ]
  },
  {
   "cell_type": "code",
   "execution_count": null,
   "metadata": {
    "scrolled": true
   },
   "outputs": [],
   "source": [
    "dfS = dfS.Text\n",
    "print(dfS)"
   ]
  },
  {
   "cell_type": "code",
   "execution_count": null,
   "metadata": {
    "scrolled": true
   },
   "outputs": [],
   "source": [
    "top_N = 25\n",
    "word_dist = nltk.FreqDist(dfS)\n",
    "print('All frequencies')\n",
    "print('='*35)\n",
    "rslt=pd.DataFrame(word_dist.most_common(top_N),columns=['Word','Frequency'])\n",
    "print(rslt)"
   ]
  },
  {
   "cell_type": "code",
   "execution_count": null,
   "metadata": {
    "scrolled": true
   },
   "outputs": [],
   "source": [
    "t_N = 10\n",
    "r = pd.DataFrame(word_dist.most_common(t_N),\n",
    "                    columns=['Word', 'Frequency']).set_index('Word')\n",
    "matplotlib.style.use('ggplot')\n",
    "r.plot.bar(rot=0, width=0.5)"
   ]
  },
  {
   "cell_type": "code",
   "execution_count": null,
   "metadata": {
    "scrolled": true
   },
   "outputs": [],
   "source": [
    "dft = dfS.apply(nltk.word_tokenize)\n",
    "print(dft)"
   ]
  },
  {
   "cell_type": "code",
   "execution_count": null,
   "metadata": {},
   "outputs": [],
   "source": [
    "lists =  dft\n",
    "words = []\n",
    "for wordList in lists:\n",
    "    words += wordList"
   ]
  },
  {
   "cell_type": "code",
   "execution_count": null,
   "metadata": {
    "scrolled": false
   },
   "outputs": [],
   "source": [
    "from nltk import FreqDist\n",
    "fdist = FreqDist(words)\n",
    "print(fdist)\n",
    "print(words)"
   ]
  },
  {
   "cell_type": "markdown",
   "metadata": {},
   "source": [
    "### Unigram"
   ]
  },
  {
   "cell_type": "code",
   "execution_count": null,
   "metadata": {},
   "outputs": [],
   "source": [
    "top_N = 25\n",
    "word_dist = nltk.FreqDist(fdist)\n",
    "print('All frequencies')\n",
    "print('='*35)\n",
    "rslt=pd.DataFrame(word_dist.most_common(top_N),columns=['Word','Frequency'])\n",
    "print(rslt)"
   ]
  },
  {
   "cell_type": "code",
   "execution_count": null,
   "metadata": {},
   "outputs": [],
   "source": [
    "t_N = 10\n",
    "r = pd.DataFrame(word_dist.most_common(t_N),\n",
    "                    columns=['Word', 'Frequency']).set_index('Word')\n",
    "matplotlib.style.use('ggplot')\n",
    "r.plot.bar(rot=0, width=0.5)"
   ]
  },
  {
   "cell_type": "markdown",
   "metadata": {},
   "source": [
    "### Bigram"
   ]
  },
  {
   "cell_type": "code",
   "execution_count": null,
   "metadata": {},
   "outputs": [],
   "source": [
    "word_fd = nltk.FreqDist(words)\n",
    "bigram_fd = nltk.FreqDist(nltk.bigrams(words))\n",
    "bigram_fd.most_common(25)"
   ]
  },
  {
   "cell_type": "markdown",
   "metadata": {},
   "source": [
    "### Trigram"
   ]
  },
  {
   "cell_type": "code",
   "execution_count": null,
   "metadata": {
    "scrolled": false
   },
   "outputs": [],
   "source": [
    "word_fd = nltk.FreqDist(words)\n",
    "trigram_fd = nltk.FreqDist(nltk.trigrams(words))\n",
    "trigram_fd.most_common(25)"
   ]
  },
  {
   "cell_type": "code",
   "execution_count": null,
   "metadata": {},
   "outputs": [],
   "source": []
  },
  {
   "cell_type": "markdown",
   "metadata": {},
   "source": [
    "# Check Column J"
   ]
  },
  {
   "cell_type": "code",
   "execution_count": null,
   "metadata": {},
   "outputs": [],
   "source": [
    "dfJ = df[df.J > 0]\n",
    "dfJ.columns = ['E', 'P', 'Qc', 'Qi', 'Qr', 'Ra', 'Rm', 'Rd', 'S', 'J', 'N', 'C', 'Speaker', 'Text', 'Utterances', 'Unnamed']"
   ]
  },
  {
   "cell_type": "code",
   "execution_count": null,
   "metadata": {
    "scrolled": true
   },
   "outputs": [],
   "source": [
    "print(dfJ)"
   ]
  },
  {
   "cell_type": "code",
   "execution_count": null,
   "metadata": {
    "scrolled": true
   },
   "outputs": [],
   "source": [
    "print(dfJ.Text)"
   ]
  },
  {
   "cell_type": "code",
   "execution_count": null,
   "metadata": {},
   "outputs": [],
   "source": [
    "mask = [isinstance(item, (str, bytes)) for item in dfJ.Text]\n",
    "dfJ = dfJ.loc[mask]\n",
    "dfJ.Text = dfJ.Text.astype(str)"
   ]
  },
  {
   "cell_type": "code",
   "execution_count": null,
   "metadata": {
    "scrolled": true
   },
   "outputs": [],
   "source": [
    "dfJ = dfJ.Text\n",
    "print(dfJ)"
   ]
  },
  {
   "cell_type": "code",
   "execution_count": null,
   "metadata": {
    "scrolled": true
   },
   "outputs": [],
   "source": [
    "top_N = 25\n",
    "word_dist = nltk.FreqDist(dfJ)\n",
    "print('All frequencies')\n",
    "print('='*35)\n",
    "rslt=pd.DataFrame(word_dist.most_common(top_N),columns=['Word','Frequency'])\n",
    "print(rslt)"
   ]
  },
  {
   "cell_type": "code",
   "execution_count": null,
   "metadata": {
    "scrolled": true
   },
   "outputs": [],
   "source": [
    "t_N = 10\n",
    "r = pd.DataFrame(word_dist.most_common(t_N),\n",
    "                    columns=['Word', 'Frequency']).set_index('Word')\n",
    "matplotlib.style.use('ggplot')\n",
    "r.plot.bar(rot=0, width=0.5)"
   ]
  },
  {
   "cell_type": "code",
   "execution_count": null,
   "metadata": {
    "scrolled": true
   },
   "outputs": [],
   "source": [
    "dft = dfJ.apply(nltk.word_tokenize)\n",
    "print(dft)"
   ]
  },
  {
   "cell_type": "code",
   "execution_count": null,
   "metadata": {},
   "outputs": [],
   "source": [
    "lists =  dft\n",
    "words = []\n",
    "for wordList in lists:\n",
    "    words += wordList"
   ]
  },
  {
   "cell_type": "code",
   "execution_count": null,
   "metadata": {
    "scrolled": true
   },
   "outputs": [],
   "source": [
    "from nltk import FreqDist\n",
    "fdist = FreqDist(words)\n",
    "print(fdist)\n",
    "print(words)"
   ]
  },
  {
   "cell_type": "markdown",
   "metadata": {},
   "source": [
    "### Unigram"
   ]
  },
  {
   "cell_type": "code",
   "execution_count": null,
   "metadata": {
    "scrolled": true
   },
   "outputs": [],
   "source": [
    "top_N = 25\n",
    "word_dist = nltk.FreqDist(fdist)\n",
    "print('All frequencies')\n",
    "print('='*35)\n",
    "rslt=pd.DataFrame(word_dist.most_common(top_N),columns=['Word','Frequency'])\n",
    "print(rslt)"
   ]
  },
  {
   "cell_type": "code",
   "execution_count": null,
   "metadata": {
    "scrolled": true
   },
   "outputs": [],
   "source": [
    "t_N = 10\n",
    "r = pd.DataFrame(word_dist.most_common(t_N),\n",
    "                    columns=['Word', 'Frequency']).set_index('Word')\n",
    "matplotlib.style.use('ggplot')\n",
    "r.plot.bar(rot=0, width=0.5)"
   ]
  },
  {
   "cell_type": "markdown",
   "metadata": {},
   "source": [
    "### Bigram"
   ]
  },
  {
   "cell_type": "code",
   "execution_count": null,
   "metadata": {
    "scrolled": true
   },
   "outputs": [],
   "source": [
    "word_fd = nltk.FreqDist(words)\n",
    "bigram_fd = nltk.FreqDist(nltk.bigrams(words))\n",
    "bigram_fd.most_common(25)"
   ]
  },
  {
   "cell_type": "markdown",
   "metadata": {},
   "source": [
    "### Trigram"
   ]
  },
  {
   "cell_type": "code",
   "execution_count": null,
   "metadata": {
    "scrolled": true
   },
   "outputs": [],
   "source": [
    "word_fd = nltk.FreqDist(words)\n",
    "trigram_fd = nltk.FreqDist(nltk.trigrams(words))\n",
    "trigram_fd.most_common(25)"
   ]
  },
  {
   "cell_type": "code",
   "execution_count": null,
   "metadata": {},
   "outputs": [],
   "source": []
  },
  {
   "cell_type": "markdown",
   "metadata": {},
   "source": [
    "# Check Column N"
   ]
  },
  {
   "cell_type": "code",
   "execution_count": null,
   "metadata": {},
   "outputs": [],
   "source": [
    "dfN = df[df.N > 0]\n",
    "dfN.columns = ['E', 'P', 'Qc', 'Qi', 'Qr', 'Ra', 'Rm', 'Rd', 'S', 'J', 'N', 'C', 'Speaker', 'Text', 'Utterances', 'Unnamed']"
   ]
  },
  {
   "cell_type": "code",
   "execution_count": null,
   "metadata": {
    "scrolled": true
   },
   "outputs": [],
   "source": [
    "print(dfN)"
   ]
  },
  {
   "cell_type": "code",
   "execution_count": null,
   "metadata": {
    "scrolled": false
   },
   "outputs": [],
   "source": [
    "print(dfN.Text)"
   ]
  },
  {
   "cell_type": "code",
   "execution_count": null,
   "metadata": {},
   "outputs": [],
   "source": [
    "mask = [isinstance(item, (str, bytes)) for item in dfN.Text]\n",
    "dfN = dfN.loc[mask]\n",
    "dfN.Text = dfN.Text.astype(str)"
   ]
  },
  {
   "cell_type": "code",
   "execution_count": null,
   "metadata": {
    "scrolled": true
   },
   "outputs": [],
   "source": [
    "dfN = dfN.Text\n",
    "print(dfN)"
   ]
  },
  {
   "cell_type": "code",
   "execution_count": null,
   "metadata": {
    "scrolled": true
   },
   "outputs": [],
   "source": [
    "top_N = 25\n",
    "word_dist = nltk.FreqDist(dfN)\n",
    "print('All frequencies')\n",
    "print('='*35)\n",
    "rslt=pd.DataFrame(word_dist.most_common(top_N),columns=['Word','Frequency'])\n",
    "print(rslt)"
   ]
  },
  {
   "cell_type": "code",
   "execution_count": null,
   "metadata": {
    "scrolled": true
   },
   "outputs": [],
   "source": [
    "t_N = 10\n",
    "r = pd.DataFrame(word_dist.most_common(t_N),\n",
    "                    columns=['Word', 'Frequency']).set_index('Word')\n",
    "matplotlib.style.use('ggplot')\n",
    "r.plot.bar(rot=0, width=0.5)"
   ]
  },
  {
   "cell_type": "code",
   "execution_count": null,
   "metadata": {
    "scrolled": true
   },
   "outputs": [],
   "source": [
    "dft = dfN.apply(nltk.word_tokenize)\n",
    "print(dft)"
   ]
  },
  {
   "cell_type": "code",
   "execution_count": null,
   "metadata": {},
   "outputs": [],
   "source": [
    "lists =  dft\n",
    "words = []\n",
    "for wordList in lists:\n",
    "    words += wordList"
   ]
  },
  {
   "cell_type": "code",
   "execution_count": null,
   "metadata": {
    "scrolled": false
   },
   "outputs": [],
   "source": [
    "from nltk import FreqDist\n",
    "fdist = FreqDist(words)\n",
    "print(fdist)\n",
    "print(words)"
   ]
  },
  {
   "cell_type": "markdown",
   "metadata": {},
   "source": [
    "### Unigram"
   ]
  },
  {
   "cell_type": "code",
   "execution_count": null,
   "metadata": {},
   "outputs": [],
   "source": [
    "top_N = 25\n",
    "word_dist = nltk.FreqDist(fdist)\n",
    "print('All frequencies')\n",
    "print('='*35)\n",
    "rslt=pd.DataFrame(word_dist.most_common(top_N),columns=['Word','Frequency'])\n",
    "print(rslt)"
   ]
  },
  {
   "cell_type": "code",
   "execution_count": null,
   "metadata": {},
   "outputs": [],
   "source": [
    "t_N = 10\n",
    "r = pd.DataFrame(word_dist.most_common(t_N),\n",
    "                    columns=['Word', 'Frequency']).set_index('Word')\n",
    "matplotlib.style.use('ggplot')\n",
    "r.plot.bar(rot=0, width=0.5)"
   ]
  },
  {
   "cell_type": "markdown",
   "metadata": {},
   "source": [
    "### Bigram"
   ]
  },
  {
   "cell_type": "code",
   "execution_count": null,
   "metadata": {
    "scrolled": true
   },
   "outputs": [],
   "source": [
    "word_fd = nltk.FreqDist(words)\n",
    "bigram_fd = nltk.FreqDist(nltk.bigrams(words))\n",
    "bigram_fd.most_common(25)"
   ]
  },
  {
   "cell_type": "markdown",
   "metadata": {},
   "source": [
    "### Trigram"
   ]
  },
  {
   "cell_type": "code",
   "execution_count": null,
   "metadata": {
    "scrolled": false
   },
   "outputs": [],
   "source": [
    "word_fd = nltk.FreqDist(words)\n",
    "trigram_fd = nltk.FreqDist(nltk.trigrams(words))\n",
    "trigram_fd.most_common(25)"
   ]
  },
  {
   "cell_type": "code",
   "execution_count": null,
   "metadata": {},
   "outputs": [],
   "source": []
  },
  {
   "cell_type": "markdown",
   "metadata": {},
   "source": [
    "# Check Column C"
   ]
  },
  {
   "cell_type": "code",
   "execution_count": null,
   "metadata": {},
   "outputs": [],
   "source": [
    "dfC = df[df.C > 0]\n",
    "dfC.columns = ['E', 'P', 'Qc', 'Qi', 'Qr', 'Ra', 'Rm', 'Rd', 'S', 'J', 'N', 'C', 'Speaker', 'Text', 'Utterances', 'Unnamed']"
   ]
  },
  {
   "cell_type": "code",
   "execution_count": null,
   "metadata": {
    "scrolled": true
   },
   "outputs": [],
   "source": [
    "print(dfC)"
   ]
  },
  {
   "cell_type": "code",
   "execution_count": null,
   "metadata": {
    "scrolled": true
   },
   "outputs": [],
   "source": [
    "print(dfC.Text)"
   ]
  },
  {
   "cell_type": "code",
   "execution_count": null,
   "metadata": {},
   "outputs": [],
   "source": [
    "mask = [isinstance(item, (str, bytes)) for item in dfC.Text]\n",
    "dfC = dfC.loc[mask]\n",
    "dfC.Text = dfC.Text.astype(str)"
   ]
  },
  {
   "cell_type": "code",
   "execution_count": null,
   "metadata": {
    "scrolled": true
   },
   "outputs": [],
   "source": [
    "dfC = dfC.Text\n",
    "print(dfC)"
   ]
  },
  {
   "cell_type": "code",
   "execution_count": null,
   "metadata": {
    "scrolled": true
   },
   "outputs": [],
   "source": [
    "top_N = 25\n",
    "word_dist = nltk.FreqDist(dfC)\n",
    "print('All frequencies')\n",
    "print('='*35)\n",
    "rslt=pd.DataFrame(word_dist.most_common(top_N),columns=['Word','Frequency'])\n",
    "print(rslt)"
   ]
  },
  {
   "cell_type": "code",
   "execution_count": null,
   "metadata": {
    "scrolled": true
   },
   "outputs": [],
   "source": [
    "t_N = 10\n",
    "r = pd.DataFrame(word_dist.most_common(t_N),\n",
    "                    columns=['Word', 'Frequency']).set_index('Word')\n",
    "matplotlib.style.use('ggplot')\n",
    "r.plot.bar(rot=0, width=0.5)"
   ]
  },
  {
   "cell_type": "code",
   "execution_count": null,
   "metadata": {
    "scrolled": true
   },
   "outputs": [],
   "source": [
    "dft = dfC.apply(nltk.word_tokenize)\n",
    "print(dft)"
   ]
  },
  {
   "cell_type": "code",
   "execution_count": null,
   "metadata": {},
   "outputs": [],
   "source": [
    "lists =  dft\n",
    "words = []\n",
    "for wordList in lists:\n",
    "    words += wordList"
   ]
  },
  {
   "cell_type": "code",
   "execution_count": null,
   "metadata": {
    "scrolled": false
   },
   "outputs": [],
   "source": [
    "from nltk import FreqDist\n",
    "fdist = FreqDist(words)\n",
    "print(fdist)\n",
    "print(words)"
   ]
  },
  {
   "cell_type": "markdown",
   "metadata": {},
   "source": [
    "### Unigram"
   ]
  },
  {
   "cell_type": "code",
   "execution_count": null,
   "metadata": {},
   "outputs": [],
   "source": [
    "top_N = 25\n",
    "word_dist = nltk.FreqDist(fdist)\n",
    "print('All frequencies')\n",
    "print('='*35)\n",
    "rslt=pd.DataFrame(word_dist.most_common(top_N),columns=['Word','Frequency'])\n",
    "print(rslt)"
   ]
  },
  {
   "cell_type": "code",
   "execution_count": null,
   "metadata": {},
   "outputs": [],
   "source": [
    "t_N = 10\n",
    "r = pd.DataFrame(word_dist.most_common(t_N),\n",
    "                    columns=['Word', 'Frequency']).set_index('Word')\n",
    "matplotlib.style.use('ggplot')\n",
    "r.plot.bar(rot=0, width=0.5)"
   ]
  },
  {
   "cell_type": "markdown",
   "metadata": {},
   "source": [
    "### Bigram"
   ]
  },
  {
   "cell_type": "code",
   "execution_count": null,
   "metadata": {},
   "outputs": [],
   "source": [
    "word_fd = nltk.FreqDist(words)\n",
    "bigram_fd = nltk.FreqDist(nltk.bigrams(words))\n",
    "bigram_fd.most_common(25)"
   ]
  },
  {
   "cell_type": "markdown",
   "metadata": {},
   "source": [
    "### Trigram"
   ]
  },
  {
   "cell_type": "code",
   "execution_count": null,
   "metadata": {
    "scrolled": false
   },
   "outputs": [],
   "source": [
    "word_fd = nltk.FreqDist(words)\n",
    "trigram_fd = nltk.FreqDist(nltk.trigrams(words))\n",
    "trigram_fd.most_common(25)"
   ]
  }
 ],
 "metadata": {
  "kernelspec": {
   "display_name": "Python 3",
   "language": "python",
   "name": "python3"
  },
  "language_info": {
   "codemirror_mode": {
    "name": "ipython",
    "version": 3
   },
   "file_extension": ".py",
   "mimetype": "text/x-python",
   "name": "python",
   "nbconvert_exporter": "python",
   "pygments_lexer": "ipython3",
   "version": "3.8.5"
  }
 },
 "nbformat": 4,
 "nbformat_minor": 4
}
